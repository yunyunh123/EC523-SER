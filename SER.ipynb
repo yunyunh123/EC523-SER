{
 "cells": [
  {
   "cell_type": "code",
   "execution_count": 1,
   "id": "2711227f",
   "metadata": {},
   "outputs": [
    {
     "name": "stdout",
     "output_type": "stream",
     "text": [
      "Defaulting to user installation because normal site-packages is not writeable\n",
      "Requirement already satisfied: librosa in /home/arthurus-rex/.local/lib/python3.10/site-packages (0.10.1)\n",
      "Requirement already satisfied: audioread>=2.1.9 in /home/arthurus-rex/.local/lib/python3.10/site-packages (from librosa) (3.0.1)\n",
      "Requirement already satisfied: numpy!=1.22.0,!=1.22.1,!=1.22.2,>=1.20.3 in /usr/lib/python3/dist-packages (from librosa) (1.21.5)\n",
      "Requirement already satisfied: scipy>=1.2.0 in /usr/lib/python3/dist-packages (from librosa) (1.8.0)\n",
      "Requirement already satisfied: scikit-learn>=0.20.0 in /home/arthurus-rex/.local/lib/python3.10/site-packages (from librosa) (1.3.1)\n",
      "Requirement already satisfied: joblib>=0.14 in /home/arthurus-rex/.local/lib/python3.10/site-packages (from librosa) (1.3.2)\n",
      "Requirement already satisfied: decorator>=4.3.0 in /usr/lib/python3/dist-packages (from librosa) (4.4.2)\n",
      "Requirement already satisfied: numba>=0.51.0 in /usr/lib/python3/dist-packages (from librosa) (0.55.1)\n",
      "Requirement already satisfied: soundfile>=0.12.1 in /home/arthurus-rex/.local/lib/python3.10/site-packages (from librosa) (0.12.1)\n",
      "Requirement already satisfied: pooch>=1.0 in /home/arthurus-rex/.local/lib/python3.10/site-packages (from librosa) (1.8.1)\n",
      "Requirement already satisfied: soxr>=0.3.2 in /home/arthurus-rex/.local/lib/python3.10/site-packages (from librosa) (0.3.7)\n",
      "Requirement already satisfied: typing-extensions>=4.1.1 in /home/arthurus-rex/.local/lib/python3.10/site-packages (from librosa) (4.10.0)\n",
      "Requirement already satisfied: lazy-loader>=0.1 in /home/arthurus-rex/.local/lib/python3.10/site-packages (from librosa) (0.2)\n",
      "Requirement already satisfied: msgpack>=1.0 in /home/arthurus-rex/.local/lib/python3.10/site-packages (from librosa) (1.0.8)\n",
      "Requirement already satisfied: platformdirs>=2.5.0 in /home/arthurus-rex/.local/lib/python3.10/site-packages (from pooch>=1.0->librosa) (3.10.0)\n",
      "Requirement already satisfied: packaging>=20.0 in /usr/lib/python3/dist-packages (from pooch>=1.0->librosa) (21.3)\n",
      "Requirement already satisfied: requests>=2.19.0 in /home/arthurus-rex/.local/lib/python3.10/site-packages (from pooch>=1.0->librosa) (2.31.0)\n",
      "Requirement already satisfied: threadpoolctl>=2.0.0 in /home/arthurus-rex/.local/lib/python3.10/site-packages (from scikit-learn>=0.20.0->librosa) (3.2.0)\n",
      "Requirement already satisfied: cffi>=1.0 in /home/arthurus-rex/.local/lib/python3.10/site-packages (from soundfile>=0.12.1->librosa) (1.15.1)\n",
      "Requirement already satisfied: pycparser in /home/arthurus-rex/.local/lib/python3.10/site-packages (from cffi>=1.0->soundfile>=0.12.1->librosa) (2.21)\n",
      "Requirement already satisfied: charset-normalizer<4,>=2 in /home/arthurus-rex/.local/lib/python3.10/site-packages (from requests>=2.19.0->pooch>=1.0->librosa) (3.3.1)\n",
      "Requirement already satisfied: idna<4,>=2.5 in /usr/lib/python3/dist-packages (from requests>=2.19.0->pooch>=1.0->librosa) (3.3)\n",
      "Requirement already satisfied: urllib3<3,>=1.21.1 in /home/arthurus-rex/.local/lib/python3.10/site-packages (from requests>=2.19.0->pooch>=1.0->librosa) (1.24.3)\n",
      "Requirement already satisfied: certifi>=2017.4.17 in /home/arthurus-rex/.local/lib/python3.10/site-packages (from requests>=2.19.0->pooch>=1.0->librosa) (2024.2.2)\n",
      "Defaulting to user installation because normal site-packages is not writeable\n",
      "Requirement already satisfied: opendatasets in /home/arthurus-rex/.local/lib/python3.10/site-packages (0.1.22)\n",
      "Requirement already satisfied: tqdm in /home/arthurus-rex/.local/lib/python3.10/site-packages (from opendatasets) (4.65.0)\n",
      "Requirement already satisfied: kaggle in /home/arthurus-rex/.local/lib/python3.10/site-packages (from opendatasets) (1.6.8)\n",
      "Requirement already satisfied: click in /usr/lib/python3/dist-packages (from opendatasets) (8.0.3)\n",
      "Requirement already satisfied: bleach in /usr/lib/python3/dist-packages (from kaggle->opendatasets) (4.1.0)\n",
      "Requirement already satisfied: certifi>=2023.7.22 in /home/arthurus-rex/.local/lib/python3.10/site-packages (from kaggle->opendatasets) (2024.2.2)\n",
      "Requirement already satisfied: python-dateutil in /home/arthurus-rex/.local/lib/python3.10/site-packages (from kaggle->opendatasets) (2.8.2)\n",
      "Requirement already satisfied: python-slugify in /home/arthurus-rex/.local/lib/python3.10/site-packages (from kaggle->opendatasets) (8.0.4)\n",
      "Requirement already satisfied: requests in /home/arthurus-rex/.local/lib/python3.10/site-packages (from kaggle->opendatasets) (2.31.0)\n",
      "Requirement already satisfied: six>=1.10 in /home/arthurus-rex/.local/lib/python3.10/site-packages (from kaggle->opendatasets) (1.12.0)\n",
      "Requirement already satisfied: urllib3 in /home/arthurus-rex/.local/lib/python3.10/site-packages (from kaggle->opendatasets) (1.24.3)\n",
      "Requirement already satisfied: text-unidecode>=1.3 in /home/arthurus-rex/.local/lib/python3.10/site-packages (from python-slugify->kaggle->opendatasets) (1.3)\n",
      "Requirement already satisfied: charset-normalizer<4,>=2 in /home/arthurus-rex/.local/lib/python3.10/site-packages (from requests->kaggle->opendatasets) (3.3.1)\n",
      "Requirement already satisfied: idna<4,>=2.5 in /usr/lib/python3/dist-packages (from requests->kaggle->opendatasets) (3.3)\n",
      "cpu\n"
     ]
    }
   ],
   "source": [
    "# Import libraries\n",
    "import torch\n",
    "import torchaudio\n",
    "from torch.utils.data import Dataset, DataLoader\n",
    "import torch.nn as nn\n",
    "import torch.nn.functional as F\n",
    "import IPython\n",
    "import matplotlib.pyplot as plt\n",
    "from torchaudio.utils import download_asset\n",
    "import numpy as np\n",
    "import pandas as pd\n",
    "\n",
    "!pip install librosa\n",
    "import librosa\n",
    "\n",
    "!pip install opendatasets\n",
    "\n",
    "device = torch.device(\"cuda\" if torch.cuda.is_available() else \"cpu\")\n",
    "print(device)"
   ]
  },
  {
   "cell_type": "code",
   "execution_count": 2,
   "id": "bf14d497",
   "metadata": {},
   "outputs": [
    {
     "name": "stdout",
     "output_type": "stream",
     "text": [
      "tensor([ 1.5259e-04,  9.1553e-05, -9.1553e-05,  ...,  1.2207e-04,\n",
      "         3.0518e-04,  0.0000e+00])\n",
      "anger\n",
      "                                                filename speaker_n intensity  \\\n",
      "0      ./datasets/berlin-database-of-emotional-speech...        11        NA   \n",
      "1      ./datasets/berlin-database-of-emotional-speech...        13        NA   \n",
      "2      ./datasets/berlin-database-of-emotional-speech...        15        NA   \n",
      "3      ./datasets/berlin-database-of-emotional-speech...        16        NA   \n",
      "4      ./datasets/berlin-database-of-emotional-speech...        11        NA   \n",
      "...                                                  ...       ...       ...   \n",
      "15692  ./datasets/shemo-persian-speech-emotion-detect...        11        NA   \n",
      "15693  ./datasets/shemo-persian-speech-emotion-detect...        20        NA   \n",
      "15694  ./datasets/shemo-persian-speech-emotion-detect...        01        NA   \n",
      "15695  ./datasets/shemo-persian-speech-emotion-detect...        19        NA   \n",
      "15696  ./datasets/shemo-persian-speech-emotion-detect...        24        NA   \n",
      "\n",
      "        emotion version language database  \n",
      "0         anger       c   german    emodb  \n",
      "1         anger       a   german    emodb  \n",
      "2         anger       b   german    emodb  \n",
      "3       sadness       d   german    emodb  \n",
      "4         bored       d   german    emodb  \n",
      "...         ...     ...      ...      ...  \n",
      "15692   neutral       8  persian    shemo  \n",
      "15693   neutral      16  persian    shemo  \n",
      "15694   neutral       4  persian    shemo  \n",
      "15695   sadness       4  persian    shemo  \n",
      "15696  surprise       3  persian    shemo  \n",
      "\n",
      "[15697 rows x 7 columns]\n"
     ]
    }
   ],
   "source": [
    "from torch.utils.data import DataLoader\n",
    "from dataset import download_datasets, SpeechEmotionDataset, get_dataset_info\n",
    "\n",
    "\n",
    "# Specify the directory you want the datasets to be contained in\n",
    "!mkdir -p datasets\n",
    "dataset_dir = \"./datasets\"\n",
    "\n",
    "\n",
    "# Only needed to run this code once\n",
    "'''\n",
    "# Download a single dataset\n",
    "download_datasets(dataset_dir, dname=\"emodb\")\n",
    "\n",
    "# Download the rest of the datasets available\n",
    "download_datasets(dataset_dir)\n",
    "'''\n",
    "\n",
    "# Acquire info on datasets (those that have functions to get data for)\n",
    "df = get_dataset_info(dataset_dir)\n",
    "\n",
    "# Make into a Dataset object that a pytorch optimizer can use\n",
    "# Can optionally specify a sampling rate for all audio files to be in\n",
    "trainset = SpeechEmotionDataset(df, fs=16000)\n",
    "\n",
    "# Check it works\n",
    "trainset = SpeechEmotionDataset(df, fs=16000)\n",
    "dataiter = iter(trainset)\n",
    "data, label = next(dataiter)\n",
    "print(data)\n",
    "print(label)\n",
    "print(df) # columns are: filename, speaker_n, intensity, emotion, version, language, database \n",
    "\n",
    "# Put into a dataloader\n",
    "trainloader = DataLoader(trainset, batch_size=4, shuffle=True, num_workers=1)\n"
   ]
  },
  {
   "cell_type": "code",
   "execution_count": 3,
   "id": "48199cbd",
   "metadata": {},
   "outputs": [
    {
     "name": "stdout",
     "output_type": "stream",
     "text": [
      "Sample rate:  16000\n",
      "Labels:  ('-', '|', 'E', 'T', 'A', 'O', 'N', 'I', 'H', 'S', 'R', 'D', 'L', 'U', 'M', 'W', 'C', 'F', 'G', 'Y', 'P', 'B', 'V', 'K', \"'\", 'X', 'J', 'Q', 'Z')\n"
     ]
    }
   ],
   "source": [
    "'''\n",
    "Feature Extraction\n",
    "1) Wav2vec2 model\n",
    "'''\n",
    "bundle = torchaudio.pipelines.WAV2VEC2_ASR_BASE_960H # can choose another wav2vec2 model\n",
    "print(\"Sample rate: \", bundle.sample_rate)\n",
    "print(\"Labels: \", bundle.get_labels())\n",
    "model = bundle.get_model().to(device)\n",
    "\n",
    "# Example audio\n",
    "SPEECH_FILE = download_asset(\"tutorial-assets/Lab41-SRI-VOiCES-src-sp0307-ch127535-sg0042.wav\")\n",
    "IPython.display.Audio(SPEECH_FILE)\n",
    "waveform, sample_rate = torchaudio.load(SPEECH_FILE)\n",
    "waveform = waveform.to(device)\n",
    "# Resample example audio if its sample rate doesn't match the pipeline's sample rate\n",
    "if sample_rate != bundle.sample_rate:\n",
    "    print(\"Audio vs Bundle sample rate: \", sample_rate, bundle.sample_rate)\n",
    "    waveform = torchaudio.functional.resample(waveform, sample_rate, bundle.sample_rate)\n",
    "    \n",
    "# Extract features\n",
    "with torch.inference_mode():\n",
    "    features, _ = model.extract_features(waveform)\n",
    "    "
   ]
  },
  {
   "cell_type": "code",
   "execution_count": 4,
   "id": "7d89a9cb",
   "metadata": {},
   "outputs": [],
   "source": [
    "'''\n",
    "Feature Extraction\n",
    "2) Hand-crafted features: ZCR, RMSE, MFCC\n",
    "\n",
    "This is an example of the feature extraction done in extract_dataset_features()\n",
    "'''\n",
    "X, sample_rate = librosa.load('./datasets/berlin-database-of-emotional-speech-emodb/wav/03a01Fa.wav')\n",
    "mfccs = np.mean(librosa.feature.mfcc(y=X, n_mfcc=25,), axis = 0) # calculating mean?\n",
    "rms = librosa.feature.rms(y=X) # root mean square value for each frame of audio sample\n",
    "zcr = librosa.feature.zero_crossing_rate(y=X) # zero crossing rate of audio time series"
   ]
  },
  {
   "cell_type": "code",
   "execution_count": 5,
   "id": "7f85300f",
   "metadata": {},
   "outputs": [
    {
     "data": {
      "text/plain": [
       "<librosa.display.AdaptiveWaveplot at 0x7f8715d66980>"
      ]
     },
     "execution_count": 5,
     "metadata": {},
     "output_type": "execute_result"
    },
    {
     "data": {
      "image/png": "[encoded data removed]",
      "text/plain": [
       "<Figure size 720x360 with 1 Axes>"
      ]
     },
     "metadata": {
      "needs_background": "light"
     },
     "output_type": "display_data"
    }
   ],
   "source": [
    "# Let's visualize what we are doing!\n",
    "# some of this code taken from https://github.com/MiteshPuthran/Speech-Emotion-Analyzer/blob/master/final_results_gender_test.ipynb\n",
    "import librosa.display\n",
    "import matplotlib.pyplot as plt\n",
    "\n",
    "plt.figure(figsize=(10,5))\n",
    "librosa.display.waveshow(X, sr=sample_rate)"
   ]
  },
  {
   "cell_type": "code",
   "execution_count": 13,
   "id": "aae3d827",
   "metadata": {},
   "outputs": [],
   "source": [
    "# putting features into dataframes\n",
    "import os\n",
    "from dataset import extract_dataset_features\n",
    "\n",
    "# needs \"/\" at end of filepath\n",
    "data_filepath = \"./datasets/berlin-database-of-emotional-speech-emodb/wav/\"\n",
    "features_df = extract_dataset_features(data_filepath, df)\n",
    "#print(features_df)"
   ]
  },
  {
   "cell_type": "code",
   "execution_count": 18,
   "id": "b8a50d8b",
   "metadata": {},
   "outputs": [
    {
     "data": {
      "text/plain": [
       "10496"
      ]
     },
     "execution_count": 18,
     "metadata": {},
     "output_type": "execute_result"
    },
    {
     "data": {
      "image/png": "[encoded data removed]",
      "text/plain": [
       "<Figure size 432x288 with 1 Axes>"
      ]
     },
     "metadata": {},
     "output_type": "display_data"
    }
   ],
   "source": [
    "\"\"\"\n",
    "Creating spectrograms from features_df\n",
    "\n",
    "From this blog post: https://towardsdatascience.com/cnns-for-audio-classification-6244954665ab\n",
    "\n",
    "\"\"\"\n",
    "\n",
    "def generate_features(y_cut):\n",
    "    max_size=1000 #my max audio file feature width\n",
    "    stft = padding(np.abs(librosa.stft(y_cut, n_fft=255, hop_length        = 512)), 128, max_size)\n",
    "    MFCCs = padding(librosa.feature.mfcc(y_cut, n_fft=n_fft, hop_length=hop_length,n_mfcc=128),128,max_size)\n",
    "    spec_centroid = librosa.feature.spectral_centroid(y=y_cut, sr=sr)\n",
    "    chroma_stft = librosa.feature.chroma_stft(y=y_cut, sr=sr)\n",
    "    spec_bw = librosa.feature.spectral_bandwidth(y=y_cut, sr=sr)    #Now the padding part\n",
    "    image = np.array([padding(normalize(spec_bw),1, max_size)]).reshape(1,max_size)\n",
    "    image = np.append(image,padding(normalize(spec_centroid),1, max_size), axis=0) #repeat the padded spec_bw,spec_centroid and chroma stft until they are stft and MFCC-sized\n",
    "    for i in range(0,9):\n",
    "        image = np.append(image,padding(normalize(spec_bw),1, max_size), axis=0)\n",
    "        image = np.append(image, padding(normalize(spec_centroid),1, max_size), axis=0)\n",
    "        image = np.append(image, padding(normalize(chroma_stft),12, max_size), axis=0)\n",
    "    image=np.dstack((image,np.abs(stft)))\n",
    "    image=np.dstack((image,MFCCs))\n",
    "    return image\n",
    "\n",
    "\n",
    "\n",
    "# displaying sample Mel spectrogram\n",
    "S = librosa.feature.melspectrogram(y=X, sr=sample_rate)\n",
    "librosa.display.specshow(librosa.power_to_db(S, ref=np.max))\n",
    "S.size\n"
   ]
  },
  {
   "cell_type": "code",
   "execution_count": 25,
   "id": "cb137ae3",
   "metadata": {},
   "outputs": [
    {
     "name": "stdout",
     "output_type": "stream",
     "text": [
      "torch.Size([1, 401, 200])\n"
     ]
    }
   ],
   "source": [
    "\"\"\"\n",
    "This is a different way to create spectrograms and automatically save as a Tensor\n",
    "\n",
    "Taken from:\n",
    "https://pytorch.org/audio/stable/generated/torchaudio.transforms.Spectrogram.html\n",
    "\n",
    "\"\"\"\n",
    "\n",
    "waveform, sample_rate = torchaudio.load(\"./datasets/berlin-database-of-emotional-speech-emodb/wav/13b03Td.wav\", normalize=True)\n",
    "transform = torchaudio.transforms.Spectrogram(n_fft=800)\n",
    "spectrogram = transform(waveform)\n",
    "\n",
    "print(spectrogram.size())"
   ]
  },
  {
   "cell_type": "code",
   "execution_count": 7,
   "id": "7aadf0e0",
   "metadata": {},
   "outputs": [],
   "source": [
    "# Now let's shuffle these boiz\n",
    "from sklearn.model_selection import train_test_split\n",
    "\n",
    "train, test = train_test_split(features_df, test_size=0.2, random_state=42, shuffle=True)\n"
   ]
  },
  {
   "cell_type": "code",
   "execution_count": 8,
   "id": "4f713cc8",
   "metadata": {},
   "outputs": [
    {
     "name": "stderr",
     "output_type": "stream",
     "text": [
      "/home/arthurus-rex/.local/lib/python3.10/site-packages/torchvision/io/image.py:13: UserWarning: Failed to load image Python extension: '/home/arthurus-rex/.local/lib/python3.10/site-packages/torchvision/image.so: undefined symbol: _ZN3c1017RegisterOperatorsD1Ev'If you don't plan on using image functionality from `torchvision.io`, you can ignore this warning. Otherwise, there might be something wrong with your environment. Did you have `libjpeg` or `libpng` installed before building `torchvision` from source?\n",
      "  warn(\n",
      "/home/arthurus-rex/.local/lib/python3.10/site-packages/transformers/utils/generic.py:441: UserWarning: torch.utils._pytree._register_pytree_node is deprecated. Please use torch.utils._pytree.register_pytree_node instead.\n",
      "  _torch_pytree._register_pytree_node(\n"
     ]
    }
   ],
   "source": [
    "import torch\n",
    "import torchvision\n",
    "import matplotlib.pyplot as plt\n",
    "import numpy as np\n",
    "import os\n",
    "import torchvision.transforms as transforms\n",
    "import torch.nn as nn\n",
    "import torch.nn.functional as F\n",
    "import torch.optim as optim\n",
    "\n",
    "%matplotlib inline\n",
    "\n",
    "from torchvision import datasets\n",
    "from sklearn.metrics import f1_score, accuracy_score, recall_score, precision_score"
   ]
  },
  {
   "cell_type": "code",
   "execution_count": 9,
   "id": "b2e988ac",
   "metadata": {},
   "outputs": [],
   "source": [
    "seed = 42\n",
    "torch.manual_seed(seed)\n",
    "if torch.cuda.is_available():\n",
    "    torch.cuda.manual_seed_all(seed)"
   ]
  },
  {
   "cell_type": "code",
   "execution_count": 10,
   "id": "b65a6f9f",
   "metadata": {},
   "outputs": [],
   "source": [
    "\"\"\"\n",
    "Building Network architecture based on the paper:\n",
    "Human–Computer Interaction with a Real-Time Speech\n",
    "Emotion Recognition with Ensembling Techniques 1D\n",
    "Convolution Neural Network and Attention\n",
    "(https://doi.org/10.3390/s23031386)\n",
    "\n",
    "We are taking the output of CNN as the input of LSTM.\n",
    "CNN captures local patterns in audio features, and\n",
    "LSTM learns temporal dependencies before making final prediction. This supports\n",
    "robust sequence prediction.\n",
    "\"\"\"\n",
    "\n",
    "import torch.nn as nn\n",
    "import torch.nn.functional as F\n",
    "\n",
    "class CNN_LSTM(nn.Module):\n",
    "    def __init__(self):\n",
    "        super(CNN_LSTM, self).__init__()\n",
    "        # bn = batch normalization\n",
    "        ####################\n",
    "        # Convolution blocks: 1dconv, batch norm, ReLU, max pooling\n",
    "        # Conv block 1\n",
    "        self.conv1 = nn.Conv1d(in_channels = 3, out_channels = 8, kernel_size = 3, padding = 1)\n",
    "        self.bn1 = nn.BatchNorm1d(8)\n",
    "\n",
    "        # Conv block 2\n",
    "        self.conv2 = nn.Conv1d(in_channels = 8, out_channels = 16, kernel_size = 3, padding = 1)\n",
    "        self.bn2 = nn.BatchNorm1d(16)\n",
    "\n",
    "        # Conv block 3\n",
    "        self.conv3 = nn.Conv1d(in_channels = 16, out_channels = 32, kernel_size = 3, padding = 1)\n",
    "        self.bn3 = nn.BatchNorm1d(32)\n",
    "\n",
    "        # Conv block 4\n",
    "        self.conv4 = nn.Conv1d(in_channels = 32, out_channels = 64, kernel_size = 3, padding = 1)\n",
    "        self.bn4 = nn.BatchNorm1d(64)\n",
    "\n",
    "        # Conv block 5\n",
    "        self.conv5 = nn.Conv1d(in_channels = 64, out_channels = 128, kernel_size = 3, padding = 1)\n",
    "        self.bn5 = nn.BatchNorm1d(128)\n",
    "\n",
    "        self.relu = nn.ReLU()\n",
    "        self.pool = nn.MaxPool1d(kernel_size = 2, stride = 2)\n",
    "        ####################\n",
    "\n",
    "        ####################\n",
    "        # LSTM + attention block\n",
    "        self.lstm1 = nn.LSTM(input_size = 128, hidden_size = 64, num_layers = 1, bias = True)\n",
    "\n",
    "        self.attention = nn.Linear(64, 1)\n",
    "        self.softmax = nn.Softmax(dim=1)\n",
    "\n",
    "        self.lstm2 = nn.LSTM(input_size = 64, hidden_size = 64, num_layers = 1, bias = True)\n",
    "        ####################\n",
    "\n",
    "\n",
    "        self.fc1 = nn.Linear(64, 32) # May need to increase 32 to capture more complex data (?)\n",
    "        self.bn6 = nn.BatchNorm1d(32)\n",
    "        self.fc2 = nn.Linear(32, 16)\n",
    "\n",
    "\n",
    "    def forward(self, x):\n",
    "        # Conv block 1\n",
    "        x = self.conv1(x)\n",
    "        x = self.bn1(x)\n",
    "        x = self.relu(x)\n",
    "        x = self.pool(x)\n",
    "\n",
    "        # Conv block 2\n",
    "        x = self.conv2(x)\n",
    "        x = self.bn2(x)\n",
    "        x = self.relu(x)\n",
    "        x = self.pool(x)\n",
    "\n",
    "        # Conv block 3\n",
    "        x = self.conv3(x)\n",
    "        x = self.bn3(x)\n",
    "        x = self.relu(x)\n",
    "        x = self.pool(x)\n",
    "\n",
    "        # Conv block 4\n",
    "        x = self.conv4(x)\n",
    "        x = self.bn4(x)\n",
    "        x = self.relu(x)\n",
    "        x = self.pool(x)\n",
    "\n",
    "        # Conv block 5\n",
    "        x = self.conv5(x)\n",
    "        x = self.bn5(x)\n",
    "        x = self.relu(x)\n",
    "        x = self.pool(x)\n",
    "\n",
    "        # LSTM + attention block\n",
    "        # output_tensor, hiddenstate = self.lstm()\n",
    "        lstm1_out, _ = self.lstm1(x)\n",
    "\n",
    "        attention_weights = self.softmax(self.attention(lstm1_out))\n",
    "        context = torch.sum(attention_weights * lstm1_out, dim=1)\n",
    "\n",
    "        lstm2_out, _ = self.lstm2(context.unsqueeze(-1))\n",
    "\n",
    "        # fully connected layers and softmax\n",
    "        x = self.fc1(lstm2_out.squeeze(1))\n",
    "        x = self.bn6(x)\n",
    "        x = self.fc2(x)\n",
    "\n",
    "        # Softmax for prediction\n",
    "        # F.softmax is used instead of self.softmax because it is not associated\n",
    "        # with any parameters\n",
    "        x = F.softmax(x, dim=1)\n",
    "\n",
    "        return x"
   ]
  },
  {
   "cell_type": "code",
   "execution_count": 11,
   "id": "5d571cc1",
   "metadata": {},
   "outputs": [],
   "source": [
    "device = torch.device('cuda' if torch.cuda.is_available() else 'cpu')\n",
    "\n",
    "net =  CNN_LSTM().to(device)\n",
    "criterion = nn.CrossEntropyLoss()\n",
    "optimizer =  optim.Adam(net.parameters(), lr=1e-4)"
   ]
  },
  {
   "cell_type": "code",
   "execution_count": 12,
   "id": "2ea1b57e",
   "metadata": {},
   "outputs": [
    {
     "ename": "RuntimeError",
     "evalue": "Caught RuntimeError in DataLoader worker process 0.\nOriginal Traceback (most recent call last):\n  File \"/home/arthurus-rex/.local/lib/python3.10/site-packages/torch/utils/data/_utils/worker.py\", line 308, in _worker_loop\n    data = fetcher.fetch(index)\n  File \"/home/arthurus-rex/.local/lib/python3.10/site-packages/torch/utils/data/_utils/fetch.py\", line 54, in fetch\n    return self.collate_fn(data)\n  File \"/home/arthurus-rex/.local/lib/python3.10/site-packages/torch/utils/data/_utils/collate.py\", line 277, in default_collate\n    return collate(batch, collate_fn_map=default_collate_fn_map)\n  File \"/home/arthurus-rex/.local/lib/python3.10/site-packages/torch/utils/data/_utils/collate.py\", line 144, in collate\n    return [collate(samples, collate_fn_map=collate_fn_map) for samples in transposed]  # Backwards compatibility.\n  File \"/home/arthurus-rex/.local/lib/python3.10/site-packages/torch/utils/data/_utils/collate.py\", line 144, in <listcomp>\n    return [collate(samples, collate_fn_map=collate_fn_map) for samples in transposed]  # Backwards compatibility.\n  File \"/home/arthurus-rex/.local/lib/python3.10/site-packages/torch/utils/data/_utils/collate.py\", line 121, in collate\n    return collate_fn_map[elem_type](batch, collate_fn_map=collate_fn_map)\n  File \"/home/arthurus-rex/.local/lib/python3.10/site-packages/torch/utils/data/_utils/collate.py\", line 174, in collate_tensor_fn\n    return torch.stack(batch, 0, out=out)\nRuntimeError: stack expects each tensor to be equal size, but got [36303] at entry 0 and [48582] at entry 1\n",
     "output_type": "error",
     "traceback": [
      "\u001b[0;31m---------------------------------------------------------------------------\u001b[0m",
      "\u001b[0;31mRuntimeError\u001b[0m                              Traceback (most recent call last)",
      "\u001b[0;32m/tmp/ipykernel_106096/2944005990.py\u001b[0m in \u001b[0;36m<module>\u001b[0;34m\u001b[0m\n\u001b[1;32m     28\u001b[0m     \u001b[0;32mreturn\u001b[0m \u001b[0mnet\u001b[0m\u001b[0;34m\u001b[0m\u001b[0;34m\u001b[0m\u001b[0m\n\u001b[1;32m     29\u001b[0m \u001b[0;34m\u001b[0m\u001b[0m\n\u001b[0;32m---> 30\u001b[0;31m \u001b[0mnet\u001b[0m \u001b[0;34m=\u001b[0m \u001b[0mtrain_on_features\u001b[0m\u001b[0;34m(\u001b[0m\u001b[0mnet\u001b[0m\u001b[0;34m,\u001b[0m \u001b[0moptimizer\u001b[0m\u001b[0;34m,\u001b[0m \u001b[0mdevice\u001b[0m\u001b[0;34m,\u001b[0m \u001b[0mtrainloader\u001b[0m\u001b[0;34m,\u001b[0m \u001b[0mcriterion\u001b[0m\u001b[0;34m)\u001b[0m\u001b[0;34m\u001b[0m\u001b[0;34m\u001b[0m\u001b[0m\n\u001b[0m",
      "\u001b[0;32m/tmp/ipykernel_106096/2944005990.py\u001b[0m in \u001b[0;36mtrain_on_features\u001b[0;34m(net, optimizer, device, trainloader, critrerion, epochs)\u001b[0m\n\u001b[1;32m     10\u001b[0m     \u001b[0mloss_min\u001b[0m \u001b[0;34m=\u001b[0m \u001b[0mfloat\u001b[0m\u001b[0;34m(\u001b[0m\u001b[0;34m'inf'\u001b[0m\u001b[0;34m)\u001b[0m\u001b[0;34m\u001b[0m\u001b[0;34m\u001b[0m\u001b[0m\n\u001b[1;32m     11\u001b[0m     \u001b[0;32mfor\u001b[0m \u001b[0mepoch\u001b[0m \u001b[0;32min\u001b[0m \u001b[0mrange\u001b[0m\u001b[0;34m(\u001b[0m\u001b[0mepochs\u001b[0m\u001b[0;34m)\u001b[0m\u001b[0;34m:\u001b[0m\u001b[0;34m\u001b[0m\u001b[0;34m\u001b[0m\u001b[0m\n\u001b[0;32m---> 12\u001b[0;31m         \u001b[0;32mfor\u001b[0m \u001b[0mi\u001b[0m\u001b[0;34m,\u001b[0m \u001b[0mdata\u001b[0m \u001b[0;32min\u001b[0m \u001b[0menumerate\u001b[0m\u001b[0;34m(\u001b[0m\u001b[0mtrainloader\u001b[0m\u001b[0;34m)\u001b[0m\u001b[0;34m:\u001b[0m\u001b[0;34m\u001b[0m\u001b[0;34m\u001b[0m\u001b[0m\n\u001b[0m\u001b[1;32m     13\u001b[0m             \u001b[0minputs\u001b[0m\u001b[0;34m,\u001b[0m \u001b[0mlabels\u001b[0m \u001b[0;34m=\u001b[0m \u001b[0mdata\u001b[0m\u001b[0;34m\u001b[0m\u001b[0;34m\u001b[0m\u001b[0m\n\u001b[1;32m     14\u001b[0m             \u001b[0minputs\u001b[0m\u001b[0;34m,\u001b[0m \u001b[0mlabels\u001b[0m \u001b[0;34m=\u001b[0m \u001b[0minputs\u001b[0m\u001b[0;34m.\u001b[0m\u001b[0mto\u001b[0m\u001b[0;34m(\u001b[0m\u001b[0mdevice\u001b[0m\u001b[0;34m)\u001b[0m\u001b[0;34m,\u001b[0m \u001b[0mlabels\u001b[0m\u001b[0;34m.\u001b[0m\u001b[0mto\u001b[0m\u001b[0;34m(\u001b[0m\u001b[0mdevice\u001b[0m\u001b[0;34m)\u001b[0m\u001b[0;34m\u001b[0m\u001b[0;34m\u001b[0m\u001b[0m\n",
      "\u001b[0;32m~/.local/lib/python3.10/site-packages/torch/utils/data/dataloader.py\u001b[0m in \u001b[0;36m__next__\u001b[0;34m(self)\u001b[0m\n\u001b[1;32m    629\u001b[0m                 \u001b[0;31m# TODO(https://github.com/pytorch/pytorch/issues/76750)\u001b[0m\u001b[0;34m\u001b[0m\u001b[0;34m\u001b[0m\u001b[0m\n\u001b[1;32m    630\u001b[0m                 \u001b[0mself\u001b[0m\u001b[0;34m.\u001b[0m\u001b[0m_reset\u001b[0m\u001b[0;34m(\u001b[0m\u001b[0;34m)\u001b[0m  \u001b[0;31m# type: ignore[call-arg]\u001b[0m\u001b[0;34m\u001b[0m\u001b[0;34m\u001b[0m\u001b[0m\n\u001b[0;32m--> 631\u001b[0;31m             \u001b[0mdata\u001b[0m \u001b[0;34m=\u001b[0m \u001b[0mself\u001b[0m\u001b[0;34m.\u001b[0m\u001b[0m_next_data\u001b[0m\u001b[0;34m(\u001b[0m\u001b[0;34m)\u001b[0m\u001b[0;34m\u001b[0m\u001b[0;34m\u001b[0m\u001b[0m\n\u001b[0m\u001b[1;32m    632\u001b[0m             \u001b[0mself\u001b[0m\u001b[0;34m.\u001b[0m\u001b[0m_num_yielded\u001b[0m \u001b[0;34m+=\u001b[0m \u001b[0;36m1\u001b[0m\u001b[0;34m\u001b[0m\u001b[0;34m\u001b[0m\u001b[0m\n\u001b[1;32m    633\u001b[0m             \u001b[0;32mif\u001b[0m \u001b[0mself\u001b[0m\u001b[0;34m.\u001b[0m\u001b[0m_dataset_kind\u001b[0m \u001b[0;34m==\u001b[0m \u001b[0m_DatasetKind\u001b[0m\u001b[0;34m.\u001b[0m\u001b[0mIterable\u001b[0m \u001b[0;32mand\u001b[0m\u001b[0;31m \u001b[0m\u001b[0;31m\\\u001b[0m\u001b[0;34m\u001b[0m\u001b[0;34m\u001b[0m\u001b[0m\n",
      "\u001b[0;32m~/.local/lib/python3.10/site-packages/torch/utils/data/dataloader.py\u001b[0m in \u001b[0;36m_next_data\u001b[0;34m(self)\u001b[0m\n\u001b[1;32m   1344\u001b[0m             \u001b[0;32melse\u001b[0m\u001b[0;34m:\u001b[0m\u001b[0;34m\u001b[0m\u001b[0;34m\u001b[0m\u001b[0m\n\u001b[1;32m   1345\u001b[0m                 \u001b[0;32mdel\u001b[0m \u001b[0mself\u001b[0m\u001b[0;34m.\u001b[0m\u001b[0m_task_info\u001b[0m\u001b[0;34m[\u001b[0m\u001b[0midx\u001b[0m\u001b[0;34m]\u001b[0m\u001b[0;34m\u001b[0m\u001b[0;34m\u001b[0m\u001b[0m\n\u001b[0;32m-> 1346\u001b[0;31m                 \u001b[0;32mreturn\u001b[0m \u001b[0mself\u001b[0m\u001b[0;34m.\u001b[0m\u001b[0m_process_data\u001b[0m\u001b[0;34m(\u001b[0m\u001b[0mdata\u001b[0m\u001b[0;34m)\u001b[0m\u001b[0;34m\u001b[0m\u001b[0;34m\u001b[0m\u001b[0m\n\u001b[0m\u001b[1;32m   1347\u001b[0m \u001b[0;34m\u001b[0m\u001b[0m\n\u001b[1;32m   1348\u001b[0m     \u001b[0;32mdef\u001b[0m \u001b[0m_try_put_index\u001b[0m\u001b[0;34m(\u001b[0m\u001b[0mself\u001b[0m\u001b[0;34m)\u001b[0m\u001b[0;34m:\u001b[0m\u001b[0;34m\u001b[0m\u001b[0;34m\u001b[0m\u001b[0m\n",
      "\u001b[0;32m~/.local/lib/python3.10/site-packages/torch/utils/data/dataloader.py\u001b[0m in \u001b[0;36m_process_data\u001b[0;34m(self, data)\u001b[0m\n\u001b[1;32m   1370\u001b[0m         \u001b[0mself\u001b[0m\u001b[0;34m.\u001b[0m\u001b[0m_try_put_index\u001b[0m\u001b[0;34m(\u001b[0m\u001b[0;34m)\u001b[0m\u001b[0;34m\u001b[0m\u001b[0;34m\u001b[0m\u001b[0m\n\u001b[1;32m   1371\u001b[0m         \u001b[0;32mif\u001b[0m \u001b[0misinstance\u001b[0m\u001b[0;34m(\u001b[0m\u001b[0mdata\u001b[0m\u001b[0;34m,\u001b[0m \u001b[0mExceptionWrapper\u001b[0m\u001b[0;34m)\u001b[0m\u001b[0;34m:\u001b[0m\u001b[0;34m\u001b[0m\u001b[0;34m\u001b[0m\u001b[0m\n\u001b[0;32m-> 1372\u001b[0;31m             \u001b[0mdata\u001b[0m\u001b[0;34m.\u001b[0m\u001b[0mreraise\u001b[0m\u001b[0;34m(\u001b[0m\u001b[0;34m)\u001b[0m\u001b[0;34m\u001b[0m\u001b[0;34m\u001b[0m\u001b[0m\n\u001b[0m\u001b[1;32m   1373\u001b[0m         \u001b[0;32mreturn\u001b[0m \u001b[0mdata\u001b[0m\u001b[0;34m\u001b[0m\u001b[0;34m\u001b[0m\u001b[0m\n\u001b[1;32m   1374\u001b[0m \u001b[0;34m\u001b[0m\u001b[0m\n",
      "\u001b[0;32m~/.local/lib/python3.10/site-packages/torch/_utils.py\u001b[0m in \u001b[0;36mreraise\u001b[0;34m(self)\u001b[0m\n\u001b[1;32m    720\u001b[0m             \u001b[0;31m# instantiate since we don't know how to\u001b[0m\u001b[0;34m\u001b[0m\u001b[0;34m\u001b[0m\u001b[0m\n\u001b[1;32m    721\u001b[0m             \u001b[0;32mraise\u001b[0m \u001b[0mRuntimeError\u001b[0m\u001b[0;34m(\u001b[0m\u001b[0mmsg\u001b[0m\u001b[0;34m)\u001b[0m \u001b[0;32mfrom\u001b[0m \u001b[0;32mNone\u001b[0m\u001b[0;34m\u001b[0m\u001b[0;34m\u001b[0m\u001b[0m\n\u001b[0;32m--> 722\u001b[0;31m         \u001b[0;32mraise\u001b[0m \u001b[0mexception\u001b[0m\u001b[0;34m\u001b[0m\u001b[0;34m\u001b[0m\u001b[0m\n\u001b[0m\u001b[1;32m    723\u001b[0m \u001b[0;34m\u001b[0m\u001b[0m\n\u001b[1;32m    724\u001b[0m \u001b[0;34m\u001b[0m\u001b[0m\n",
      "\u001b[0;31mRuntimeError\u001b[0m: Caught RuntimeError in DataLoader worker process 0.\nOriginal Traceback (most recent call last):\n  File \"/home/arthurus-rex/.local/lib/python3.10/site-packages/torch/utils/data/_utils/worker.py\", line 308, in _worker_loop\n    data = fetcher.fetch(index)\n  File \"/home/arthurus-rex/.local/lib/python3.10/site-packages/torch/utils/data/_utils/fetch.py\", line 54, in fetch\n    return self.collate_fn(data)\n  File \"/home/arthurus-rex/.local/lib/python3.10/site-packages/torch/utils/data/_utils/collate.py\", line 277, in default_collate\n    return collate(batch, collate_fn_map=default_collate_fn_map)\n  File \"/home/arthurus-rex/.local/lib/python3.10/site-packages/torch/utils/data/_utils/collate.py\", line 144, in collate\n    return [collate(samples, collate_fn_map=collate_fn_map) for samples in transposed]  # Backwards compatibility.\n  File \"/home/arthurus-rex/.local/lib/python3.10/site-packages/torch/utils/data/_utils/collate.py\", line 144, in <listcomp>\n    return [collate(samples, collate_fn_map=collate_fn_map) for samples in transposed]  # Backwards compatibility.\n  File \"/home/arthurus-rex/.local/lib/python3.10/site-packages/torch/utils/data/_utils/collate.py\", line 121, in collate\n    return collate_fn_map[elem_type](batch, collate_fn_map=collate_fn_map)\n  File \"/home/arthurus-rex/.local/lib/python3.10/site-packages/torch/utils/data/_utils/collate.py\", line 174, in collate_tensor_fn\n    return torch.stack(batch, 0, out=out)\nRuntimeError: stack expects each tensor to be equal size, but got [36303] at entry 0 and [48582] at entry 1\n"
     ]
    }
   ],
   "source": [
    "# Training loop\n",
    "root_dir = './runs'\n",
    "os.makedirs(root_dir, exist_ok=True)\n",
    "\n",
    "def train_on_features(net, optimizer, device, trainloader, critrerion, epochs=1):\n",
    "    if torch.cuda.is_available():\n",
    "        net.cuda()\n",
    "    net.train()\n",
    "\n",
    "    loss_min = float('inf')\n",
    "    for epoch in range(epochs):\n",
    "        for i, data in enumerate(trainloader):\n",
    "            inputs, labels = data\n",
    "            inputs, labels = inputs.to(device), labels.to(device)\n",
    "\n",
    "            optimizer.zero_grad()\n",
    "\n",
    "            pred = net(inputs)\n",
    "            loss = criterion(pred, labels)\n",
    "            loss.backward()\n",
    "            optimizer.step()\n",
    "            \n",
    "            if loss < loss_min:\n",
    "                torch.save(net.state_dict(), os.path.join(root_dir, \"best_ser_model.pth\"))\n",
    "\n",
    "\n",
    "    print('Finished Training')\n",
    "    return net\n",
    "\n",
    "net = train_on_features(net, optimizer, device, trainloader, criterion)"
   ]
  },
  {
   "cell_type": "code",
   "execution_count": null,
   "id": "724f9822",
   "metadata": {},
   "outputs": [],
   "source": [
    "#net = train_on_features(net, optimizer, device, trainloader, criterion)\n",
    "# trainloader = DataLoader(trainset, batch_size=1, shuffle=True, num_workers=1)\n",
    "# for i, data in enumerate(trainloader):\n",
    "#     print(data)\n",
    "print(trainset[0])"
   ]
  },
  {
   "cell_type": "code",
   "execution_count": null,
   "id": "80d64990",
   "metadata": {},
   "outputs": [],
   "source": []
  }
 ],
 "metadata": {
  "kernelspec": {
   "display_name": "Python 3 (ipykernel)",
   "language": "python",
   "name": "python3"
  },
  "language_info": {
   "codemirror_mode": {
    "name": "ipython",
    "version": 3
   },
   "file_extension": ".py",
   "mimetype": "text/x-python",
   "name": "python",
   "nbconvert_exporter": "python",
   "pygments_lexer": "ipython3",
   "version": "3.10.12"
  }
 },
 "nbformat": 4,
 "nbformat_minor": 5
}
