{
 "cells": [
  {
   "cell_type": "code",
   "execution_count": 1,
   "id": "631d28b8",
   "metadata": {},
   "outputs": [
    {
     "name": "stdout",
     "output_type": "stream",
     "text": [
      "env: WANDB_CACHE_DIR=./cache\n",
      "env: HF_DATASETS_CACHE=./cache\n",
      "env: TRANSFORMERS_CACHE=./cache\n",
      "env: HF_HOME=./cache\n",
      "Defaulting to user installation because normal site-packages is not writeable\n",
      "Collecting git+https://github.com/huggingface/datasets.git\n",
      "  Cloning https://github.com/huggingface/datasets.git to /scratch/6805556.1.ece/pip-req-build-ib0bds3l\n",
      "  Running command git clone --filter=blob:none --quiet https://github.com/huggingface/datasets.git /scratch/6805556.1.ece/pip-req-build-ib0bds3l\n",
      "  Resolved https://github.com/huggingface/datasets.git to commit f96e74d5c633cd5435dd526adb4a74631eb05c43\n",
      "  Installing build dependencies ... \u001b[?25ldone\n",
      "\u001b[?25h  Getting requirements to build wheel ... \u001b[?25ldone\n",
      "\u001b[?25h  Installing backend dependencies ... \u001b[?25ldone\n",
      "\u001b[?25h  Preparing metadata (pyproject.toml) ... \u001b[?25ldone\n",
      "\u001b[?25hRequirement already satisfied: filelock in /share/pkg.8/python3/3.10.12/install/lib/python3.10/site-packages (from datasets==2.19.1.dev0) (3.12.2)\n",
      "Requirement already satisfied: numpy>=1.17 in /usr4/ugrad/jhua2/.local/lib/python3.10/site-packages (from datasets==2.19.1.dev0) (1.24.4)\n",
      "Requirement already satisfied: pyarrow>=12.0.0 in /share/pkg.8/python3/3.10.12/install/lib/python3.10/site-packages (from datasets==2.19.1.dev0) (12.0.1)\n",
      "Requirement already satisfied: pyarrow-hotfix in /usr4/ugrad/jhua2/.local/lib/python3.10/site-packages (from datasets==2.19.1.dev0) (0.6)\n",
      "Requirement already satisfied: dill<0.3.9,>=0.3.0 in /share/pkg.8/python3/3.10.12/install/lib/python3.10/site-packages (from datasets==2.19.1.dev0) (0.3.6)\n",
      "Requirement already satisfied: pandas in /usr4/ugrad/jhua2/.local/lib/python3.10/site-packages (from datasets==2.19.1.dev0) (1.5.3)\n",
      "Requirement already satisfied: requests>=2.19.0 in /share/pkg.8/python3/3.10.12/install/lib/python3.10/site-packages (from datasets==2.19.1.dev0) (2.31.0)\n",
      "Requirement already satisfied: tqdm>=4.62.1 in /share/pkg.8/python3/3.10.12/install/lib/python3.10/site-packages (from datasets==2.19.1.dev0) (4.65.0)\n",
      "Requirement already satisfied: xxhash in /usr4/ugrad/jhua2/.local/lib/python3.10/site-packages (from datasets==2.19.1.dev0) (3.4.1)\n",
      "Requirement already satisfied: multiprocess in /share/pkg.8/python3/3.10.12/install/lib/python3.10/site-packages (from datasets==2.19.1.dev0) (0.70.14)\n",
      "Requirement already satisfied: fsspec<=2024.3.1,>=2023.1.0 in /share/pkg.8/python3/3.10.12/install/lib/python3.10/site-packages (from fsspec[http]<=2024.3.1,>=2023.1.0->datasets==2.19.1.dev0) (2023.6.0)\n",
      "Requirement already satisfied: aiohttp in /share/pkg.8/python3/3.10.12/install/lib/python3.10/site-packages (from datasets==2.19.1.dev0) (3.8.4)\n",
      "Requirement already satisfied: huggingface-hub>=0.21.2 in /usr4/ugrad/jhua2/.local/lib/python3.10/site-packages (from datasets==2.19.1.dev0) (0.22.2)\n",
      "Requirement already satisfied: packaging in /usr4/ugrad/jhua2/.local/lib/python3.10/site-packages (from datasets==2.19.1.dev0) (24.0)\n",
      "Requirement already satisfied: pyyaml>=5.1 in /usr4/ugrad/jhua2/.local/lib/python3.10/site-packages (from datasets==2.19.1.dev0) (6.0.1)\n",
      "Requirement already satisfied: attrs>=17.3.0 in /share/pkg.8/python3/3.10.12/install/lib/python3.10/site-packages (from aiohttp->datasets==2.19.1.dev0) (23.1.0)\n",
      "Requirement already satisfied: charset-normalizer<4.0,>=2.0 in /share/pkg.8/python3/3.10.12/install/lib/python3.10/site-packages (from aiohttp->datasets==2.19.1.dev0) (3.2.0)\n",
      "Requirement already satisfied: multidict<7.0,>=4.5 in /share/pkg.8/python3/3.10.12/install/lib/python3.10/site-packages (from aiohttp->datasets==2.19.1.dev0) (6.0.4)\n",
      "Requirement already satisfied: async-timeout<5.0,>=4.0.0a3 in /share/pkg.8/python3/3.10.12/install/lib/python3.10/site-packages (from aiohttp->datasets==2.19.1.dev0) (4.0.2)\n",
      "Requirement already satisfied: yarl<2.0,>=1.0 in /share/pkg.8/python3/3.10.12/install/lib/python3.10/site-packages (from aiohttp->datasets==2.19.1.dev0) (1.9.2)\n",
      "Requirement already satisfied: frozenlist>=1.1.1 in /share/pkg.8/python3/3.10.12/install/lib/python3.10/site-packages (from aiohttp->datasets==2.19.1.dev0) (1.4.0)\n",
      "Requirement already satisfied: aiosignal>=1.1.2 in /share/pkg.8/python3/3.10.12/install/lib/python3.10/site-packages (from aiohttp->datasets==2.19.1.dev0) (1.3.1)\n",
      "Requirement already satisfied: typing-extensions>=3.7.4.3 in /share/pkg.7/pytorch/1.13.1/install/lib/python3.10/site-packages (from huggingface-hub>=0.21.2->datasets==2.19.1.dev0) (4.4.0)\n",
      "Requirement already satisfied: idna<4,>=2.5 in /share/pkg.8/python3/3.10.12/install/lib/python3.10/site-packages (from requests>=2.19.0->datasets==2.19.1.dev0) (3.4)\n",
      "Requirement already satisfied: urllib3<3,>=1.21.1 in /share/pkg.8/python3/3.10.12/install/lib/python3.10/site-packages (from requests>=2.19.0->datasets==2.19.1.dev0) (1.26.16)\n",
      "Requirement already satisfied: certifi>=2017.4.17 in /usr4/ugrad/jhua2/.local/lib/python3.10/site-packages (from requests>=2.19.0->datasets==2.19.1.dev0) (2024.2.2)\n",
      "Requirement already satisfied: python-dateutil>=2.8.1 in /usr4/ugrad/jhua2/.local/lib/python3.10/site-packages (from pandas->datasets==2.19.1.dev0) (2.9.0.post0)\n",
      "Requirement already satisfied: pytz>=2020.1 in /usr4/ugrad/jhua2/.local/lib/python3.10/site-packages (from pandas->datasets==2.19.1.dev0) (2024.1)\n",
      "Requirement already satisfied: six>=1.5 in /share/pkg.8/python3/3.10.12/install/lib/python3.10/site-packages (from python-dateutil>=2.8.1->pandas->datasets==2.19.1.dev0) (1.16.0)\n",
      "Defaulting to user installation because normal site-packages is not writeable\n",
      "Collecting git+https://github.com/huggingface/transformers.git\n",
      "  Cloning https://github.com/huggingface/transformers.git to /scratch/6805556.1.ece/pip-req-build-c8jt8v2z\n",
      "  Running command git clone --filter=blob:none --quiet https://github.com/huggingface/transformers.git /scratch/6805556.1.ece/pip-req-build-c8jt8v2z\n",
      "  Resolved https://github.com/huggingface/transformers.git to commit 12c39e5693f7223be162a1e84de026a6545029eb\n",
      "  Installing build dependencies ... \u001b[?25ldone\n",
      "\u001b[?25h  Getting requirements to build wheel ... \u001b[?25ldone\n",
      "\u001b[?25h  Installing backend dependencies ... \u001b[?25ldone\n",
      "\u001b[?25h  Preparing metadata (pyproject.toml) ... \u001b[?25ldone\n",
      "\u001b[?25hRequirement already satisfied: filelock in /share/pkg.8/python3/3.10.12/install/lib/python3.10/site-packages (from transformers==4.41.0.dev0) (3.12.2)\n",
      "Requirement already satisfied: huggingface-hub<1.0,>=0.19.3 in /usr4/ugrad/jhua2/.local/lib/python3.10/site-packages (from transformers==4.41.0.dev0) (0.22.2)\n",
      "Requirement already satisfied: numpy>=1.17 in /usr4/ugrad/jhua2/.local/lib/python3.10/site-packages (from transformers==4.41.0.dev0) (1.24.4)\n",
      "Requirement already satisfied: packaging>=20.0 in /usr4/ugrad/jhua2/.local/lib/python3.10/site-packages (from transformers==4.41.0.dev0) (24.0)\n",
      "Requirement already satisfied: pyyaml>=5.1 in /usr4/ugrad/jhua2/.local/lib/python3.10/site-packages (from transformers==4.41.0.dev0) (6.0.1)\n",
      "Requirement already satisfied: regex!=2019.12.17 in /share/pkg.8/python3/3.10.12/install/lib/python3.10/site-packages (from transformers==4.41.0.dev0) (2023.6.3)\n",
      "Requirement already satisfied: requests in /share/pkg.8/python3/3.10.12/install/lib/python3.10/site-packages (from transformers==4.41.0.dev0) (2.31.0)\n",
      "Requirement already satisfied: tokenizers<0.20,>=0.19 in /usr4/ugrad/jhua2/.local/lib/python3.10/site-packages (from transformers==4.41.0.dev0) (0.19.1)\n",
      "Requirement already satisfied: safetensors>=0.4.1 in /usr4/ugrad/jhua2/.local/lib/python3.10/site-packages (from transformers==4.41.0.dev0) (0.4.2)\n",
      "Requirement already satisfied: tqdm>=4.27 in /share/pkg.8/python3/3.10.12/install/lib/python3.10/site-packages (from transformers==4.41.0.dev0) (4.65.0)\n",
      "Requirement already satisfied: fsspec>=2023.5.0 in /share/pkg.8/python3/3.10.12/install/lib/python3.10/site-packages (from huggingface-hub<1.0,>=0.19.3->transformers==4.41.0.dev0) (2023.6.0)\n",
      "Requirement already satisfied: typing-extensions>=3.7.4.3 in /share/pkg.7/pytorch/1.13.1/install/lib/python3.10/site-packages (from huggingface-hub<1.0,>=0.19.3->transformers==4.41.0.dev0) (4.4.0)\n",
      "Requirement already satisfied: charset-normalizer<4,>=2 in /share/pkg.8/python3/3.10.12/install/lib/python3.10/site-packages (from requests->transformers==4.41.0.dev0) (3.2.0)\n",
      "Requirement already satisfied: idna<4,>=2.5 in /share/pkg.8/python3/3.10.12/install/lib/python3.10/site-packages (from requests->transformers==4.41.0.dev0) (3.4)\n",
      "Requirement already satisfied: urllib3<3,>=1.21.1 in /share/pkg.8/python3/3.10.12/install/lib/python3.10/site-packages (from requests->transformers==4.41.0.dev0) (1.26.16)\n",
      "Requirement already satisfied: certifi>=2017.4.17 in /usr4/ugrad/jhua2/.local/lib/python3.10/site-packages (from requests->transformers==4.41.0.dev0) (2024.2.2)\n"
     ]
    },
    {
     "name": "stdout",
     "output_type": "stream",
     "text": [
      "Defaulting to user installation because normal site-packages is not writeable\n",
      "Requirement already satisfied: torchaudio in /share/pkg.7/pytorch/1.13.1/install/lib/python3.10/site-packages (0.13.1+cu116)\n",
      "Requirement already satisfied: torch==1.13.1 in /share/pkg.7/pytorch/1.13.1/install/lib/python3.10/site-packages (from torchaudio) (1.13.1+cu116)\n",
      "Requirement already satisfied: typing-extensions in /share/pkg.7/pytorch/1.13.1/install/lib/python3.10/site-packages (from torch==1.13.1->torchaudio) (4.4.0)\n",
      "Defaulting to user installation because normal site-packages is not writeable\n",
      "Requirement already satisfied: librosa in /share/pkg.8/python3/3.10.12/install/lib/python3.10/site-packages (0.10.0.post2)\n",
      "Requirement already satisfied: audioread>=2.1.9 in /share/pkg.8/python3/3.10.12/install/lib/python3.10/site-packages (from librosa) (3.0.0)\n",
      "Requirement already satisfied: numpy!=1.22.0,!=1.22.1,!=1.22.2,>=1.20.3 in /usr4/ugrad/jhua2/.local/lib/python3.10/site-packages (from librosa) (1.24.4)\n",
      "Requirement already satisfied: scipy>=1.2.0 in /usr4/ugrad/jhua2/.local/lib/python3.10/site-packages (from librosa) (1.13.0)\n",
      "Requirement already satisfied: scikit-learn>=0.20.0 in /share/pkg.8/python3/3.10.12/install/lib/python3.10/site-packages (from librosa) (1.3.0)\n",
      "Requirement already satisfied: joblib>=0.14 in /share/pkg.8/python3/3.10.12/install/lib/python3.10/site-packages (from librosa) (1.3.1)\n",
      "Requirement already satisfied: decorator>=4.3.0 in /share/pkg.8/python3/3.10.12/install/lib/python3.10/site-packages (from librosa) (5.1.1)\n",
      "Requirement already satisfied: numba>=0.51.0 in /share/pkg.8/python3/3.10.12/install/lib/python3.10/site-packages (from librosa) (0.57.1)\n",
      "Requirement already satisfied: soundfile>=0.12.1 in /share/pkg.8/python3/3.10.12/install/lib/python3.10/site-packages (from librosa) (0.12.1)\n",
      "Requirement already satisfied: pooch<1.7,>=1.0 in /share/pkg.8/python3/3.10.12/install/lib/python3.10/site-packages (from librosa) (1.6.0)\n",
      "Requirement already satisfied: soxr>=0.3.2 in /share/pkg.8/python3/3.10.12/install/lib/python3.10/site-packages (from librosa) (0.3.5)\n",
      "Requirement already satisfied: typing-extensions>=4.1.1 in /share/pkg.7/pytorch/1.13.1/install/lib/python3.10/site-packages (from librosa) (4.4.0)\n",
      "Requirement already satisfied: lazy-loader>=0.1 in /share/pkg.8/python3/3.10.12/install/lib/python3.10/site-packages (from librosa) (0.3)\n",
      "Requirement already satisfied: msgpack>=1.0 in /share/pkg.8/python3/3.10.12/install/lib/python3.10/site-packages (from librosa) (1.0.5)\n",
      "Requirement already satisfied: llvmlite<0.41,>=0.40.0dev0 in /share/pkg.8/python3/3.10.12/install/lib/python3.10/site-packages (from numba>=0.51.0->librosa) (0.40.1)\n",
      "Requirement already satisfied: appdirs>=1.3.0 in /share/pkg.8/python3/3.10.12/install/lib/python3.10/site-packages (from pooch<1.7,>=1.0->librosa) (1.4.4)\n",
      "Requirement already satisfied: packaging>=20.0 in /usr4/ugrad/jhua2/.local/lib/python3.10/site-packages (from pooch<1.7,>=1.0->librosa) (24.0)\n",
      "Requirement already satisfied: requests>=2.19.0 in /share/pkg.8/python3/3.10.12/install/lib/python3.10/site-packages (from pooch<1.7,>=1.0->librosa) (2.31.0)\n",
      "Requirement already satisfied: threadpoolctl>=2.0.0 in /share/pkg.8/python3/3.10.12/install/lib/python3.10/site-packages (from scikit-learn>=0.20.0->librosa) (3.2.0)\n",
      "Requirement already satisfied: cffi>=1.0 in /share/pkg.8/python3/3.10.12/install/lib/python3.10/site-packages (from soundfile>=0.12.1->librosa) (1.15.1)\n",
      "Requirement already satisfied: pycparser in /share/pkg.8/python3/3.10.12/install/lib/python3.10/site-packages (from cffi>=1.0->soundfile>=0.12.1->librosa) (2.21)\n",
      "Requirement already satisfied: charset-normalizer<4,>=2 in /share/pkg.8/python3/3.10.12/install/lib/python3.10/site-packages (from requests>=2.19.0->pooch<1.7,>=1.0->librosa) (3.2.0)\n",
      "Requirement already satisfied: idna<4,>=2.5 in /share/pkg.8/python3/3.10.12/install/lib/python3.10/site-packages (from requests>=2.19.0->pooch<1.7,>=1.0->librosa) (3.4)\n",
      "Requirement already satisfied: urllib3<3,>=1.21.1 in /share/pkg.8/python3/3.10.12/install/lib/python3.10/site-packages (from requests>=2.19.0->pooch<1.7,>=1.0->librosa) (1.26.16)\n",
      "Requirement already satisfied: certifi>=2017.4.17 in /usr4/ugrad/jhua2/.local/lib/python3.10/site-packages (from requests>=2.19.0->pooch<1.7,>=1.0->librosa) (2024.2.2)\n",
      "Defaulting to user installation because normal site-packages is not writeable\n",
      "Collecting git+https://github.com/huggingface/accelerate\n",
      "  Cloning https://github.com/huggingface/accelerate to /scratch/6805556.1.ece/pip-req-build-8ssl8_om\n",
      "  Running command git clone --filter=blob:none --quiet https://github.com/huggingface/accelerate /scratch/6805556.1.ece/pip-req-build-8ssl8_om\n",
      "  Resolved https://github.com/huggingface/accelerate to commit f7daaaa305362e1a959183e23bf85244798ceb35\n",
      "  Installing build dependencies ... \u001b[?25ldone\n",
      "\u001b[?25h  Getting requirements to build wheel ... \u001b[?25ldone\n",
      "\u001b[?25h  Installing backend dependencies ... \u001b[?25ldone\n",
      "\u001b[?25h  Preparing metadata (pyproject.toml) ... \u001b[?25ldone\n",
      "\u001b[?25hRequirement already satisfied: numpy>=1.17 in /usr4/ugrad/jhua2/.local/lib/python3.10/site-packages (from accelerate==0.30.0.dev0) (1.24.4)\n",
      "Requirement already satisfied: packaging>=20.0 in /usr4/ugrad/jhua2/.local/lib/python3.10/site-packages (from accelerate==0.30.0.dev0) (24.0)\n",
      "Requirement already satisfied: psutil in /usr4/ugrad/jhua2/.local/lib/python3.10/site-packages (from accelerate==0.30.0.dev0) (5.9.8)\n",
      "Requirement already satisfied: pyyaml in /usr4/ugrad/jhua2/.local/lib/python3.10/site-packages (from accelerate==0.30.0.dev0) (6.0.1)\n",
      "Requirement already satisfied: torch>=1.10.0 in /share/pkg.7/pytorch/1.13.1/install/lib/python3.10/site-packages (from accelerate==0.30.0.dev0) (1.13.1+cu116)\n",
      "Requirement already satisfied: huggingface-hub in /usr4/ugrad/jhua2/.local/lib/python3.10/site-packages (from accelerate==0.30.0.dev0) (0.22.2)\n",
      "Requirement already satisfied: safetensors>=0.3.1 in /usr4/ugrad/jhua2/.local/lib/python3.10/site-packages (from accelerate==0.30.0.dev0) (0.4.2)\n",
      "Requirement already satisfied: typing-extensions in /share/pkg.7/pytorch/1.13.1/install/lib/python3.10/site-packages (from torch>=1.10.0->accelerate==0.30.0.dev0) (4.4.0)\n",
      "Requirement already satisfied: filelock in /share/pkg.8/python3/3.10.12/install/lib/python3.10/site-packages (from huggingface-hub->accelerate==0.30.0.dev0) (3.12.2)\n",
      "Requirement already satisfied: fsspec>=2023.5.0 in /share/pkg.8/python3/3.10.12/install/lib/python3.10/site-packages (from huggingface-hub->accelerate==0.30.0.dev0) (2023.6.0)\n",
      "Requirement already satisfied: requests in /share/pkg.8/python3/3.10.12/install/lib/python3.10/site-packages (from huggingface-hub->accelerate==0.30.0.dev0) (2.31.0)\n",
      "Requirement already satisfied: tqdm>=4.42.1 in /share/pkg.8/python3/3.10.12/install/lib/python3.10/site-packages (from huggingface-hub->accelerate==0.30.0.dev0) (4.65.0)\n",
      "Requirement already satisfied: charset-normalizer<4,>=2 in /share/pkg.8/python3/3.10.12/install/lib/python3.10/site-packages (from requests->huggingface-hub->accelerate==0.30.0.dev0) (3.2.0)\n",
      "Requirement already satisfied: idna<4,>=2.5 in /share/pkg.8/python3/3.10.12/install/lib/python3.10/site-packages (from requests->huggingface-hub->accelerate==0.30.0.dev0) (3.4)\n",
      "Requirement already satisfied: urllib3<3,>=1.21.1 in /share/pkg.8/python3/3.10.12/install/lib/python3.10/site-packages (from requests->huggingface-hub->accelerate==0.30.0.dev0) (1.26.16)\n",
      "Requirement already satisfied: certifi>=2017.4.17 in /usr4/ugrad/jhua2/.local/lib/python3.10/site-packages (from requests->huggingface-hub->accelerate==0.30.0.dev0) (2024.2.2)\n",
      "Defaulting to user installation because normal site-packages is not writeable\n",
      "Requirement already satisfied: wandb in /share/pkg.8/python3/3.10.12/install/lib/python3.10/site-packages (0.15.5)\n",
      "Requirement already satisfied: Click!=8.0.0,>=7.1 in /share/pkg.8/python3/3.10.12/install/lib/python3.10/site-packages (from wandb) (8.1.5)\n",
      "Requirement already satisfied: GitPython!=3.1.29,>=1.0.0 in /share/pkg.8/python3/3.10.12/install/lib/python3.10/site-packages (from wandb) (3.1.32)\n",
      "Requirement already satisfied: requests<3,>=2.0.0 in /share/pkg.8/python3/3.10.12/install/lib/python3.10/site-packages (from wandb) (2.31.0)\n",
      "Requirement already satisfied: psutil>=5.0.0 in /usr4/ugrad/jhua2/.local/lib/python3.10/site-packages (from wandb) (5.9.8)\n",
      "Requirement already satisfied: sentry-sdk>=1.0.0 in /share/pkg.8/python3/3.10.12/install/lib/python3.10/site-packages (from wandb) (1.28.1)\n",
      "Requirement already satisfied: docker-pycreds>=0.4.0 in /share/pkg.8/python3/3.10.12/install/lib/python3.10/site-packages (from wandb) (0.4.0)\n",
      "Requirement already satisfied: PyYAML in /usr4/ugrad/jhua2/.local/lib/python3.10/site-packages (from wandb) (6.0.1)\n",
      "Requirement already satisfied: pathtools in /share/pkg.8/python3/3.10.12/install/lib/python3.10/site-packages (from wandb) (0.1.2)\n",
      "Requirement already satisfied: setproctitle in /share/pkg.8/python3/3.10.12/install/lib/python3.10/site-packages (from wandb) (1.3.2)\n",
      "Requirement already satisfied: setuptools in /share/pkg.8/python3/3.10.12/install/lib/python3.10/site-packages (from wandb) (65.5.0)\n",
      "Requirement already satisfied: appdirs>=1.4.3 in /share/pkg.8/python3/3.10.12/install/lib/python3.10/site-packages (from wandb) (1.4.4)\n",
      "Requirement already satisfied: protobuf!=4.21.0,<5,>=3.19.0 in /share/pkg.8/python3/3.10.12/install/lib/python3.10/site-packages (from wandb) (4.23.4)\n",
      "Requirement already satisfied: six>=1.4.0 in /share/pkg.8/python3/3.10.12/install/lib/python3.10/site-packages (from docker-pycreds>=0.4.0->wandb) (1.16.0)\n",
      "Requirement already satisfied: gitdb<5,>=4.0.1 in /share/pkg.8/python3/3.10.12/install/lib/python3.10/site-packages (from GitPython!=3.1.29,>=1.0.0->wandb) (4.0.10)\n",
      "Requirement already satisfied: charset-normalizer<4,>=2 in /share/pkg.8/python3/3.10.12/install/lib/python3.10/site-packages (from requests<3,>=2.0.0->wandb) (3.2.0)\n",
      "Requirement already satisfied: idna<4,>=2.5 in /share/pkg.8/python3/3.10.12/install/lib/python3.10/site-packages (from requests<3,>=2.0.0->wandb) (3.4)\n",
      "Requirement already satisfied: urllib3<3,>=1.21.1 in /share/pkg.8/python3/3.10.12/install/lib/python3.10/site-packages (from requests<3,>=2.0.0->wandb) (1.26.16)\n",
      "Requirement already satisfied: certifi>=2017.4.17 in /usr4/ugrad/jhua2/.local/lib/python3.10/site-packages (from requests<3,>=2.0.0->wandb) (2024.2.2)\n"
     ]
    },
    {
     "name": "stdout",
     "output_type": "stream",
     "text": [
      "Requirement already satisfied: smmap<6,>=3.0.1 in /share/pkg.8/python3/3.10.12/install/lib/python3.10/site-packages (from gitdb<5,>=4.0.1->GitPython!=3.1.29,>=1.0.0->wandb) (5.0.0)\r\n"
     ]
    }
   ],
   "source": [
    "%env WANDB_CACHE_DIR=./cache\n",
    "%env HF_DATASETS_CACHE=./cache\n",
    "%env TRANSFORMERS_CACHE=./cache\n",
    "%env HF_HOME=./cache\n",
    "\n",
    "# Credit: https://colab.research.google.com/github/m3hrdadfi/soxan/blob/main/notebooks/Emotion_recognition_in_Greek_speech_using_Wav2Vec2.ipynb#scrollTo=1SSs95o9WIvK\n",
    "!pip install git+https://github.com/huggingface/datasets.git\n",
    "!pip install git+https://github.com/huggingface/transformers.git\n",
    "!pip install torchaudio\n",
    "!pip install librosa\n",
    "#!pip install -U accelerate\n",
    "!pip install git+https://github.com/huggingface/accelerate\n",
    "!pip install wandb"
   ]
  },
  {
   "cell_type": "code",
   "execution_count": 1,
   "id": "d2663201",
   "metadata": {},
   "outputs": [
    {
     "name": "stdout",
     "output_type": "stream",
     "text": [
      "env: WANDB_CACHE_DIR=./cache\n",
      "env: HF_DATASETS_CACHE=./cache\n",
      "env: TRANSFORMERS_CACHE=./cache\n",
      "env: HF_HOME=./cache\n"
     ]
    },
    {
     "name": "stderr",
     "output_type": "stream",
     "text": [
      "/usr4/ugrad/jhua2/.local/lib/python3.10/site-packages/transformers/utils/hub.py:124: FutureWarning: Using `TRANSFORMERS_CACHE` is deprecated and will be removed in v5 of Transformers. Use `HF_HOME` instead.\n",
      "  warnings.warn(\n"
     ]
    },
    {
     "name": "stdout",
     "output_type": "stream",
     "text": [
      "Tue Apr 23 19:52:57 2024       \n",
      "+---------------------------------------------------------------------------------------+\n",
      "| NVIDIA-SMI 535.129.03             Driver Version: 535.129.03   CUDA Version: 12.2     |\n",
      "|-----------------------------------------+----------------------+----------------------+\n",
      "| GPU  Name                 Persistence-M | Bus-Id        Disp.A | Volatile Uncorr. ECC |\n",
      "| Fan  Temp   Perf          Pwr:Usage/Cap |         Memory-Usage | GPU-Util  Compute M. |\n",
      "|                                         |                      |               MIG M. |\n",
      "|=========================================+======================+======================|\n",
      "|   0  NVIDIA A40                     On  | 00000000:17:00.0 Off |                    0 |\n",
      "|  0%   38C    P0              73W / 300W |   1512MiB / 46068MiB |      0%   E. Process |\n",
      "|                                         |                      |                  N/A |\n",
      "+-----------------------------------------+----------------------+----------------------+\n",
      "|   1  NVIDIA A40                     On  | 00000000:65:00.0 Off |                    0 |\n",
      "|  0%   63C    P0             216W / 300W |  35000MiB / 46068MiB |     62%   E. Process |\n",
      "|                                         |                      |                  N/A |\n",
      "+-----------------------------------------+----------------------+----------------------+\n",
      "|   2  NVIDIA A40                     On  | 00000000:CA:00.0 Off |                    0 |\n",
      "|  0%   30C    P8              22W / 300W |      4MiB / 46068MiB |      0%   E. Process |\n",
      "|                                         |                      |                  N/A |\n",
      "+-----------------------------------------+----------------------+----------------------+\n",
      "|   3  NVIDIA A40                     On  | 00000000:E3:00.0 Off |                    0 |\n",
      "|  0%   36C    P0              60W / 300W |      4MiB / 46068MiB |      0%   E. Process |\n",
      "|                                         |                      |                  N/A |\n",
      "+-----------------------------------------+----------------------+----------------------+\n",
      "                                                                                         \n",
      "+---------------------------------------------------------------------------------------+\n",
      "| Processes:                                                                            |\n",
      "|  GPU   GI   CI        PID   Type   Process name                            GPU Memory |\n",
      "|        ID   ID                                                             Usage      |\n",
      "|=======================================================================================|\n",
      "|    0   N/A  N/A    170310      C   python                                     1500MiB |\n",
      "|    1   N/A  N/A    213583      C   python                                    34988MiB |\n",
      "+---------------------------------------------------------------------------------------+\n",
      "Device: cuda\n"
     ]
    }
   ],
   "source": [
    "%env WANDB_CACHE_DIR=./cache\n",
    "%env HF_DATASETS_CACHE=./cache\n",
    "%env TRANSFORMERS_CACHE=./cache\n",
    "%env HF_HOME=./cache\n",
    "\n",
    "import numpy as np\n",
    "import pandas as pd\n",
    "from pathlib import Path\n",
    "from tqdm import tqdm\n",
    "import accelerate\n",
    "from packaging import version\n",
    "\n",
    "from sklearn.model_selection import train_test_split\n",
    "from sklearn.metrics import classification_report\n",
    "import os\n",
    "import sys\n",
    "from datasets import load_dataset, load_metric\n",
    "\n",
    "import transformers\n",
    "from transformers import Trainer\n",
    "from transformers import AutoConfig, Wav2Vec2Processor, EvalPrediction, TrainingArguments\n",
    "from transformers.file_utils import ModelOutput\n",
    "from transformers.models.wav2vec2.modeling_wav2vec2 import (Wav2Vec2PreTrainedModel, Wav2Vec2Model)\n",
    "from transformers import (Trainer, is_apex_available)\n",
    "if is_apex_available():\n",
    "    from apex import amp\n",
    "\n",
    "import librosa\n",
    "from dataclasses import dataclass\n",
    "from typing import Optional, Tuple, Dict, List, Union, Any\n",
    "\n",
    "import torch\n",
    "import torch.nn as nn\n",
    "from torch.nn import CrossEntropyLoss\n",
    "import torchaudio\n",
    "if version.parse(torch.__version__) >= version.parse(\"1.6\"):\n",
    "    _is_native_amp_available = True\n",
    "    from torch.cuda.amp import autocast\n",
    "import torch.nn.functional as F\n",
    "\n",
    "import IPython.display as ipd\n",
    "from dataset import download_datasets, SpeechEmotionDataset, get_dataset_info\n",
    "\n",
    "    \n",
    "    \n",
    "!nvidia-smi\n",
    "device = torch.device(\"cuda\" if torch.cuda.is_available() else \"cpu\")\n",
    "print(f\"Device: {device}\")\n"
   ]
  },
  {
   "cell_type": "code",
   "execution_count": null,
   "id": "1539e334",
   "metadata": {},
   "outputs": [],
   "source": [
    "'''\n",
    "# Downloading datasets: execute once!\n",
    "dataset_dir = './datasets'\n",
    "os.makedirs(dataset_dir, exist_ok=True)\n",
    "download_datasets(dataset_dir)\n",
    "'''"
   ]
  },
  {
   "cell_type": "code",
   "execution_count": 2,
   "id": "0edb1aab",
   "metadata": {},
   "outputs": [
    {
     "name": "stdout",
     "output_type": "stream",
     "text": [
      "Example row from each database: \n",
      "                                                        path  emotion  \\\n",
      "database                                                               \n",
      "cremad       ./datasets/cremad/AudioWAV/1080_IEO_ANG_HI.wav    anger   \n",
      "emodb     ./datasets/berlin-database-of-emotional-speech...  neutral   \n",
      "ravdess   ./datasets/ravdess-emotional-speech-audio/Acto...  neutral   \n",
      "savee        ./datasets/savee-database/AudioData/JE/a12.wav    anger   \n",
      "shemo     ./datasets/shemo-persian-speech-emotion-detect...  sadness   \n",
      "tess      ./datasets/toronto-emotional-speech-set-tess/T...    happy   \n",
      "\n",
      "                              name  \n",
      "database                            \n",
      "cremad         1080_IEO_ANG_HI.wav  \n",
      "emodb                  16a02Nb.wav  \n",
      "ravdess   03-01-01-01-02-01-03.wav  \n",
      "savee                      a12.wav  \n",
      "shemo                   F06S01.wav  \n",
      "tess            OAF_nice_happy.wav  \n",
      "Emotion labels:  ['neutral' 'anger' 'sadness' 'happy']\n",
      "Number of samples:  10548\n"
     ]
    }
   ],
   "source": [
    "dataset_dir = './datasets'\n",
    "emo_map = {\n",
    "    0 : \"happy\",\n",
    "    1 : \"anger\",\n",
    "    2 : \"sadness\",\n",
    "    3 : \"neutral\"\n",
    "}\n",
    "emotions = list(emo_map.values())\n",
    "\n",
    "# Extract data into dataframes\n",
    "df = get_dataset_info(dataset_dir)\n",
    "\n",
    "# Process data frame\n",
    "df = df[['filename', 'emotion', 'database']]\n",
    "df = df.rename(columns={'filename':'path'})\n",
    "df['name'] = df['path'].str.split('/').str[-1]\n",
    "df = df[df['emotion'].isin(emotions)]\n",
    "df = df.reset_index(drop=True)\n",
    "\n",
    "print(\"Example row from each database: \\n\", df.groupby('database').first())\n",
    "print(\"Emotion labels: \", df['emotion'].unique())\n",
    "\n",
    "# Test smaller size\n",
    "df = df.sample(frac=1).reset_index(drop=True)\n",
    "#df = df.iloc[:2000]\n",
    "#df = df.iloc[:5000]\n",
    "#df = df.iloc[:8000]\n",
    "print(\"Number of samples: \", len(df))"
   ]
  },
  {
   "cell_type": "code",
   "execution_count": 3,
   "id": "9229e6a7",
   "metadata": {},
   "outputs": [
    {
     "name": "stdout",
     "output_type": "stream",
     "text": [
      "train_df's shape:  (8438, 4)\n",
      "test_df's shape:  (2110, 4)\n"
     ]
    },
    {
     "data": {
      "application/vnd.jupyter.widget-view+json": {
       "model_id": "cabeda122189469e99c047987ec2cdd8",
       "version_major": 2,
       "version_minor": 0
      },
      "text/plain": [
       "Generating train split: 0 examples [00:00, ? examples/s]"
      ]
     },
     "metadata": {},
     "output_type": "display_data"
    },
    {
     "data": {
      "application/vnd.jupyter.widget-view+json": {
       "model_id": "7840d50e4bb34237b95f839d1fdb4a29",
       "version_major": 2,
       "version_minor": 0
      },
      "text/plain": [
       "Generating validation split: 0 examples [00:00, ? examples/s]"
      ]
     },
     "metadata": {},
     "output_type": "display_data"
    },
    {
     "name": "stdout",
     "output_type": "stream",
     "text": [
      "Dataset({\n",
      "    features: ['path', 'emotion', 'database', 'name'],\n",
      "    num_rows: 8438\n",
      "}) Dataset({\n",
      "    features: ['path', 'emotion', 'database', 'name'],\n",
      "    num_rows: 2110\n",
      "})\n",
      "4 classes: ['happy', 'anger', 'sadness', 'neutral']\n"
     ]
    }
   ],
   "source": [
    "train_df, test_df = train_test_split(df, test_size=0.2, random_state=101, stratify=df[\"emotion\"])\n",
    "train_df, test_df = train_df.reset_index(drop=True), test_df.reset_index(drop=True)\n",
    "train_df.to_csv(\"train.csv\", sep=\"\\t\", encoding=\"utf-8\", index=False)\n",
    "test_df.to_csv(\"test.csv\", sep=\"\\t\", encoding=\"utf-8\", index=False)\n",
    "\n",
    "print(\"train_df's shape: \", train_df.shape)\n",
    "print(\"test_df's shape: \", test_df.shape)\n",
    "\n",
    "data_files = {\n",
    "    \"train\": \"train.csv\",\n",
    "    \"validation\": \"test.csv\"\n",
    "}\n",
    "\n",
    "dataset = load_dataset(\"csv\", data_files=data_files, delimiter=\"\\t\")\n",
    "train_dataset = dataset[\"train\"]\n",
    "eval_dataset = dataset[\"validation\"]\n",
    "print(train_dataset, eval_dataset)\n",
    "\n",
    "num_labels = len(emo_map)\n",
    "label_list = list(emo_map.values())\n",
    "print(f\"{num_labels} classes: {label_list}\")"
   ]
  },
  {
   "cell_type": "code",
   "execution_count": 4,
   "id": "91b40f7f",
   "metadata": {},
   "outputs": [
    {
     "name": "stdout",
     "output_type": "stream",
     "text": [
      "Target sampling rate: 16000\n"
     ]
    },
    {
     "name": "stderr",
     "output_type": "stream",
     "text": [
      "/usr4/ugrad/jhua2/.local/lib/python3.10/site-packages/transformers/configuration_utils.py:363: UserWarning: Passing `gradient_checkpointing` to a config initialization is deprecated and will be removed in v5 Transformers. Using `model.gradient_checkpointing_enable()` instead, or if you are using the `Trainer` API, pass `gradient_checkpointing=True` in your `TrainingArguments`.\n",
      "  warnings.warn(\n"
     ]
    }
   ],
   "source": [
    "model_name = \"lighteternal/wav2vec2-large-xlsr-53-greek\" # todo: use an english or multilingual one\n",
    "label2id = {label:id for id,label in emo_map.items()}\n",
    "\n",
    "config = AutoConfig.from_pretrained(\n",
    "    model_name,\n",
    "    num_labels = num_labels,\n",
    "    label2id = label2id,\n",
    "    id2label = emo_map, \n",
    "    finetuning_task = \"wav2vec2_clf\" # classification task\n",
    ")\n",
    "setattr(config, \"pooling_mode\", \"mean\")\n",
    "\n",
    "processor = Wav2Vec2Processor.from_pretrained(model_name)\n",
    "target_sampling_rate = processor.feature_extractor.sampling_rate\n",
    "print(f\"Target sampling rate: {target_sampling_rate}\")"
   ]
  },
  {
   "cell_type": "code",
   "execution_count": 5,
   "id": "8849bb19",
   "metadata": {},
   "outputs": [
    {
     "data": {
      "application/vnd.jupyter.widget-view+json": {
       "model_id": "9f85a824f0cf4643b96498095025a181",
       "version_major": 2,
       "version_minor": 0
      },
      "text/plain": [
       "Map (num_proc=4):   0%|          | 0/8438 [00:00<?, ? examples/s]"
      ]
     },
     "metadata": {},
     "output_type": "display_data"
    },
    {
     "data": {
      "application/vnd.jupyter.widget-view+json": {
       "model_id": "c6720bcfed724eeab91cbffddb4632ca",
       "version_major": 2,
       "version_minor": 0
      },
      "text/plain": [
       "Map (num_proc=4):   0%|          | 0/2110 [00:00<?, ? examples/s]"
      ]
     },
     "metadata": {},
     "output_type": "display_data"
    }
   ],
   "source": [
    "# Preprocess data\n",
    "\n",
    "def load_audio(path):\n",
    "    speech_array, sampling_rate = librosa.load(path)\n",
    "    speech_array = speech_array.squeeze()\n",
    "    \n",
    "    # Ensure audio has expected sampling rate\n",
    "    audio = librosa.resample(np.asarray(speech_array), orig_sr = sampling_rate, target_sr = target_sampling_rate)\n",
    "    return audio\n",
    "\n",
    "def preprocess(data):\n",
    "    speech_list = [load_audio(path) for path in data[\"path\"]]\n",
    "    target_list = [label2id[emo] for emo in data[\"emotion\"]]\n",
    "    \n",
    "    preprocessed_audio = processor(speech_list, sampling_rate=target_sampling_rate)\n",
    "    preprocessed_audio[\"labels\"] = list(target_list)\n",
    "    \n",
    "    return preprocessed_audio\n",
    "\n",
    "train_dataset = train_dataset.map(\n",
    "    preprocess,\n",
    "    batch_size=100,\n",
    "    batched=True,\n",
    "    num_proc=4\n",
    ")\n",
    "\n",
    "eval_dataset = eval_dataset.map(\n",
    "    preprocess,\n",
    "    batch_size=100,\n",
    "    batched=True,\n",
    "    num_proc=4\n",
    ")\n",
    "    "
   ]
  },
  {
   "cell_type": "code",
   "execution_count": 6,
   "id": "83bb9d73",
   "metadata": {},
   "outputs": [],
   "source": [
    "# Classification component of model\n",
    "\n",
    "class Classification_FC(nn.Module):\n",
    "    def __init__(self, config):\n",
    "        super().__init__()\n",
    "        self.dense = nn.Linear(config.hidden_size, config.hidden_size)\n",
    "        self.dropout = nn.Dropout(config.final_dropout)\n",
    "        self.out_proj = nn.Linear(config.hidden_size, config.num_labels)\n",
    "    \n",
    "    def forward(self, features, **kwargs):\n",
    "        x = features\n",
    "        \n",
    "        x = self.dropout(x)\n",
    "        \n",
    "        x = self.dense(x)\n",
    "        \n",
    "        x = torch.tanh(x)\n",
    "        \n",
    "        x = self.dropout(x)\n",
    "        \n",
    "        x = self.out_proj(x)\n",
    "        \n",
    "        return x\n",
    "\n",
    "class Classification_CNN(nn.Module):\n",
    "    def __init__(self, config):\n",
    "        super().__init__()\n",
    "        \n",
    "        # 1D CNN\n",
    "        self.conv1 = nn.Conv1d(in_channels=1, out_channels=16, kernel_size=3)\n",
    "        self.conv2 = nn.Conv1d(in_channels=16, out_channels=32, kernel_size=3)\n",
    "        self.pool = nn.MaxPool1d(kernel_size=2)\n",
    "        \n",
    "        # Fully connected layers\n",
    "        self.dense1 = nn.Linear(8128, 4096)\n",
    "        self.dense2 = nn.Linear(4096, 1024)\n",
    "        self.out_proj = nn.Linear(1024, config.num_labels)\n",
    "        \n",
    "        self.dropout = nn.Dropout(config.final_dropout)\n",
    "    \n",
    "    def forward(self, features, **kwargs):\n",
    "        x = features.unsqueeze(1) # [4, 1, 1024]\n",
    "\n",
    "        # 1D CNN layers\n",
    "        x = self.pool(torch.relu(self.conv1(x))) # torch.Size([4, 16, 511])\n",
    "        \n",
    "        x = self.pool(torch.relu(self.conv2(x))) # torch.Size([4, 32, 254])\n",
    "        \n",
    "        x = torch.flatten(x, 1) # torch.Size([4, 8128])\n",
    "\n",
    "        # FC layers\n",
    "        \n",
    "        x = self.dropout(x)\n",
    "        \n",
    "        x = self.dropout(torch.relu(self.dense1(x)))\n",
    "        \n",
    "        x = self.dropout(torch.relu(self.dense2(x)))\n",
    "        \n",
    "        x = self.out_proj(x)\n",
    "        \n",
    "        return x\n",
    "    \n",
    "class Classification_LSTM(nn.Module):\n",
    "    def __init__(self, config):\n",
    "        super().__init__()\n",
    "        self.num_layers = 4\n",
    "        self.hidden_dim = 512\n",
    "        \n",
    "        self.lstm = nn.LSTM(1024, self.hidden_dim, num_layers=self.num_layers, dropout=0.2, batch_first=True)\n",
    "        self.dropout = nn.Dropout(config.final_dropout)\n",
    "        self.fc = nn.Linear(512, 128)\n",
    "        self.out_proj = nn.Linear(128, config.num_labels)\n",
    "        \n",
    "    def init_hidden(self):\n",
    "        hidden = torch.zeros(self.num_layers, self.hidden_dim).to(device)\n",
    "        cell = torch.zeros(self.num_layers, self.hidden_dim).to(device)\n",
    "        return hidden, cell\n",
    "    \n",
    "    def detach_hidden(self, hidden):\n",
    "        hidden, cell = hidden\n",
    "        hidden, cell = hidden.detach(), cell.detach()\n",
    "        return hidden, cell\n",
    "    \n",
    "    def forward(self, features, hidden, **kwargs):\n",
    "        x = features\n",
    "        \n",
    "        x, hidden = self.lstm(x, hidden)\n",
    "        \n",
    "        x = self.dropout(x)\n",
    "        \n",
    "        x = self.dropout(torch.relu(self.fc(x)))\n",
    "        \n",
    "        x = self.out_proj(x)\n",
    "        \n",
    "        return x, hidden"
   ]
  },
  {
   "cell_type": "code",
   "execution_count": 7,
   "id": "bb7d05b4",
   "metadata": {},
   "outputs": [],
   "source": [
    "# Model\n",
    "@dataclass\n",
    "class SpeechClassifierOutput(ModelOutput):\n",
    "    loss: Optional[torch.FloatTensor] = None\n",
    "    logits: torch.FloatTensor = None\n",
    "    hidden_states: Optional[Tuple[torch.FloatTensor]] = None\n",
    "    attentions: Optional[Tuple[torch.FloatTensor]] = None\n",
    "\n",
    "    \n",
    "class SER_Model(Wav2Vec2PreTrainedModel):\n",
    "    def __init__(self, config, classification_type=\"fc\"):\n",
    "        super().__init__(config)\n",
    "        self.num_labels = config.num_labels\n",
    "        self.pooling_mode = config.pooling_mode\n",
    "        self.config = config\n",
    "        \n",
    "        self.wav2vec2 = Wav2Vec2Model(config)\n",
    "        \n",
    "        # Choose classifier\n",
    "        self.classifier = Classification_FC(config)\n",
    "        self.classification_type = classification_type\n",
    "        if classification_type == \"cnn\":\n",
    "            self.classifier = Classification_CNN(config)\n",
    "        elif classification_type == \"lstm\":\n",
    "            self.classifier = Classification_LSTM(config)\n",
    "            self.hidden = self.classifier.init_hidden()\n",
    "        \n",
    "        \n",
    "        self.init_weights()\n",
    "        self.loss_fct = CrossEntropyLoss()\n",
    "    \n",
    "    def freeze_feature_extractor(self):\n",
    "        self.wav2vec2.feature_extractor._freeze_parameters()\n",
    "        \n",
    "    def merged_strategy(\n",
    "        self,\n",
    "        hidden_states,\n",
    "    ):\n",
    "        # Mode: mean\n",
    "        outputs = torch.mean(hidden_states, dim=1)\n",
    "        return outputs\n",
    "\n",
    "    def forward(\n",
    "        self,\n",
    "        input_values,\n",
    "        attention_mask=None,\n",
    "        output_attentions=None,\n",
    "        output_hidden_states=None,\n",
    "        return_dict=None,\n",
    "        labels=None\n",
    "    ):\n",
    "        return_dict = return_dict if return_dict is not None else self.config.use_return_dict\n",
    "        outputs = self.wav2vec2(\n",
    "            input_values,\n",
    "            attention_mask = attention_mask,\n",
    "            output_attentions = output_attentions,\n",
    "            output_hidden_states = output_hidden_states,\n",
    "            return_dict = return_dict\n",
    "        )\n",
    "        hidden_states = outputs[0]\n",
    "        hidden_states = self.merged_strategy(hidden_states)\n",
    "        \n",
    "        logits = self.classifier(hidden_states)\n",
    "        \n",
    "        if self.classification_type == 'lstm':\n",
    "            logits, self.hidden = self.classifier(hidden_states, self.hidden) # lstm\n",
    "            self.hidden = self.classifier.detach_hidden(self.hidden)\n",
    "        else:\n",
    "            logits = self.classifier(hidden_states)\n",
    "        \n",
    "        \n",
    "        loss = self.loss_fct(logits, labels)\n",
    "        \n",
    "        if not return_dict: #???\n",
    "            output = (logits,) + outputs[2:]\n",
    "            return ((loss,) + output)\n",
    "        \n",
    "        return SpeechClassifierOutput(\n",
    "            loss = loss,\n",
    "            logits = logits,\n",
    "            hidden_states = outputs.hidden_states,\n",
    "            attentions = outputs.attentions\n",
    "        )\n",
    "        \n",
    "        \n",
    "        \n",
    "        \n",
    "    "
   ]
  },
  {
   "cell_type": "code",
   "execution_count": 8,
   "id": "f3e2c6f5",
   "metadata": {},
   "outputs": [],
   "source": [
    "# REVIEW!!!\n",
    "@dataclass\n",
    "class DataCollatorCTCWithPadding:\n",
    "    processor: Wav2Vec2Processor\n",
    "    padding: Union[bool, str] = True\n",
    "    max_length: Optional[int] = None\n",
    "    max_length_labels: Optional[int] = None\n",
    "    pad_to_multiple_of: Optional[int] = None\n",
    "    pad_to_multiple_of_labels: Optional[int] = None\n",
    "\n",
    "    def __call__(self, features: List[Dict[str, Union[List[int], torch.Tensor]]]) -> Dict[str, torch.Tensor]:\n",
    "        input_features = [{\"input_values\": feature[\"input_values\"]} for feature in features]\n",
    "        label_features = [feature[\"labels\"] for feature in features]\n",
    "\n",
    "        d_type = torch.long if isinstance(label_features[0], int) else torch.float\n",
    "\n",
    "        batch = self.processor.pad(\n",
    "            input_features,\n",
    "            padding=self.padding,\n",
    "            max_length=self.max_length,\n",
    "            pad_to_multiple_of=self.pad_to_multiple_of,\n",
    "            return_tensors=\"pt\",\n",
    "        )\n",
    "\n",
    "        batch[\"labels\"] = torch.tensor(label_features, dtype=d_type)\n",
    "\n",
    "        return batch\n",
    "    \n",
    "data_collator = DataCollatorCTCWithPadding(processor=processor, padding=True)\n"
   ]
  },
  {
   "cell_type": "code",
   "execution_count": 9,
   "id": "da12f96b",
   "metadata": {},
   "outputs": [],
   "source": [
    "def compute_metrics(p: EvalPrediction):\n",
    "    preds = p.predictions[0] if isinstance(p.predictions, tuple) else p.predictions\n",
    "    preds = np.argmax(preds, axis=1)\n",
    "    return {\"accuracy\": (preds == p.label_ids).astype(np.float32).mean().item()}"
   ]
  },
  {
   "cell_type": "code",
   "execution_count": 10,
   "id": "abaed40f",
   "metadata": {},
   "outputs": [
    {
     "name": "stderr",
     "output_type": "stream",
     "text": [
      "/usr4/ugrad/jhua2/.local/lib/python3.10/site-packages/transformers/training_args.py:1449: FutureWarning: `evaluation_strategy` is deprecated and will be removed in version 4.46 of 🤗 Transformers. Use `eval_strategy` instead\n",
      "  warnings.warn(\n"
     ]
    }
   ],
   "source": [
    "training_args = TrainingArguments(\n",
    "    output_dir = \"./test_outputs/\",\n",
    "    per_device_train_batch_size=2,\n",
    "    per_device_eval_batch_size=2,\n",
    "    gradient_accumulation_steps=2,\n",
    "    evaluation_strategy=\"steps\",\n",
    "    num_train_epochs=10.0,\n",
    "    fp16=True,\n",
    "    save_steps=1000,\n",
    "    eval_steps=1000,\n",
    "    logging_steps=1000,\n",
    "    learning_rate=1e-4,\n",
    "    save_total_limit=2,\n",
    ")"
   ]
  },
  {
   "cell_type": "code",
   "execution_count": 11,
   "id": "5b0e001c",
   "metadata": {},
   "outputs": [
    {
     "name": "stdout",
     "output_type": "stream",
     "text": [
      "env: WANDB_WATCH=all\n",
      "env: WANDB_LOG_MODEL=1\n",
      "env: WANDB_PROJECT=\"Speech-Emotion-Recognition\"\n",
      "\u001b[34m\u001b[1mwandb\u001b[0m: Appending key for api.wandb.ai to your netrc file: /usr4/ugrad/jhua2/.netrc\n"
     ]
    }
   ],
   "source": [
    "%env WANDB_WATCH=all\n",
    "%env WANDB_LOG_MODEL=1\n",
    "%env WANDB_PROJECT=\"Speech-Emotion-Recognition\"\n",
    "!wandb login 2f06d46d1776b669cf43407c6d32e3e34fafdb29 --relogin"
   ]
  },
  {
   "cell_type": "code",
   "execution_count": 12,
   "id": "79a09e65",
   "metadata": {},
   "outputs": [
    {
     "name": "stderr",
     "output_type": "stream",
     "text": [
      "Some weights of SER_Model were not initialized from the model checkpoint at lighteternal/wav2vec2-large-xlsr-53-greek and are newly initialized: ['classifier.dense.bias', 'classifier.dense.weight', 'classifier.out_proj.bias', 'classifier.out_proj.weight']\n",
      "You should probably TRAIN this model on a down-stream task to be able to use it for predictions and inference.\n",
      "Detected kernel version 4.18.0, which is below the recommended minimum of 5.5.0; this can cause the process to hang. It is recommended to upgrade the kernel to the minimum version or higher.\n",
      "Failed to detect the name of this notebook, you can set it manually with the WANDB_NOTEBOOK_NAME environment variable to enable code saving.\n",
      "\u001b[34m\u001b[1mwandb\u001b[0m: Currently logged in as: \u001b[33mjaylinlily123\u001b[0m. Use \u001b[1m`wandb login --relogin`\u001b[0m to force relogin\n"
     ]
    },
    {
     "data": {
      "text/html": [
       "wandb version 0.16.6 is available!  To upgrade, please run:\n",
       " $ pip install wandb --upgrade"
      ],
      "text/plain": [
       "<IPython.core.display.HTML object>"
      ]
     },
     "metadata": {},
     "output_type": "display_data"
    },
    {
     "data": {
      "text/html": [
       "Tracking run with wandb version 0.15.5"
      ],
      "text/plain": [
       "<IPython.core.display.HTML object>"
      ]
     },
     "metadata": {},
     "output_type": "display_data"
    },
    {
     "data": {
      "text/html": [
       "Run data is saved locally in <code>/projectnb/ec522/students/jhua2/EC523-SER/wandb/run-20240423_195458-yzdj5gch</code>"
      ],
      "text/plain": [
       "<IPython.core.display.HTML object>"
      ]
     },
     "metadata": {},
     "output_type": "display_data"
    },
    {
     "data": {
      "text/html": [
       "Syncing run <strong><a href='https://wandb.ai/jaylinlily123/%22Speech-Emotion-Recognition%22/runs/yzdj5gch' target=\"_blank\">warm-donkey-19</a></strong> to <a href='https://wandb.ai/jaylinlily123/%22Speech-Emotion-Recognition%22' target=\"_blank\">Weights & Biases</a> (<a href='https://wandb.me/run' target=\"_blank\">docs</a>)<br/>"
      ],
      "text/plain": [
       "<IPython.core.display.HTML object>"
      ]
     },
     "metadata": {},
     "output_type": "display_data"
    },
    {
     "data": {
      "text/html": [
       " View project at <a href='https://wandb.ai/jaylinlily123/%22Speech-Emotion-Recognition%22' target=\"_blank\">https://wandb.ai/jaylinlily123/%22Speech-Emotion-Recognition%22</a>"
      ],
      "text/plain": [
       "<IPython.core.display.HTML object>"
      ]
     },
     "metadata": {},
     "output_type": "display_data"
    },
    {
     "data": {
      "text/html": [
       " View run at <a href='https://wandb.ai/jaylinlily123/%22Speech-Emotion-Recognition%22/runs/yzdj5gch' target=\"_blank\">https://wandb.ai/jaylinlily123/%22Speech-Emotion-Recognition%22/runs/yzdj5gch</a>"
      ],
      "text/plain": [
       "<IPython.core.display.HTML object>"
      ]
     },
     "metadata": {},
     "output_type": "display_data"
    },
    {
     "data": {
      "text/html": [
       "\n",
       "    <div>\n",
       "      \n",
       "      <progress value='21090' max='21090' style='width:300px; height:20px; vertical-align: middle;'></progress>\n",
       "      [21090/21090 2:49:08, Epoch 9/10]\n",
       "    </div>\n",
       "    <table border=\"1\" class=\"dataframe\">\n",
       "  <thead>\n",
       " <tr style=\"text-align: left;\">\n",
       "      <th>Step</th>\n",
       "      <th>Training Loss</th>\n",
       "      <th>Validation Loss</th>\n",
       "      <th>Accuracy</th>\n",
       "    </tr>\n",
       "  </thead>\n",
       "  <tbody>\n",
       "    <tr>\n",
       "      <td>1000</td>\n",
       "      <td>0.812000</td>\n",
       "      <td>0.899499</td>\n",
       "      <td>0.735545</td>\n",
       "    </tr>\n",
       "    <tr>\n",
       "      <td>2000</td>\n",
       "      <td>0.587200</td>\n",
       "      <td>0.544841</td>\n",
       "      <td>0.851659</td>\n",
       "    </tr>\n",
       "    <tr>\n",
       "      <td>3000</td>\n",
       "      <td>0.481000</td>\n",
       "      <td>0.526368</td>\n",
       "      <td>0.868246</td>\n",
       "    </tr>\n",
       "    <tr>\n",
       "      <td>4000</td>\n",
       "      <td>0.446100</td>\n",
       "      <td>0.479834</td>\n",
       "      <td>0.868720</td>\n",
       "    </tr>\n",
       "    <tr>\n",
       "      <td>5000</td>\n",
       "      <td>0.383600</td>\n",
       "      <td>0.527172</td>\n",
       "      <td>0.870142</td>\n",
       "    </tr>\n",
       "    <tr>\n",
       "      <td>6000</td>\n",
       "      <td>0.311900</td>\n",
       "      <td>0.543197</td>\n",
       "      <td>0.872038</td>\n",
       "    </tr>\n",
       "    <tr>\n",
       "      <td>7000</td>\n",
       "      <td>0.273000</td>\n",
       "      <td>0.537007</td>\n",
       "      <td>0.882464</td>\n",
       "    </tr>\n",
       "    <tr>\n",
       "      <td>8000</td>\n",
       "      <td>0.248600</td>\n",
       "      <td>0.596102</td>\n",
       "      <td>0.886256</td>\n",
       "    </tr>\n",
       "    <tr>\n",
       "      <td>9000</td>\n",
       "      <td>0.213100</td>\n",
       "      <td>0.634240</td>\n",
       "      <td>0.882938</td>\n",
       "    </tr>\n",
       "    <tr>\n",
       "      <td>10000</td>\n",
       "      <td>0.200300</td>\n",
       "      <td>0.529269</td>\n",
       "      <td>0.896682</td>\n",
       "    </tr>\n",
       "    <tr>\n",
       "      <td>11000</td>\n",
       "      <td>0.167000</td>\n",
       "      <td>0.599052</td>\n",
       "      <td>0.891469</td>\n",
       "    </tr>\n",
       "    <tr>\n",
       "      <td>12000</td>\n",
       "      <td>0.127300</td>\n",
       "      <td>0.664589</td>\n",
       "      <td>0.898104</td>\n",
       "    </tr>\n",
       "    <tr>\n",
       "      <td>13000</td>\n",
       "      <td>0.123200</td>\n",
       "      <td>0.627866</td>\n",
       "      <td>0.904739</td>\n",
       "    </tr>\n",
       "    <tr>\n",
       "      <td>14000</td>\n",
       "      <td>0.113800</td>\n",
       "      <td>0.622363</td>\n",
       "      <td>0.899526</td>\n",
       "    </tr>\n",
       "    <tr>\n",
       "      <td>15000</td>\n",
       "      <td>0.102300</td>\n",
       "      <td>0.710068</td>\n",
       "      <td>0.893365</td>\n",
       "    </tr>\n",
       "    <tr>\n",
       "      <td>16000</td>\n",
       "      <td>0.081700</td>\n",
       "      <td>0.716818</td>\n",
       "      <td>0.900000</td>\n",
       "    </tr>\n",
       "    <tr>\n",
       "      <td>17000</td>\n",
       "      <td>0.065100</td>\n",
       "      <td>0.684527</td>\n",
       "      <td>0.902844</td>\n",
       "    </tr>\n",
       "    <tr>\n",
       "      <td>18000</td>\n",
       "      <td>0.054300</td>\n",
       "      <td>0.714152</td>\n",
       "      <td>0.902844</td>\n",
       "    </tr>\n",
       "    <tr>\n",
       "      <td>19000</td>\n",
       "      <td>0.059700</td>\n",
       "      <td>0.740467</td>\n",
       "      <td>0.898578</td>\n",
       "    </tr>\n",
       "    <tr>\n",
       "      <td>20000</td>\n",
       "      <td>0.051500</td>\n",
       "      <td>0.670331</td>\n",
       "      <td>0.903791</td>\n",
       "    </tr>\n",
       "    <tr>\n",
       "      <td>21000</td>\n",
       "      <td>0.028700</td>\n",
       "      <td>0.687660</td>\n",
       "      <td>0.904739</td>\n",
       "    </tr>\n",
       "  </tbody>\n",
       "</table><p>"
      ],
      "text/plain": [
       "<IPython.core.display.HTML object>"
      ]
     },
     "metadata": {},
     "output_type": "display_data"
    },
    {
     "name": "stderr",
     "output_type": "stream",
     "text": [
      "Detected kernel version 4.18.0, which is below the recommended minimum of 5.5.0; this can cause the process to hang. It is recommended to upgrade the kernel to the minimum version or higher.\n"
     ]
    },
    {
     "data": {
      "text/plain": [
       "TrainOutput(global_step=21090, training_loss=0.23403594779877823, metrics={'train_runtime': 10081.189, 'train_samples_per_second': 8.37, 'train_steps_per_second': 2.092, 'total_flos': 9.796257349490024e+18, 'train_loss': 0.23403594779877823, 'epoch': 9.997629770087698})"
      ]
     },
     "execution_count": 12,
     "metadata": {},
     "output_type": "execute_result"
    }
   ],
   "source": [
    "model = SER_Model.from_pretrained(\n",
    "    model_name,\n",
    "    config = config, \n",
    "    classification_type = \"fc\"\n",
    ")\n",
    "model.freeze_feature_extractor()\n",
    "\n",
    "trainer = Trainer(\n",
    "    model = model,\n",
    "    data_collator=data_collator,\n",
    "    args=training_args,\n",
    "    compute_metrics=compute_metrics,\n",
    "    train_dataset=train_dataset,\n",
    "    eval_dataset=eval_dataset,\n",
    "    tokenizer=processor.feature_extractor\n",
    ")\n",
    "\n",
    "trainer.train()"
   ]
  },
  {
   "cell_type": "code",
   "execution_count": 13,
   "id": "e15b5c42",
   "metadata": {},
   "outputs": [],
   "source": [
    "torch.save(model.state_dict(), 'wav2vec2_ser_fc.pt')"
   ]
  },
  {
   "cell_type": "code",
   "execution_count": 16,
   "id": "53a65603",
   "metadata": {},
   "outputs": [
    {
     "name": "stderr",
     "output_type": "stream",
     "text": [
      "/usr4/ugrad/jhua2/.local/lib/python3.10/site-packages/transformers/training_args.py:1449: FutureWarning: `evaluation_strategy` is deprecated and will be removed in version 4.46 of 🤗 Transformers. Use `eval_strategy` instead\n",
      "  warnings.warn(\n",
      "Some weights of SER_Model were not initialized from the model checkpoint at lighteternal/wav2vec2-large-xlsr-53-greek and are newly initialized: ['classifier.conv1.bias', 'classifier.conv1.weight', 'classifier.conv2.bias', 'classifier.conv2.weight', 'classifier.dense1.bias', 'classifier.dense1.weight', 'classifier.dense2.bias', 'classifier.dense2.weight', 'classifier.out_proj.bias', 'classifier.out_proj.weight']\n",
      "You should probably TRAIN this model on a down-stream task to be able to use it for predictions and inference.\n",
      "Detected kernel version 4.18.0, which is below the recommended minimum of 5.5.0; this can cause the process to hang. It is recommended to upgrade the kernel to the minimum version or higher.\n"
     ]
    },
    {
     "data": {
      "text/html": [
       "\n",
       "    <div>\n",
       "      \n",
       "      <progress value='25314' max='25314' style='width:300px; height:20px; vertical-align: middle;'></progress>\n",
       "      [25314/25314 1:31:40, Epoch 3/3]\n",
       "    </div>\n",
       "    <table border=\"1\" class=\"dataframe\">\n",
       "  <thead>\n",
       " <tr style=\"text-align: left;\">\n",
       "      <th>Step</th>\n",
       "      <th>Training Loss</th>\n",
       "      <th>Validation Loss</th>\n",
       "      <th>Accuracy</th>\n",
       "    </tr>\n",
       "  </thead>\n",
       "  <tbody>\n",
       "    <tr>\n",
       "      <td>8438</td>\n",
       "      <td>1.501700</td>\n",
       "      <td>1.218934</td>\n",
       "      <td>0.735545</td>\n",
       "    </tr>\n",
       "    <tr>\n",
       "      <td>16876</td>\n",
       "      <td>1.222900</td>\n",
       "      <td>1.173993</td>\n",
       "      <td>0.773934</td>\n",
       "    </tr>\n",
       "    <tr>\n",
       "      <td>25314</td>\n",
       "      <td>0.964800</td>\n",
       "      <td>0.993728</td>\n",
       "      <td>0.806161</td>\n",
       "    </tr>\n",
       "  </tbody>\n",
       "</table><p>"
      ],
      "text/plain": [
       "<IPython.core.display.HTML object>"
      ]
     },
     "metadata": {},
     "output_type": "display_data"
    },
    {
     "name": "stderr",
     "output_type": "stream",
     "text": [
      "Detected kernel version 4.18.0, which is below the recommended minimum of 5.5.0; this can cause the process to hang. It is recommended to upgrade the kernel to the minimum version or higher.\n"
     ]
    },
    {
     "data": {
      "text/plain": [
       "TrainOutput(global_step=25314, training_loss=1.2297895078439796, metrics={'train_runtime': 5033.3787, 'train_samples_per_second': 5.029, 'train_steps_per_second': 5.029, 'total_flos': 2.6041270238980444e+18, 'train_loss': 1.2297895078439796, 'epoch': 3.0})"
      ]
     },
     "execution_count": 16,
     "metadata": {},
     "output_type": "execute_result"
    }
   ],
   "source": [
    "# CNN as classification head\n",
    "training_args = TrainingArguments(\n",
    "    output_dir = \"./test_outputs/\",\n",
    "    per_device_train_batch_size=1,\n",
    "    per_device_eval_batch_size=1,\n",
    "    gradient_accumulation_steps=1,\n",
    "    evaluation_strategy=\"steps\",\n",
    "    num_train_epochs=3.0,\n",
    "    fp16=True,\n",
    "    save_steps=8438,\n",
    "    eval_steps=8438,\n",
    "    logging_steps=8438,\n",
    "    learning_rate=1e-4,\n",
    "    save_total_limit=2,\n",
    ")\n",
    "\n",
    "model_cnn = SER_Model.from_pretrained(\n",
    "    model_name,\n",
    "    config = config, \n",
    "    classification_type = \"cnn\"\n",
    ")\n",
    "model_cnn.freeze_feature_extractor()\n",
    "\n",
    "trainer_cnn = Trainer(\n",
    "    model = model_cnn,\n",
    "    data_collator=data_collator,\n",
    "    args=training_args,\n",
    "    compute_metrics=compute_metrics,\n",
    "    train_dataset=train_dataset,\n",
    "    eval_dataset=eval_dataset,\n",
    "    tokenizer=processor.feature_extractor\n",
    ")\n",
    "\n",
    "trainer_cnn.train()"
   ]
  },
  {
   "cell_type": "code",
   "execution_count": 17,
   "id": "66d8da38",
   "metadata": {},
   "outputs": [],
   "source": [
    "torch.save(model_cnn.state_dict(), 'wav2vec2_ser_cnn_3epochs.pt')"
   ]
  },
  {
   "cell_type": "code",
   "execution_count": 81,
   "id": "72b2aeee",
   "metadata": {},
   "outputs": [],
   "source": [
    "test_dataset = load_dataset(\"csv\", data_files={\"test\": \"test.csv\"}, delimiter=\"\\t\")[\"test\"]\n",
    "model = model.to(device) # model_cnn?\n",
    "\n",
    "def predict(speech, label):\n",
    "    features = processor(speech, sampling_rate=target_sampling_rate, return_tensors=\"pt\", padding=True)\n",
    "    \n",
    "    input_values = features.input_values.to(device)\n",
    "    attention_mask = features.attention_mask.to(device)\n",
    "    labels = torch.tensor([label]).to(device)\n",
    "    print(labels.size(), input_values.size())\n",
    "    \n",
    "    with torch.no_grad():\n",
    "        logits = model(input_values, attention_mask = attention_mask, labels=labels).logits\n",
    "        \n",
    "    scores = F.softmax(logits, dim=1).detach().cpu().numpy()[0]\n",
    "    outputs = [{\"Emotion\": config.id2label[i], \"Score\": f\"{round(score * 100, 3):.1f}%\"} for i, score in enumerate(scores)]\n",
    "    return outputs\n",
    "\n",
    "\n",
    "def prediction(df_row):\n",
    "    path, emotion = df_row[\"path\"], df_row[\"emotion\"]\n",
    "    df = pd.DataFrame([{\"Emotion\": emotion, \"Sentence\": \"    \"}])\n",
    "    setup = {\n",
    "        'border': 2,\n",
    "        'show_dimensions': True,\n",
    "        'justify': 'center',\n",
    "        'classes': 'xxx',\n",
    "        'escape': False,\n",
    "    }\n",
    "    speech, label = load_audio(path), label2id[emotion]\n",
    "    outputs = predict(speech, label)\n",
    "    r = pd.DataFrame(outputs)\n",
    "    \n",
    "    ipd.display(ipd.Audio(data=np.asarray(speech), rate=target_sampling_rate))\n",
    "    print(r)\n",
    "    print(\"Label: \", emotion)\n",
    "    #ipd.display(ipd.HTML(STYLES + r.to_html(**setup) + \"<br />\"))"
   ]
  },
  {
   "cell_type": "code",
   "execution_count": 83,
   "id": "ed249123",
   "metadata": {},
   "outputs": [
    {
     "name": "stdout",
     "output_type": "stream",
     "text": [
      "torch.Size([1]) torch.Size([1, 66201])\n"
     ]
    },
    {
     "data": {
      "text/html": [
       "\n",
       "                <audio  controls=\"controls\" >\n",
       "                    <source src=\"data:audio/wav;base64,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\" type=\"audio/wav\" />\n",
       "                    Your browser does not support the audio element.\n",
       "                </audio>\n",
       "              "
      ],
      "text/plain": [
       "<IPython.lib.display.Audio object>"
      ]
     },
     "metadata": {},
     "output_type": "display_data"
    },
    {
     "name": "stdout",
     "output_type": "stream",
     "text": [
      "     Emotion  Score\n",
      "0    neutral   1.2%\n",
      "1       calm   0.0%\n",
      "2      happy  15.0%\n",
      "3        sad   0.0%\n",
      "4      angry  34.4%\n",
      "5    fearful   0.1%\n",
      "6    disgust   4.2%\n",
      "7  surprised  45.0%\n",
      "Label:  surprised\n"
     ]
    }
   ],
   "source": [
    "test = pd.read_csv(\"test.csv\", sep=\"\\t\")\n",
    "prediction(test.iloc[1])"
   ]
  },
  {
   "cell_type": "code",
   "execution_count": null,
   "id": "23d48fe2",
   "metadata": {},
   "outputs": [],
   "source": [
    "# Test accuracy on each dataset"
   ]
  }
 ],
 "metadata": {
  "kernelspec": {
   "display_name": "Python 3 (ipykernel)",
   "language": "python",
   "name": "python3"
  },
  "language_info": {
   "codemirror_mode": {
    "name": "ipython",
    "version": 3
   },
   "file_extension": ".py",
   "mimetype": "text/x-python",
   "name": "python",
   "nbconvert_exporter": "python",
   "pygments_lexer": "ipython3",
   "version": "3.10.12"
  }
 },
 "nbformat": 4,
 "nbformat_minor": 5
}
