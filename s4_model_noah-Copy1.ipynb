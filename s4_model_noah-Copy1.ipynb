{
 "cells": [
  {
   "cell_type": "markdown",
   "id": "c00ff9b56646f4fc",
   "metadata": {},
   "source": [
    "This notebook is for S4 architecture building"
   ]
  },
  {
   "cell_type": "markdown",
   "id": "64ff8dd447de5ae3",
   "metadata": {},
   "source": [
    "# Settings"
   ]
  },
  {
   "cell_type": "code",
   "execution_count": 1,
   "id": "65b10781",
   "metadata": {
    "scrolled": true
   },
   "outputs": [
    {
     "name": "stdout",
     "output_type": "stream",
     "text": [
      "Sun Apr 21 10:02:35 2024       \n",
      "+-----------------------------------------------------------------------------------------+\n",
      "| NVIDIA-SMI 550.54.15              Driver Version: 550.54.15      CUDA Version: 12.4     |\n",
      "|-----------------------------------------+------------------------+----------------------+\n",
      "| GPU  Name                 Persistence-M | Bus-Id          Disp.A | Volatile Uncorr. ECC |\n",
      "| Fan  Temp   Perf          Pwr:Usage/Cap |           Memory-Usage | GPU-Util  Compute M. |\n",
      "|                                         |                        |               MIG M. |\n",
      "|=========================================+========================+======================|\n",
      "|   0  Tesla V100-SXM2-16GB           On  |   00000000:18:00.0 Off |                    0 |\n",
      "| N/A   41C    P0             43W /  300W |       0MiB /  16384MiB |      0%   E. Process |\n",
      "|                                         |                        |                  N/A |\n",
      "+-----------------------------------------+------------------------+----------------------+\n",
      "|   1  Tesla V100-SXM2-16GB           On  |   00000000:3B:00.0 Off |                    0 |\n",
      "| N/A   45C    P0            106W /  300W |    1325MiB /  16384MiB |     39%   E. Process |\n",
      "|                                         |                        |                  N/A |\n",
      "+-----------------------------------------+------------------------+----------------------+\n",
      "|   2  Tesla V100-SXM2-16GB           On  |   00000000:86:00.0 Off |                    0 |\n",
      "| N/A   61C    P0            240W /  300W |    8785MiB /  16384MiB |     95%   E. Process |\n",
      "|                                         |                        |                  N/A |\n",
      "+-----------------------------------------+------------------------+----------------------+\n",
      "|   3  Tesla V100-SXM2-16GB           On  |   00000000:AF:00.0 Off |                    0 |\n",
      "| N/A   46C    P0             49W /  300W |       0MiB /  16384MiB |      0%   E. Process |\n",
      "|                                         |                        |                  N/A |\n",
      "+-----------------------------------------+------------------------+----------------------+\n",
      "                                                                                         \n",
      "+-----------------------------------------------------------------------------------------+\n",
      "| Processes:                                                                              |\n",
      "|  GPU   GI   CI        PID   Type   Process name                              GPU Memory |\n",
      "|        ID   ID                                                               Usage      |\n",
      "|=========================================================================================|\n",
      "|    1   N/A  N/A   1035505      C   python3                                      1322MiB |\n",
      "|    2   N/A  N/A    301561      C   ...chuang2/.conda/envs/py38/bin/python       8782MiB |\n",
      "+-----------------------------------------------------------------------------------------+\n",
      "['/projectnb/dl523/students/savageaf/project/EC523-SER/s4', '/share/pkg.8/python3/3.10.12/install/lib/python310.zip', '/share/pkg.8/python3/3.10.12/install/lib/python3.10', '/share/pkg.8/python3/3.10.12/install/lib/python3.10/lib-dynload', '', '/usr3/graduate/savageaf/.local/lib/python3.10/site-packages', '/share/pkg.8/python3/3.10.12/install/lib/python3.10/site-packages']\n"
     ]
    }
   ],
   "source": [
    "# check GPU status\n",
    "!nvidia-smi\n",
    "\n",
    "# added this to try and troubleshoot my own SCC issues\n",
    "import sys\n",
    "print(sys.path)\n",
    "PATH = \"/projectnb/perchash/venvs/dl/lib/python3.10/site-packages\"\n",
    "sys.path.append(PATH)"
   ]
  },
  {
   "cell_type": "code",
   "execution_count": 2,
   "id": "9b17bbe13f1d022e",
   "metadata": {
    "ExecuteTime": {
     "end_time": "2024-04-20T18:17:17.419180Z",
     "start_time": "2024-04-20T18:17:17.414711Z"
    }
   },
   "outputs": [],
   "source": [
    "import os\n",
    "import os.path as op\n",
    "\n",
    "# Settings\n",
    "# Presets from S4 example\n",
    "n_layers=4\n",
    "d_model=126 # Model dimension\n",
    "dropout=0.1\n",
    "prenorm=True\n",
    "batch_size=64\n",
    "num_workers=4\n",
    "\n",
    "d_input = 1 # Because input is grayscale image. Make 3 for RGB\n",
    "d_output = 10\n",
    "\n",
    "# Use to load from a checkpoint\n",
    "start_epoch = 0\n",
    "\n",
    "fs = 16000\n",
    "\n",
    "lr = 1e-2\n",
    "weight_decay = 1e-2\n",
    "epochs=100\n",
    "\n",
    "import torch\n",
    "device = 'cuda' if torch.cuda.is_available() else 'cpu'\n",
    "\n",
    "# Specify the directory you want the datasets to be contained in\n",
    "pdir=\"/projectnb/dl523/students/savageaf/project/EC523-SER/\"\n",
    "dataset_dir = op.join(pdir,\"datasets\")\n",
    "\n"
   ]
  },
  {
   "cell_type": "markdown",
   "id": "47d6835928f677fb",
   "metadata": {},
   "source": [
    "# Test DataLoader"
   ]
  },
  {
   "cell_type": "code",
   "execution_count": 3,
   "id": "960ae1941ac65cb",
   "metadata": {
    "ExecuteTime": {
     "end_time": "2024-04-20T18:17:20.843095Z",
     "start_time": "2024-04-20T18:17:19.875530Z"
    }
   },
   "outputs": [],
   "source": [
    "from torch.utils.data import DataLoader\n",
    "from dataset import download_datasets, SpeechEmotionDataset, get_dataset_info\n",
    "\n",
    "import torchaudio.transforms as t\n",
    "from tqdm.auto import tqdm\n",
    "import pandas as pd\n",
    "\n",
    "# Download a single dataset\n",
    "#download_datasets(dataset_dir)\n",
    "\n",
    "# Download the rest of the datasets available\n",
    "#download_datasets(dataset_dir)\n",
    "\n",
    "# Acquire info on datasets (those that have functions to get data for)\n",
    "df = get_dataset_info(dataset_dir)\n",
    "\n",
    "# Make into a Dataset object that a pytorch optimizer can use\n",
    "# Can optionally specify a sampling rate for all audio files to be in\n",
    "transforms = t.Spectrogram(n_fft=400)\n",
    "trainset = SpeechEmotionDataset(df, fs=16000, transform=transforms)"
   ]
  },
  {
   "cell_type": "code",
   "execution_count": 4,
   "id": "6047ecf19136748b",
   "metadata": {
    "ExecuteTime": {
     "end_time": "2024-04-20T18:17:22.702200Z",
     "start_time": "2024-04-20T18:17:22.692891Z"
    }
   },
   "outputs": [
    {
     "data": {
      "text/plain": [
       "tensor([0, 0, 0, 0, 0, 0, 1, 0, 0, 0], dtype=torch.uint8)"
      ]
     },
     "execution_count": 4,
     "metadata": {},
     "output_type": "execute_result"
    }
   ],
   "source": [
    "# Check it works\n",
    "dataiter = iter(trainset)\n",
    "data, label = next(dataiter) # this truncates automatically\n",
    "label"
   ]
  },
  {
   "cell_type": "code",
   "execution_count": 5,
   "id": "7eab8c156d4277e8",
   "metadata": {
    "ExecuteTime": {
     "end_time": "2024-04-20T17:37:17.622904Z",
     "start_time": "2024-04-20T17:37:17.335442Z"
    }
   },
   "outputs": [
    {
     "name": "stderr",
     "output_type": "stream",
     "text": [
      "/scratch/6777302.1.academic-gpu/ipykernel_405472/1127621095.py:2: UserWarning: Only one segment is calculated since parameter NFFT (=256) >= signal length (=201).\n",
      "  plt.specgram(data.numpy())\n"
     ]
    },
    {
     "data": {
      "image/png": "[encoded data removed]",
      "text/plain": [
       "<Figure size 640x480 with 1 Axes>"
      ]
     },
     "metadata": {},
     "output_type": "display_data"
    }
   ],
   "source": [
    "import matplotlib.pyplot as plt\n",
    "plt.specgram(data.numpy())\n",
    "plt.show()"
   ]
  },
  {
   "cell_type": "code",
   "execution_count": 6,
   "id": "ac37821138265e83",
   "metadata": {
    "ExecuteTime": {
     "end_time": "2024-04-20T17:37:19.886272Z",
     "start_time": "2024-04-20T17:37:19.881050Z"
    }
   },
   "outputs": [],
   "source": [
    "from dataset import collate_fn\n",
    "trainloader = DataLoader(trainset, batch_size=4, shuffle=True, num_workers=4, collate_fn=collate_fn)\n"
   ]
  },
  {
   "cell_type": "markdown",
   "id": "4747d3971f3cde41",
   "metadata": {},
   "source": [
    "# Create DataLoaders for train, test, eval"
   ]
  },
  {
   "cell_type": "code",
   "execution_count": 7,
   "id": "82ebb02e74f9a32d",
   "metadata": {},
   "outputs": [],
   "source": [
    "def split_train_val(train, val_split):\n",
    "    train_len = int(len(train) * (1.0-val_split))\n",
    "    train, val = torch.utils.data.random_split(\n",
    "        train,\n",
    "        (train_len, len(train) - train_len),\n",
    "        generator=torch.Generator().manual_seed(42),\n",
    "    )\n",
    "    return train, val\n",
    "\n",
    "\n",
    "\n",
    "# Specify transforms to use\n",
    "transforms = t.Spectrogram(n_fft=400)\n",
    "\n",
    "# Make trainset\n",
    "trainset = SpeechEmotionDataset(df, fs=fs, transform=transforms, train=True)\n",
    "trainset, _ = split_train_val(trainset, val_split=0.1)\n",
    "trainloader = DataLoader(trainset, batch_size=batch_size, shuffle=True, num_workers=num_workers, collate_fn=collate_fn)\n",
    "\n",
    "# Make valset\n",
    "valset = SpeechEmotionDataset(df, fs=fs, transform=transforms, train=True)\n",
    "_, valset = split_train_val(valset, val_split=0.1)\n",
    "valloader = DataLoader(valset, batch_size=batch_size, shuffle=False, num_workers=num_workers, collate_fn=collate_fn)\n",
    "\n",
    "# Make testset\n",
    "testset = SpeechEmotionDataset(df, fs=fs, transform=transforms, train=False)\n",
    "testloader = DataLoader(testset, batch_size=batch_size, shuffle=False, num_workers=num_workers, collate_fn=collate_fn)"
   ]
  },
  {
   "cell_type": "code",
   "execution_count": 8,
   "id": "9c40c6b8",
   "metadata": {},
   "outputs": [
    {
     "name": "stdout",
     "output_type": "stream",
     "text": [
      "                                                filename        emotion_onehot\n",
      "0      /projectnb/dl523/students/savageaf/project/EC5...  [0.0, 0.0, 1.0, 0.0]\n",
      "1      /projectnb/dl523/students/savageaf/project/EC5...  [0.0, 0.0, 1.0, 0.0]\n",
      "2      /projectnb/dl523/students/savageaf/project/EC5...  [0.0, 0.0, 1.0, 0.0]\n",
      "3      /projectnb/dl523/students/savageaf/project/EC5...  [0.0, 0.0, 1.0, 0.0]\n",
      "4      /projectnb/dl523/students/savageaf/project/EC5...  [1.0, 0.0, 0.0, 0.0]\n",
      "...                                                  ...                   ...\n",
      "10543  /projectnb/dl523/students/savageaf/project/EC5...  [0.0, 0.0, 1.0, 0.0]\n",
      "10544  /projectnb/dl523/students/savageaf/project/EC5...  [0.0, 0.0, 1.0, 0.0]\n",
      "10545  /projectnb/dl523/students/savageaf/project/EC5...  [1.0, 0.0, 0.0, 0.0]\n",
      "10546  /projectnb/dl523/students/savageaf/project/EC5...  [0.0, 0.0, 1.0, 0.0]\n",
      "10547  /projectnb/dl523/students/savageaf/project/EC5...  [1.0, 0.0, 0.0, 0.0]\n",
      "\n",
      "[10548 rows x 2 columns]\n"
     ]
    }
   ],
   "source": [
    "from sklearn.preprocessing import LabelEncoder, OneHotEncoder, StandardScaler\n",
    "\n",
    "X = df['filename'] # extracts filenames from info dataframe\n",
    "#column_headers = df.columns\n",
    "shared_emotions = ['anger', 'happy', 'neutral', 'sadness'] # the emotions that are common to all databases\n",
    "filtered_df = df[df['emotion'].isin(shared_emotions)]\n",
    "filtered_df = filtered_df.reset_index(drop=True) # dataframe with only shared emotions\n",
    "\n",
    "# Label encoding\n",
    "label_encoder = LabelEncoder()\n",
    "integer_encoding = label_encoder.fit_transform(filtered_df['emotion']) # encoding indices of one hot vectors as ints\n",
    "\n",
    "# Binary encoding\n",
    "one_hot_encoder = OneHotEncoder(sparse_output=False)\n",
    "integer_encoding = integer_encoding.reshape(-1, 1) # nested list\n",
    "one_hot_encoding = one_hot_encoder.fit_transform(integer_encoding) # show corresponding one-hot vectors\n",
    "\n",
    "# One-hot encoding to DataFrame\n",
    "one_hot_df = pd.DataFrame(one_hot_encoding, columns=label_encoder.classes_)\n",
    "result_df = pd.concat([filtered_df['filename'], one_hot_df], axis=1)\n",
    "\n",
    "# Combining emotions into one array for each file name (drop individual one-hot encoded columns)\n",
    "result_df['emotion_onehot'] = result_df.iloc[:, 1:].values.tolist()\n",
    "result_df.drop(result_df.columns[1:-1], axis=1, inplace=True)\n",
    "\n",
    "# print(\"Current dataframe: \")\n",
    "print(result_df)"
   ]
  },
  {
   "cell_type": "code",
   "execution_count": 9,
   "id": "2d491094",
   "metadata": {},
   "outputs": [
    {
     "name": "stdout",
     "output_type": "stream",
     "text": [
      "Size of dataset:  10548\n",
      "Size of Training data (%):  70.00379218809253\n",
      "Size of Testing data (%):  19.994311717861205\n",
      "Size of Validation data (%):  10.001896094046264\n"
     ]
    }
   ],
   "source": [
    "from dataset import SoundDS\n",
    "from torch.utils.data import Dataset, DataLoader, random_split\n",
    "\n",
    "# result_df consists of filename and the one-hot encoded emotions\n",
    "dataset = SoundDS(result_df)\n",
    "\n",
    "# Random split with ratios of 70% training, 10% validation, and 20% testing\n",
    "total_items = len(dataset)\n",
    "train_size = round(total_items * 0.7)\n",
    "val_size = round(total_items * 0.1)\n",
    "test_size = total_items - train_size - val_size\n",
    "\n",
    "# Checking dataset split\n",
    "print(\"Size of dataset: \", total_items)\n",
    "print(\"Size of Training data (%): \", train_size / total_items * 100)\n",
    "print(\"Size of Testing data (%): \", test_size / total_items * 100)\n",
    "print(\"Size of Validation data (%): \", val_size / total_items * 100)\n",
    "\n",
    "train_ds, val_ds, test_ds = random_split(dataset, [train_size, val_size, test_size])\n",
    "\n",
    "# Create training and validation data loaders\n",
    "train_loader = torch.utils.data.DataLoader(train_ds, batch_size=16, shuffle=True)\n",
    "val_loader = torch.utils.data.DataLoader(val_ds, batch_size=16, shuffle=False)\n",
    "test_loader = torch.utils.data.DataLoader(test_ds, batch_size=16, shuffle=False)"
   ]
  },
  {
   "cell_type": "code",
   "execution_count": 10,
   "id": "165ac7ce",
   "metadata": {},
   "outputs": [
    {
     "name": "stdout",
     "output_type": "stream",
     "text": [
      "Shape of sample_data:  (batch_sz, num_channels, Mel freq_bands, time_steps) torch.Size([16, 1, 64, 126])\n",
      "Shape of Mel Spectrogram: (num_channels, Mel freq_bands, time_steps in spec) torch.Size([1, 64, 126]) \n",
      "\n"
     ]
    },
    {
     "data": {
      "image/png": "[encoded data removed]",
      "text/plain": [
       "<Figure size 1000x400 with 2 Axes>"
      ]
     },
     "metadata": {},
     "output_type": "display_data"
    }
   ],
   "source": [
    "import random\n",
    "\n",
    "# Check size of mel spectrogram at the end: \n",
    "# e.g. (num_channels, Mel freq_bands, time_steps in spec) = (2, 64, 344)\n",
    "sample_data, _ = next(iter(train_loader))\n",
    "print(\"Shape of sample_data: \", \"(batch_sz, num_channels, Mel freq_bands, time_steps)\", sample_data.shape)\n",
    "# torch.Size([16, 1, 64, 126])\n",
    "\n",
    "mel_spectrogram = sample_data[0]\n",
    "\n",
    "mel_shape = mel_spectrogram.shape\n",
    "print(\"Shape of Mel Spectrogram:\", \"(num_channels, Mel freq_bands, time_steps in spec)\", mel_shape, \"\\n\")\n",
    "# torch.Size([1, 64, 126])\n",
    "\n",
    "# Spectrogram for 1st channel\n",
    "mel_spectrogram = sample_data[0]\n",
    "\n",
    "mel_spectrogram = mel_spectrogram.squeeze()\n",
    "\n",
    "# Plot the Mel Spectrogram\n",
    "plt.figure(figsize=(10, 4))\n",
    "plt.imshow(mel_spectrogram.numpy(), cmap='inferno', origin='lower')\n",
    "\n",
    "n_freq_masks = 2\n",
    "n_time_masks = 2\n",
    "\n",
    "# Overlay frequency and time masking\n",
    "for _ in range(n_freq_masks):\n",
    "    freq_mask_range = torch.randint(1, mel_spectrogram.size(0)//2, (1,)).item()\n",
    "    freq_mask_start = torch.randint(0, mel_spectrogram.size(0) - freq_mask_range, (1,)).item()\n",
    "    mel_spectrogram[freq_mask_start:freq_mask_start+freq_mask_range, :] = mel_spectrogram.mean()\n",
    "\n",
    "for _ in range(n_time_masks):\n",
    "    time_mask_range = torch.randint(1, mel_spectrogram.size(1)//2, (1,)).item()\n",
    "    time_mask_start = torch.randint(0, mel_spectrogram.size(1) - time_mask_range, (1,)).item()\n",
    "    mel_spectrogram[:, time_mask_start:time_mask_start+time_mask_range] = mel_spectrogram.mean()\n",
    "\n",
    "plt.title('Mel Spectrograms with frequency and time masking augmentation')\n",
    "plt.xlabel('Time')\n",
    "plt.ylabel('Mel Frequency Bands')\n",
    "plt.colorbar(label='dB')\n",
    "plt.show()"
   ]
  },
  {
   "cell_type": "markdown",
   "id": "84aabd5e8e672e6a",
   "metadata": {},
   "source": [
    "# Create S4 model"
   ]
  },
  {
   "cell_type": "code",
   "execution_count": 11,
   "id": "c13251c1d7f15b17",
   "metadata": {},
   "outputs": [],
   "source": [
    "import torch\n",
    "import torch.nn as nn\n",
    "import torch.optim as optim\n",
    "import torch.backends.cudnn as cudnn\n",
    "#from s4.models.s4.s4d import S4D\n",
    "from models.s4.s4d import S4D\n",
    "\n",
    "\n",
    "# Dropout broke in PyTorch 1.11\n",
    "if tuple(map(int, torch.__version__.split('.')[:2])) == (1, 11):\n",
    "    print(\"WARNING: Dropout is bugged in PyTorch 1.11. Results may be worse.\")\n",
    "    dropout_fn = nn.Dropout\n",
    "if tuple(map(int, torch.__version__.split('.')[:2])) >= (1, 12):\n",
    "    dropout_fn = nn.Dropout1d\n",
    "else:\n",
    "    dropout_fn = nn.Dropout2d\n",
    "    \n",
    "\n",
    "class S4Model(nn.Module):\n",
    "\n",
    "    def __init__(\n",
    "        self,\n",
    "        d_input,\n",
    "        d_output=10,\n",
    "        d_model=256,\n",
    "        n_layers=4,\n",
    "        dropout=0.2,\n",
    "        prenorm=False,\n",
    "        lr=1-2\n",
    "    ):\n",
    "        super().__init__()\n",
    "\n",
    "        self.prenorm = prenorm\n",
    "\n",
    "        # Linear encoder (d_input = 1 for grayscale and 3 for RGB)\n",
    "        self.encoder = nn.Linear(d_input, d_model)\n",
    "        #self.encoder = nn.Linear(d_model, d_input)\n",
    "\n",
    "        # Stack S4 layers as residual blocks\n",
    "        self.s4_layers = nn.ModuleList()\n",
    "        self.norms = nn.ModuleList()\n",
    "        self.dropouts = nn.ModuleList()\n",
    "        for _ in range(n_layers):\n",
    "            self.s4_layers.append(\n",
    "                S4D(d_model, dropout=dropout, transposed=True, lr=min(0.001, lr))\n",
    "            )\n",
    "            self.norms.append(nn.LayerNorm(d_model))\n",
    "            self.dropouts.append(dropout_fn(dropout))\n",
    "\n",
    "        # Linear decoder\n",
    "        self.decoder = nn.Linear(d_model, d_output)\n",
    "\n",
    "    def forward(self, x):\n",
    "        \"\"\"\n",
    "        Input x is shape (B, L, d_input)\n",
    "        \"\"\"\n",
    "        x = self.encoder(x)  # (B, L, d_input) -> (B, L, d_model)\n",
    "\n",
    "        x = x.transpose(-1, -2)  # (B, L, d_model) -> (B, d_model, L)\n",
    "        for layer, norm, dropout in zip(self.s4_layers, self.norms, self.dropouts):\n",
    "            # Each iteration of this loop will map (B, d_model, L) -> (B, d_model, L)\n",
    "\n",
    "            z = x\n",
    "            if self.prenorm:\n",
    "                # Prenorm\n",
    "                z = norm(z.transpose(-1, -2)).transpose(-1, -2)\n",
    "\n",
    "            # Apply S4 block: we ignore the state input and output\n",
    "            z, _ = layer(z)\n",
    "\n",
    "            # Dropout on the output of the S4 block\n",
    "            z = dropout(z)\n",
    "\n",
    "            # Residual connection\n",
    "            x = z + x\n",
    "\n",
    "            if not self.prenorm:\n",
    "                # Postnorm\n",
    "                x = norm(x.transpose(-1, -2)).transpose(-1, -2)\n",
    "\n",
    "        x = x.transpose(-1, -2)\n",
    "\n",
    "        # Pooling: average pooling over the sequence length\n",
    "        x = x.mean(dim=1)\n",
    "\n",
    "        # Decode the outputs\n",
    "        x = self.decoder(x)  # (B, d_model) -> (B, d_output)\n",
    "\n",
    "        return x\n"
   ]
  },
  {
   "cell_type": "code",
   "execution_count": 12,
   "id": "98dfb16954b11c2a",
   "metadata": {},
   "outputs": [
    {
     "name": "stdout",
     "output_type": "stream",
     "text": [
      "==> Building model..\n"
     ]
    },
    {
     "name": "stderr",
     "output_type": "stream",
     "text": [
      "/usr3/graduate/savageaf/.local/lib/python3.10/site-packages/transformers/utils/generic.py:441: UserWarning: torch.utils._pytree._register_pytree_node is deprecated. Please use torch.utils._pytree.register_pytree_node instead.\n",
      "  _torch_pytree._register_pytree_node(\n"
     ]
    }
   ],
   "source": [
    "# Model\n",
    "print('==> Building model..')\n",
    "model = S4Model(\n",
    "    d_input=d_input,\n",
    "    d_output=d_output,\n",
    "    d_model=d_model,\n",
    "    n_layers=n_layers,\n",
    "    dropout=dropout,\n",
    "    prenorm=prenorm,\n",
    "    lr=lr\n",
    ")\n",
    "\n",
    "model = model.to(device)\n",
    "if device == 'cuda':\n",
    "    cudnn.benchmark = True"
   ]
  },
  {
   "cell_type": "markdown",
   "id": "7085a126464f2f70",
   "metadata": {},
   "source": [
    "# Setup Optimizer and Loss function"
   ]
  },
  {
   "cell_type": "code",
   "execution_count": 13,
   "id": "11fc219defba3e1e",
   "metadata": {},
   "outputs": [],
   "source": [
    "def setup_optimizer(model, lr, weight_decay, epochs):\n",
    "    \"\"\"\n",
    "    S4 requires a specific optimizer setup.\n",
    "\n",
    "    The S4 layer (A, B, C, dt) parameters typically\n",
    "    require a smaller learning rate (typically 0.001), with no weight decay.\n",
    "\n",
    "    The rest of the model can be trained with a higher learning rate (e.g. 0.004, 0.01)\n",
    "    and weight decay (if desired).\n",
    "    \"\"\"\n",
    "\n",
    "    # All parameters in the model\n",
    "    all_parameters = list(model.parameters())\n",
    "\n",
    "    # General parameters don't contain the special _optim key\n",
    "    params = [p for p in all_parameters if not hasattr(p, \"_optim\")]\n",
    "\n",
    "    # Create an optimizer with the general parameters\n",
    "    optimizer = optim.AdamW(params, lr=lr, weight_decay=weight_decay)\n",
    "\n",
    "    # Add parameters with special hyperparameters\n",
    "    hps = [getattr(p, \"_optim\") for p in all_parameters if hasattr(p, \"_optim\")]\n",
    "    hps = [\n",
    "        dict(s) for s in sorted(list(dict.fromkeys(frozenset(hp.items()) for hp in hps)))\n",
    "    ]  # Unique dicts\n",
    "    for hp in hps:\n",
    "        params = [p for p in all_parameters if getattr(p, \"_optim\", None) == hp]\n",
    "        optimizer.add_param_group(\n",
    "            {\"params\": params, **hp}\n",
    "        )\n",
    "\n",
    "    # Create a lr scheduler\n",
    "    # scheduler = torch.optim.lr_scheduler.ReduceLROnPlateau(optimizer, patience=patience, factor=0.2)\n",
    "    scheduler = torch.optim.lr_scheduler.CosineAnnealingLR(optimizer, epochs)\n",
    "\n",
    "    # Print optimizer info\n",
    "    keys = sorted(set([k for hp in hps for k in hp.keys()]))\n",
    "    for i, g in enumerate(optimizer.param_groups):\n",
    "        group_hps = {k: g.get(k, None) for k in keys}\n",
    "        print(' | '.join([\n",
    "            f\"Optimizer group {i}\",\n",
    "            f\"{len(g['params'])} tensors\",\n",
    "        ] + [f\"{k} {v}\" for k, v in group_hps.items()]))\n",
    "\n",
    "    return optimizer, scheduler"
   ]
  },
  {
   "cell_type": "code",
   "execution_count": 14,
   "id": "1364b2330406ab40",
   "metadata": {},
   "outputs": [
    {
     "name": "stdout",
     "output_type": "stream",
     "text": [
      "Optimizer group 0 | 28 tensors | lr 0.01 | weight_decay 0.01\n",
      "Optimizer group 1 | 12 tensors | lr 0.001 | weight_decay 0.0\n"
     ]
    }
   ],
   "source": [
    "criterion = nn.CrossEntropyLoss()\n",
    "optimizer, scheduler = setup_optimizer(\n",
    "    model, lr=lr, weight_decay=weight_decay, epochs=epochs\n",
    ")"
   ]
  },
  {
   "cell_type": "markdown",
   "id": "a7b3be9bfb598c1f",
   "metadata": {},
   "source": [
    "# Set train() function"
   ]
  },
  {
   "cell_type": "code",
   "execution_count": 15,
   "id": "ca5069882fb3d1b0",
   "metadata": {},
   "outputs": [],
   "source": [
    "def train():\n",
    "    model.train()\n",
    "    train_loss = 0\n",
    "    correct = 0\n",
    "    total = 0\n",
    "    batch_idx = 0\n",
    "    for inputs, targets in tqdm(train_loader):\n",
    "        batch_idx +=1\n",
    "        inputs, targets = inputs.to(device), targets.to(device)\n",
    "        optimizer.zero_grad()\n",
    "        outputs = model(inputs)\n",
    "        loss = criterion(outputs, targets)\n",
    "        loss.backward()\n",
    "        optimizer.step()\n",
    "\n",
    "        train_loss += loss.item()\n",
    "        _, predicted = outputs.max(1)\n",
    "        total += targets.size(0)\n",
    "        correct += predicted.eq(targets).sum().item()\n",
    "\n",
    "        pbar.set_description(\n",
    "            'Batch Idx: (%d/%d) | Loss: %.3f | Acc: %.3f%% (%d/%d)' %\n",
    "            (batch_idx, len(trainloader), train_loss/(batch_idx+1), 100.*correct/total, correct, total)\n",
    "        )"
   ]
  },
  {
   "cell_type": "markdown",
   "id": "f6737cf3b3852db6",
   "metadata": {},
   "source": [
    "# Set eval() function"
   ]
  },
  {
   "cell_type": "code",
   "execution_count": 16,
   "id": "337202de39ba4877",
   "metadata": {},
   "outputs": [],
   "source": [
    "def eval(epoch, dataloader, checkpoint=False):\n",
    "    global best_acc\n",
    "    model.eval()\n",
    "    eval_loss = 0\n",
    "    correct = 0\n",
    "    total = 0\n",
    "    i = 0\n",
    "    with torch.no_grad():\n",
    "        for inputs, targets in tqdm(dataloader):\n",
    "            batch_idx += 1\n",
    "            inputs, targets = inputs.to(device), targets.to(device)\n",
    "            outputs = model(inputs)\n",
    "            loss = criterion(outputs, targets)\n",
    "\n",
    "            eval_loss += loss.item()\n",
    "            _, predicted = outputs.max(1)\n",
    "            total += targets.size(0)\n",
    "            correct += predicted.eq(targets).sum().item()\n",
    "\n",
    "            pbar.set_description(\n",
    "                'Batch Idx: (%d/%d) | Loss: %.3f | Acc: %.3f%% (%d/%d)' %\n",
    "                (batch_idx, len(dataloader), eval_loss/(batch_idx+1), 100.*correct/total, correct, total)\n",
    "            )\n",
    "\n",
    "    # Save checkpoint.\n",
    "    if checkpoint:\n",
    "        acc = 100.*correct/total\n",
    "        if acc > best_acc:\n",
    "            state = {\n",
    "                'model': model.state_dict(),\n",
    "                'acc': acc,\n",
    "                'epoch': epoch,\n",
    "            }\n",
    "            if not os.path.isdir('checkpoint'):\n",
    "                os.mkdir('checkpoint')\n",
    "            torch.save(state, './checkpoint/ckpt.pth')\n",
    "            best_acc = acc\n",
    "\n",
    "        return acc"
   ]
  },
  {
   "cell_type": "markdown",
   "id": "8fe4214238886351",
   "metadata": {},
   "source": [
    "# Run training and evaluation"
   ]
  },
  {
   "cell_type": "code",
   "execution_count": 17,
   "id": "6816838ac1478db0",
   "metadata": {},
   "outputs": [
    {
     "data": {
      "application/vnd.jupyter.widget-view+json": {
       "model_id": "7b4c1ebda5be4abd88a626b008724228",
       "version_major": 2,
       "version_minor": 0
      },
      "text/plain": [
       "  0%|          | 0/100 [00:00<?, ?it/s]"
      ]
     },
     "metadata": {},
     "output_type": "display_data"
    },
    {
     "data": {
      "application/vnd.jupyter.widget-view+json": {
       "model_id": "a44132ba4b9040e49fb8771b676303a3",
       "version_major": 2,
       "version_minor": 0
      },
      "text/plain": [
       "  0%|          | 0/462 [00:00<?, ?it/s]"
      ]
     },
     "metadata": {},
     "output_type": "display_data"
    },
    {
     "ename": "RuntimeError",
     "evalue": "mat1 and mat2 shapes cannot be multiplied (1024x126 and 1x126)",
     "output_type": "error",
     "traceback": [
      "\u001b[0;31m---------------------------------------------------------------------------\u001b[0m",
      "\u001b[0;31mRuntimeError\u001b[0m                              Traceback (most recent call last)",
      "Cell \u001b[0;32mIn[17], line 7\u001b[0m\n\u001b[1;32m      5\u001b[0m \u001b[38;5;28;01melse\u001b[39;00m:\n\u001b[1;32m      6\u001b[0m     pbar\u001b[38;5;241m.\u001b[39mset_description(\u001b[38;5;124m'\u001b[39m\u001b[38;5;124mEpoch: \u001b[39m\u001b[38;5;132;01m%d\u001b[39;00m\u001b[38;5;124m | Val acc: \u001b[39m\u001b[38;5;132;01m%1.3f\u001b[39;00m\u001b[38;5;124m'\u001b[39m \u001b[38;5;241m%\u001b[39m (epoch, val_acc))\n\u001b[0;32m----> 7\u001b[0m \u001b[43mtrain\u001b[49m\u001b[43m(\u001b[49m\u001b[43m)\u001b[49m\n\u001b[1;32m      8\u001b[0m val_acc \u001b[38;5;241m=\u001b[39m \u001b[38;5;28meval\u001b[39m(epoch, val_loader, checkpoint\u001b[38;5;241m=\u001b[39m\u001b[38;5;28;01mTrue\u001b[39;00m)\n\u001b[1;32m      9\u001b[0m \u001b[38;5;28meval\u001b[39m(epoch, test_loader)\n",
      "Cell \u001b[0;32mIn[15], line 11\u001b[0m, in \u001b[0;36mtrain\u001b[0;34m()\u001b[0m\n\u001b[1;32m      9\u001b[0m inputs, targets \u001b[38;5;241m=\u001b[39m inputs\u001b[38;5;241m.\u001b[39mto(device), targets\u001b[38;5;241m.\u001b[39mto(device)\n\u001b[1;32m     10\u001b[0m optimizer\u001b[38;5;241m.\u001b[39mzero_grad()\n\u001b[0;32m---> 11\u001b[0m outputs \u001b[38;5;241m=\u001b[39m \u001b[43mmodel\u001b[49m\u001b[43m(\u001b[49m\u001b[43minputs\u001b[49m\u001b[43m)\u001b[49m\n\u001b[1;32m     12\u001b[0m loss \u001b[38;5;241m=\u001b[39m criterion(outputs, targets)\n\u001b[1;32m     13\u001b[0m loss\u001b[38;5;241m.\u001b[39mbackward()\n",
      "File \u001b[0;32m/projectnb/perchash/venvs/dl/lib/python3.10/site-packages/torch/nn/modules/module.py:1511\u001b[0m, in \u001b[0;36mModule._wrapped_call_impl\u001b[0;34m(self, *args, **kwargs)\u001b[0m\n\u001b[1;32m   1509\u001b[0m     \u001b[38;5;28;01mreturn\u001b[39;00m \u001b[38;5;28mself\u001b[39m\u001b[38;5;241m.\u001b[39m_compiled_call_impl(\u001b[38;5;241m*\u001b[39margs, \u001b[38;5;241m*\u001b[39m\u001b[38;5;241m*\u001b[39mkwargs)  \u001b[38;5;66;03m# type: ignore[misc]\u001b[39;00m\n\u001b[1;32m   1510\u001b[0m \u001b[38;5;28;01melse\u001b[39;00m:\n\u001b[0;32m-> 1511\u001b[0m     \u001b[38;5;28;01mreturn\u001b[39;00m \u001b[38;5;28;43mself\u001b[39;49m\u001b[38;5;241;43m.\u001b[39;49m\u001b[43m_call_impl\u001b[49m\u001b[43m(\u001b[49m\u001b[38;5;241;43m*\u001b[39;49m\u001b[43margs\u001b[49m\u001b[43m,\u001b[49m\u001b[43m \u001b[49m\u001b[38;5;241;43m*\u001b[39;49m\u001b[38;5;241;43m*\u001b[39;49m\u001b[43mkwargs\u001b[49m\u001b[43m)\u001b[49m\n",
      "File \u001b[0;32m/projectnb/perchash/venvs/dl/lib/python3.10/site-packages/torch/nn/modules/module.py:1520\u001b[0m, in \u001b[0;36mModule._call_impl\u001b[0;34m(self, *args, **kwargs)\u001b[0m\n\u001b[1;32m   1515\u001b[0m \u001b[38;5;66;03m# If we don't have any hooks, we want to skip the rest of the logic in\u001b[39;00m\n\u001b[1;32m   1516\u001b[0m \u001b[38;5;66;03m# this function, and just call forward.\u001b[39;00m\n\u001b[1;32m   1517\u001b[0m \u001b[38;5;28;01mif\u001b[39;00m \u001b[38;5;129;01mnot\u001b[39;00m (\u001b[38;5;28mself\u001b[39m\u001b[38;5;241m.\u001b[39m_backward_hooks \u001b[38;5;129;01mor\u001b[39;00m \u001b[38;5;28mself\u001b[39m\u001b[38;5;241m.\u001b[39m_backward_pre_hooks \u001b[38;5;129;01mor\u001b[39;00m \u001b[38;5;28mself\u001b[39m\u001b[38;5;241m.\u001b[39m_forward_hooks \u001b[38;5;129;01mor\u001b[39;00m \u001b[38;5;28mself\u001b[39m\u001b[38;5;241m.\u001b[39m_forward_pre_hooks\n\u001b[1;32m   1518\u001b[0m         \u001b[38;5;129;01mor\u001b[39;00m _global_backward_pre_hooks \u001b[38;5;129;01mor\u001b[39;00m _global_backward_hooks\n\u001b[1;32m   1519\u001b[0m         \u001b[38;5;129;01mor\u001b[39;00m _global_forward_hooks \u001b[38;5;129;01mor\u001b[39;00m _global_forward_pre_hooks):\n\u001b[0;32m-> 1520\u001b[0m     \u001b[38;5;28;01mreturn\u001b[39;00m \u001b[43mforward_call\u001b[49m\u001b[43m(\u001b[49m\u001b[38;5;241;43m*\u001b[39;49m\u001b[43margs\u001b[49m\u001b[43m,\u001b[49m\u001b[43m \u001b[49m\u001b[38;5;241;43m*\u001b[39;49m\u001b[38;5;241;43m*\u001b[39;49m\u001b[43mkwargs\u001b[49m\u001b[43m)\u001b[49m\n\u001b[1;32m   1522\u001b[0m \u001b[38;5;28;01mtry\u001b[39;00m:\n\u001b[1;32m   1523\u001b[0m     result \u001b[38;5;241m=\u001b[39m \u001b[38;5;28;01mNone\u001b[39;00m\n",
      "Cell \u001b[0;32mIn[11], line 57\u001b[0m, in \u001b[0;36mS4Model.forward\u001b[0;34m(self, x)\u001b[0m\n\u001b[1;32m     53\u001b[0m \u001b[38;5;28;01mdef\u001b[39;00m \u001b[38;5;21mforward\u001b[39m(\u001b[38;5;28mself\u001b[39m, x):\n\u001b[1;32m     54\u001b[0m \u001b[38;5;250m    \u001b[39m\u001b[38;5;124;03m\"\"\"\u001b[39;00m\n\u001b[1;32m     55\u001b[0m \u001b[38;5;124;03m    Input x is shape (B, L, d_input)\u001b[39;00m\n\u001b[1;32m     56\u001b[0m \u001b[38;5;124;03m    \"\"\"\u001b[39;00m\n\u001b[0;32m---> 57\u001b[0m     x \u001b[38;5;241m=\u001b[39m \u001b[38;5;28;43mself\u001b[39;49m\u001b[38;5;241;43m.\u001b[39;49m\u001b[43mencoder\u001b[49m\u001b[43m(\u001b[49m\u001b[43mx\u001b[49m\u001b[43m)\u001b[49m  \u001b[38;5;66;03m# (B, L, d_input) -> (B, L, d_model)\u001b[39;00m\n\u001b[1;32m     59\u001b[0m     x \u001b[38;5;241m=\u001b[39m x\u001b[38;5;241m.\u001b[39mtranspose(\u001b[38;5;241m-\u001b[39m\u001b[38;5;241m1\u001b[39m, \u001b[38;5;241m-\u001b[39m\u001b[38;5;241m2\u001b[39m)  \u001b[38;5;66;03m# (B, L, d_model) -> (B, d_model, L)\u001b[39;00m\n\u001b[1;32m     60\u001b[0m     \u001b[38;5;28;01mfor\u001b[39;00m layer, norm, dropout \u001b[38;5;129;01min\u001b[39;00m \u001b[38;5;28mzip\u001b[39m(\u001b[38;5;28mself\u001b[39m\u001b[38;5;241m.\u001b[39ms4_layers, \u001b[38;5;28mself\u001b[39m\u001b[38;5;241m.\u001b[39mnorms, \u001b[38;5;28mself\u001b[39m\u001b[38;5;241m.\u001b[39mdropouts):\n\u001b[1;32m     61\u001b[0m         \u001b[38;5;66;03m# Each iteration of this loop will map (B, d_model, L) -> (B, d_model, L)\u001b[39;00m\n",
      "File \u001b[0;32m/projectnb/perchash/venvs/dl/lib/python3.10/site-packages/torch/nn/modules/module.py:1511\u001b[0m, in \u001b[0;36mModule._wrapped_call_impl\u001b[0;34m(self, *args, **kwargs)\u001b[0m\n\u001b[1;32m   1509\u001b[0m     \u001b[38;5;28;01mreturn\u001b[39;00m \u001b[38;5;28mself\u001b[39m\u001b[38;5;241m.\u001b[39m_compiled_call_impl(\u001b[38;5;241m*\u001b[39margs, \u001b[38;5;241m*\u001b[39m\u001b[38;5;241m*\u001b[39mkwargs)  \u001b[38;5;66;03m# type: ignore[misc]\u001b[39;00m\n\u001b[1;32m   1510\u001b[0m \u001b[38;5;28;01melse\u001b[39;00m:\n\u001b[0;32m-> 1511\u001b[0m     \u001b[38;5;28;01mreturn\u001b[39;00m \u001b[38;5;28;43mself\u001b[39;49m\u001b[38;5;241;43m.\u001b[39;49m\u001b[43m_call_impl\u001b[49m\u001b[43m(\u001b[49m\u001b[38;5;241;43m*\u001b[39;49m\u001b[43margs\u001b[49m\u001b[43m,\u001b[49m\u001b[43m \u001b[49m\u001b[38;5;241;43m*\u001b[39;49m\u001b[38;5;241;43m*\u001b[39;49m\u001b[43mkwargs\u001b[49m\u001b[43m)\u001b[49m\n",
      "File \u001b[0;32m/projectnb/perchash/venvs/dl/lib/python3.10/site-packages/torch/nn/modules/module.py:1520\u001b[0m, in \u001b[0;36mModule._call_impl\u001b[0;34m(self, *args, **kwargs)\u001b[0m\n\u001b[1;32m   1515\u001b[0m \u001b[38;5;66;03m# If we don't have any hooks, we want to skip the rest of the logic in\u001b[39;00m\n\u001b[1;32m   1516\u001b[0m \u001b[38;5;66;03m# this function, and just call forward.\u001b[39;00m\n\u001b[1;32m   1517\u001b[0m \u001b[38;5;28;01mif\u001b[39;00m \u001b[38;5;129;01mnot\u001b[39;00m (\u001b[38;5;28mself\u001b[39m\u001b[38;5;241m.\u001b[39m_backward_hooks \u001b[38;5;129;01mor\u001b[39;00m \u001b[38;5;28mself\u001b[39m\u001b[38;5;241m.\u001b[39m_backward_pre_hooks \u001b[38;5;129;01mor\u001b[39;00m \u001b[38;5;28mself\u001b[39m\u001b[38;5;241m.\u001b[39m_forward_hooks \u001b[38;5;129;01mor\u001b[39;00m \u001b[38;5;28mself\u001b[39m\u001b[38;5;241m.\u001b[39m_forward_pre_hooks\n\u001b[1;32m   1518\u001b[0m         \u001b[38;5;129;01mor\u001b[39;00m _global_backward_pre_hooks \u001b[38;5;129;01mor\u001b[39;00m _global_backward_hooks\n\u001b[1;32m   1519\u001b[0m         \u001b[38;5;129;01mor\u001b[39;00m _global_forward_hooks \u001b[38;5;129;01mor\u001b[39;00m _global_forward_pre_hooks):\n\u001b[0;32m-> 1520\u001b[0m     \u001b[38;5;28;01mreturn\u001b[39;00m \u001b[43mforward_call\u001b[49m\u001b[43m(\u001b[49m\u001b[38;5;241;43m*\u001b[39;49m\u001b[43margs\u001b[49m\u001b[43m,\u001b[49m\u001b[43m \u001b[49m\u001b[38;5;241;43m*\u001b[39;49m\u001b[38;5;241;43m*\u001b[39;49m\u001b[43mkwargs\u001b[49m\u001b[43m)\u001b[49m\n\u001b[1;32m   1522\u001b[0m \u001b[38;5;28;01mtry\u001b[39;00m:\n\u001b[1;32m   1523\u001b[0m     result \u001b[38;5;241m=\u001b[39m \u001b[38;5;28;01mNone\u001b[39;00m\n",
      "File \u001b[0;32m/projectnb/perchash/venvs/dl/lib/python3.10/site-packages/torch/nn/modules/linear.py:116\u001b[0m, in \u001b[0;36mLinear.forward\u001b[0;34m(self, input)\u001b[0m\n\u001b[1;32m    115\u001b[0m \u001b[38;5;28;01mdef\u001b[39;00m \u001b[38;5;21mforward\u001b[39m(\u001b[38;5;28mself\u001b[39m, \u001b[38;5;28minput\u001b[39m: Tensor) \u001b[38;5;241m-\u001b[39m\u001b[38;5;241m>\u001b[39m Tensor:\n\u001b[0;32m--> 116\u001b[0m     \u001b[38;5;28;01mreturn\u001b[39;00m \u001b[43mF\u001b[49m\u001b[38;5;241;43m.\u001b[39;49m\u001b[43mlinear\u001b[49m\u001b[43m(\u001b[49m\u001b[38;5;28;43minput\u001b[39;49m\u001b[43m,\u001b[49m\u001b[43m \u001b[49m\u001b[38;5;28;43mself\u001b[39;49m\u001b[38;5;241;43m.\u001b[39;49m\u001b[43mweight\u001b[49m\u001b[43m,\u001b[49m\u001b[43m \u001b[49m\u001b[38;5;28;43mself\u001b[39;49m\u001b[38;5;241;43m.\u001b[39;49m\u001b[43mbias\u001b[49m\u001b[43m)\u001b[49m\n",
      "\u001b[0;31mRuntimeError\u001b[0m: mat1 and mat2 shapes cannot be multiplied (1024x126 and 1x126)"
     ]
    }
   ],
   "source": [
    "pbar = tqdm(range(start_epoch, epochs))\n",
    "for epoch in pbar:\n",
    "    if epoch == 0:\n",
    "        pbar.set_description('Epoch: %d' % (epoch))\n",
    "    else:\n",
    "        pbar.set_description('Epoch: %d | Val acc: %1.3f' % (epoch, val_acc))\n",
    "    train()\n",
    "    val_acc = eval(epoch, val_loader, checkpoint=True)\n",
    "    eval(epoch, test_loader)\n",
    "    scheduler.step()"
   ]
  },
  {
   "cell_type": "code",
   "execution_count": null,
   "id": "0a88e681",
   "metadata": {},
   "outputs": [],
   "source": []
  }
 ],
 "metadata": {
  "kernelspec": {
   "display_name": "Python 3 (ipykernel)",
   "language": "python",
   "name": "python3"
  },
  "language_info": {
   "codemirror_mode": {
    "name": "ipython",
    "version": 3
   },
   "file_extension": ".py",
   "mimetype": "text/x-python",
   "name": "python",
   "nbconvert_exporter": "python",
   "pygments_lexer": "ipython3",
   "version": "3.10.12"
  }
 },
 "nbformat": 4,
 "nbformat_minor": 5
}
