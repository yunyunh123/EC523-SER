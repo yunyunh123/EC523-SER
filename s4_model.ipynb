{
 "cells": [
  {
   "cell_type": "markdown",
   "id": "c00ff9b56646f4fc",
   "metadata": {},
   "source": [
    "This notebook is for S4 architecture building"
   ]
  },
  {
   "cell_type": "markdown",
   "id": "64ff8dd447de5ae3",
   "metadata": {},
   "source": [
    "# Settings"
   ]
  },
  {
   "cell_type": "code",
   "execution_count": 1,
   "id": "a5d487b376a3022f",
   "metadata": {},
   "outputs": [
    {
     "name": "stdout",
     "output_type": "stream",
     "text": [
      "Defaulting to user installation because normal site-packages is not writeable\n",
      "Requirement already satisfied: einops in /usr4/dl523/nbmarkow/.local/lib/python3.10/site-packages (0.7.0)\n",
      "\n",
      "\u001b[1m[\u001b[0m\u001b[34;49mnotice\u001b[0m\u001b[1;39;49m]\u001b[0m\u001b[39;49m A new release of pip is available: \u001b[0m\u001b[31;49m23.2.1\u001b[0m\u001b[39;49m -> \u001b[0m\u001b[32;49m24.0\u001b[0m\n",
      "\u001b[1m[\u001b[0m\u001b[34;49mnotice\u001b[0m\u001b[1;39;49m]\u001b[0m\u001b[39;49m To update, run: \u001b[0m\u001b[32;49mpip install --upgrade pip\u001b[0m\n"
     ]
    }
   ],
   "source": [
    "! pip install einops"
   ]
  },
  {
   "cell_type": "code",
   "execution_count": 2,
   "id": "9b17bbe13f1d022e",
   "metadata": {
    "ExecuteTime": {
     "end_time": "2024-04-20T18:17:17.419180Z",
     "start_time": "2024-04-20T18:17:17.414711Z"
    }
   },
   "outputs": [],
   "source": [
    "import os\n",
    "import os.path as op\n",
    "\n",
    "# Settings\n",
    "# Presets from S4 example\n",
    "n_layers=4\n",
    "d_model=126 # Model dimension\n",
    "dropout=0.1\n",
    "prenorm=True\n",
    "batch_size=4\n",
    "num_workers=4\n",
    "\n",
    "spec_shape = (201,203)\n",
    "\n",
    "d_input = 126 #spec_shape[1] # Because input is grayscale image. Make 3 for RGB\n",
    "d_output = 10\n",
    "\n",
    "# Use to load from a checkpoint\n",
    "start_epoch = 0\n",
    "\n",
    "fs = 16000\n",
    "\n",
    "lr = 1e-2\n",
    "weight_decay = 1e-2\n",
    "epochs=100\n",
    "\n",
    "import torch\n",
    "device = 'cuda' if torch.cuda.is_available() else 'cpu'\n",
    "\n",
    "# Specify the directory you want the datasets to be contained in\n",
    "pdir=\"/projectnb/dl523/students/nbmarkow/term_project/EC523-SER\"\n",
    "dataset_dir = op.join(pdir,\"datasets\")\n",
    "\n",
    "import sys\n",
    "sys.path.append(op.join(pdir,\"s4\"))\n"
   ]
  },
  {
   "cell_type": "code",
   "execution_count": null,
   "id": "d91cb870",
   "metadata": {},
   "outputs": [],
   "source": []
  },
  {
   "cell_type": "markdown",
   "id": "47d6835928f677fb",
   "metadata": {},
   "source": [
    "# Test DataLoader"
   ]
  },
  {
   "cell_type": "code",
   "execution_count": 3,
   "id": "960ae1941ac65cb",
   "metadata": {
    "ExecuteTime": {
     "end_time": "2024-04-20T18:17:20.843095Z",
     "start_time": "2024-04-20T18:17:19.875530Z"
    }
   },
   "outputs": [],
   "source": [
    "from torch.utils.data import DataLoader\n",
    "from dataset import download_datasets, SpeechEmotionDataset, get_dataset_info, audio_preprocessing, SoundDS\n",
    "\n",
    "import torchaudio.transforms as t\n",
    "from tqdm.auto import tqdm\n",
    "from torchvision.transforms import Lambda\n",
    "\n",
    "# Download a single dataset\n",
    "#download_datasets(dataset_dir)\n",
    "\n",
    "# Download the rest of the datasets available\n",
    "#download_datasets(dataset_dir)\n",
    "\n",
    "# Acquire info on datasets (those that have functions to get data for)\n",
    "df = get_dataset_info(dataset_dir)\n",
    "\n",
    "# Make into a Dataset object that a pytorch optimizer can use\n",
    "# Can optionally specify a sampling rate for all audio files to be in\n",
    "transforms = t.Spectrogram(n_fft=400)\n",
    "trainset = SpeechEmotionDataset(df, fs=16000, transform=transforms)\n",
    "\n",
    "\n",
    "transforms = Lambda(lambda x: x.view(1, 8064))\n",
    "trainset = SoundDS(df, transform=transforms)"
   ]
  },
  {
   "cell_type": "code",
   "execution_count": 12,
   "id": "6047ecf19136748b",
   "metadata": {
    "ExecuteTime": {
     "end_time": "2024-04-20T18:17:22.702200Z",
     "start_time": "2024-04-20T18:17:22.692891Z"
    }
   },
   "outputs": [
    {
     "data": {
      "text/plain": [
       "torch.Size([1, 8064])"
      ]
     },
     "execution_count": 12,
     "metadata": {},
     "output_type": "execute_result"
    }
   ],
   "source": [
    "# Check it works\n",
    "dataiter = iter(trainset)\n",
    "data, label = next(dataiter)\n",
    "data.shape"
   ]
  },
  {
   "cell_type": "code",
   "execution_count": 5,
   "id": "7eab8c156d4277e8",
   "metadata": {
    "ExecuteTime": {
     "end_time": "2024-04-20T17:37:17.622904Z",
     "start_time": "2024-04-20T17:37:17.335442Z"
    }
   },
   "outputs": [
    {
     "name": "stderr",
     "output_type": "stream",
     "text": [
      "/scratch/6778756.1.ece/ipykernel_315065/1127621095.py:2: UserWarning: Only one segment is calculated since parameter NFFT (=256) >= signal length (=1).\n",
      "  plt.specgram(data.numpy())\n",
      "/share/pkg.8/python3/3.10.12/install/lib/python3.10/site-packages/matplotlib/axes/_axes.py:7774: RuntimeWarning: divide by zero encountered in log10\n",
      "  Z = 10. * np.log10(spec)\n"
     ]
    },
    {
     "data": {
      "image/png": "[encoded data removed]",
      "text/plain": [
       "<Figure size 640x480 with 1 Axes>"
      ]
     },
     "metadata": {},
     "output_type": "display_data"
    }
   ],
   "source": [
    "import matplotlib.pyplot as plt\n",
    "plt.specgram(data.numpy())\n",
    "plt.show()"
   ]
  },
  {
   "cell_type": "code",
   "execution_count": 4,
   "id": "ac37821138265e83",
   "metadata": {
    "ExecuteTime": {
     "end_time": "2024-04-20T17:37:19.886272Z",
     "start_time": "2024-04-20T17:37:19.881050Z"
    }
   },
   "outputs": [],
   "source": [
    "trainloader = DataLoader(trainset, batch_size=4, shuffle=True, num_workers=4)\n"
   ]
  },
  {
   "cell_type": "markdown",
   "id": "1af311d93f47dbfd",
   "metadata": {},
   "source": [
    "# Get dataset as pandas dataframe and filter"
   ]
  },
  {
   "cell_type": "code",
   "execution_count": 4,
   "id": "21d73d9518ef30e2",
   "metadata": {},
   "outputs": [
    {
     "data": {
      "text/html": [
       "<div>\n",
       "<style scoped>\n",
       "    .dataframe tbody tr th:only-of-type {\n",
       "        vertical-align: middle;\n",
       "    }\n",
       "\n",
       "    .dataframe tbody tr th {\n",
       "        vertical-align: top;\n",
       "    }\n",
       "\n",
       "    .dataframe thead th {\n",
       "        text-align: right;\n",
       "    }\n",
       "</style>\n",
       "<table border=\"1\" class=\"dataframe\">\n",
       "  <thead>\n",
       "    <tr style=\"text-align: right;\">\n",
       "      <th></th>\n",
       "      <th>filename</th>\n",
       "      <th>speaker_n</th>\n",
       "      <th>intensity</th>\n",
       "      <th>emotion</th>\n",
       "      <th>version</th>\n",
       "      <th>language</th>\n",
       "      <th>database</th>\n",
       "    </tr>\n",
       "  </thead>\n",
       "  <tbody>\n",
       "    <tr>\n",
       "      <th>0</th>\n",
       "      <td>/projectnb/dl523/students/nbmarkow/term_projec...</td>\n",
       "      <td>16</td>\n",
       "      <td>NA</td>\n",
       "      <td>anxiety</td>\n",
       "      <td>a</td>\n",
       "      <td>german</td>\n",
       "      <td>emodb</td>\n",
       "    </tr>\n",
       "    <tr>\n",
       "      <th>1</th>\n",
       "      <td>/projectnb/dl523/students/nbmarkow/term_projec...</td>\n",
       "      <td>10</td>\n",
       "      <td>NA</td>\n",
       "      <td>bored</td>\n",
       "      <td>b</td>\n",
       "      <td>german</td>\n",
       "      <td>emodb</td>\n",
       "    </tr>\n",
       "    <tr>\n",
       "      <th>2</th>\n",
       "      <td>/projectnb/dl523/students/nbmarkow/term_projec...</td>\n",
       "      <td>16</td>\n",
       "      <td>NA</td>\n",
       "      <td>bored</td>\n",
       "      <td>a</td>\n",
       "      <td>german</td>\n",
       "      <td>emodb</td>\n",
       "    </tr>\n",
       "    <tr>\n",
       "      <th>3</th>\n",
       "      <td>/projectnb/dl523/students/nbmarkow/term_projec...</td>\n",
       "      <td>16</td>\n",
       "      <td>NA</td>\n",
       "      <td>neutral</td>\n",
       "      <td>b</td>\n",
       "      <td>german</td>\n",
       "      <td>emodb</td>\n",
       "    </tr>\n",
       "    <tr>\n",
       "      <th>4</th>\n",
       "      <td>/projectnb/dl523/students/nbmarkow/term_projec...</td>\n",
       "      <td>14</td>\n",
       "      <td>NA</td>\n",
       "      <td>bored</td>\n",
       "      <td>a</td>\n",
       "      <td>german</td>\n",
       "      <td>emodb</td>\n",
       "    </tr>\n",
       "    <tr>\n",
       "      <th>...</th>\n",
       "      <td>...</td>\n",
       "      <td>...</td>\n",
       "      <td>...</td>\n",
       "      <td>...</td>\n",
       "      <td>...</td>\n",
       "      <td>...</td>\n",
       "      <td>...</td>\n",
       "    </tr>\n",
       "    <tr>\n",
       "      <th>12692</th>\n",
       "      <td>/projectnb/dl523/students/nbmarkow/term_projec...</td>\n",
       "      <td>3</td>\n",
       "      <td>NA</td>\n",
       "      <td>surprise</td>\n",
       "      <td>05</td>\n",
       "      <td>english</td>\n",
       "      <td>savee</td>\n",
       "    </tr>\n",
       "    <tr>\n",
       "      <th>12693</th>\n",
       "      <td>/projectnb/dl523/students/nbmarkow/term_projec...</td>\n",
       "      <td>3</td>\n",
       "      <td>NA</td>\n",
       "      <td>neutral</td>\n",
       "      <td>11</td>\n",
       "      <td>english</td>\n",
       "      <td>savee</td>\n",
       "    </tr>\n",
       "    <tr>\n",
       "      <th>12694</th>\n",
       "      <td>/projectnb/dl523/students/nbmarkow/term_projec...</td>\n",
       "      <td>3</td>\n",
       "      <td>NA</td>\n",
       "      <td>neutral</td>\n",
       "      <td>14</td>\n",
       "      <td>english</td>\n",
       "      <td>savee</td>\n",
       "    </tr>\n",
       "    <tr>\n",
       "      <th>12695</th>\n",
       "      <td>/projectnb/dl523/students/nbmarkow/term_projec...</td>\n",
       "      <td>3</td>\n",
       "      <td>NA</td>\n",
       "      <td>neutral</td>\n",
       "      <td>08</td>\n",
       "      <td>english</td>\n",
       "      <td>savee</td>\n",
       "    </tr>\n",
       "    <tr>\n",
       "      <th>12696</th>\n",
       "      <td>/projectnb/dl523/students/nbmarkow/term_projec...</td>\n",
       "      <td>3</td>\n",
       "      <td>NA</td>\n",
       "      <td>sadness</td>\n",
       "      <td>14</td>\n",
       "      <td>english</td>\n",
       "      <td>savee</td>\n",
       "    </tr>\n",
       "  </tbody>\n",
       "</table>\n",
       "<p>12697 rows × 7 columns</p>\n",
       "</div>"
      ],
      "text/plain": [
       "                                                filename speaker_n intensity  \\\n",
       "0      /projectnb/dl523/students/nbmarkow/term_projec...        16        NA   \n",
       "1      /projectnb/dl523/students/nbmarkow/term_projec...        10        NA   \n",
       "2      /projectnb/dl523/students/nbmarkow/term_projec...        16        NA   \n",
       "3      /projectnb/dl523/students/nbmarkow/term_projec...        16        NA   \n",
       "4      /projectnb/dl523/students/nbmarkow/term_projec...        14        NA   \n",
       "...                                                  ...       ...       ...   \n",
       "12692  /projectnb/dl523/students/nbmarkow/term_projec...         3        NA   \n",
       "12693  /projectnb/dl523/students/nbmarkow/term_projec...         3        NA   \n",
       "12694  /projectnb/dl523/students/nbmarkow/term_projec...         3        NA   \n",
       "12695  /projectnb/dl523/students/nbmarkow/term_projec...         3        NA   \n",
       "12696  /projectnb/dl523/students/nbmarkow/term_projec...         3        NA   \n",
       "\n",
       "        emotion version language database  \n",
       "0       anxiety       a   german    emodb  \n",
       "1         bored       b   german    emodb  \n",
       "2         bored       a   german    emodb  \n",
       "3       neutral       b   german    emodb  \n",
       "4         bored       a   german    emodb  \n",
       "...         ...     ...      ...      ...  \n",
       "12692  surprise      05  english    savee  \n",
       "12693   neutral      11  english    savee  \n",
       "12694   neutral      14  english    savee  \n",
       "12695   neutral      08  english    savee  \n",
       "12696   sadness      14  english    savee  \n",
       "\n",
       "[12697 rows x 7 columns]"
      ]
     },
     "execution_count": 4,
     "metadata": {},
     "output_type": "execute_result"
    }
   ],
   "source": [
    "# Acquire info on datasets (those that have functions to get data for)\n",
    "df = get_dataset_info(dataset_dir)\n",
    "#df = df[ df[\"language\"]!=\"persian\",:]\n",
    "df = df.drop(df[df.language==\"persian\"].index)\n",
    "df"
   ]
  },
  {
   "cell_type": "markdown",
   "id": "4747d3971f3cde41",
   "metadata": {},
   "source": [
    "# Create DataLoaders for train, test, eval"
   ]
  },
  {
   "cell_type": "code",
   "execution_count": 5,
   "id": "82ebb02e74f9a32d",
   "metadata": {},
   "outputs": [],
   "source": [
    "def split_train_val(train, val_split):\n",
    "    train_len = int(len(train) * (1.0-val_split))\n",
    "    train, val = torch.utils.data.random_split(\n",
    "        train,\n",
    "        (train_len, len(train) - train_len),\n",
    "        generator=torch.Generator().manual_seed(42),\n",
    "    )\n",
    "    return train, val\n",
    "\n",
    "\n",
    "# Specify transforms to use\n",
    "transforms = t.Spectrogram(n_fft=400)\n",
    "\n",
    "# Make trainset\n",
    "#trainset = SpeechEmotionDataset(df, fs=fs, transform=transforms)\n",
    "trainset = SoundDS(df)\n",
    "trainset, _ = split_train_val(trainset, val_split=0.1)\n",
    "trainloader = DataLoader(trainset, batch_size=batch_size, shuffle=True, num_workers=num_workers)\n",
    "\n",
    "# Make valset\n",
    "#valset = SpeechEmotionDataset(df, fs=fs, transform=transforms)\n",
    "valset = SoundDS(df)\n",
    "_, valset = split_train_val(valset, val_split=0.1)\n",
    "valloader = DataLoader(valset, batch_size=batch_size, shuffle=False, num_workers=num_workers)\n",
    "\n",
    "# Make testset\n",
    "testset = SoundDS(df)\n",
    "#testset = SpeechEmotionDataset(df, fs=fs, transform=transforms)\n",
    "testloader = DataLoader(testset, batch_size=batch_size, shuffle=False, num_workers=num_workers)"
   ]
  },
  {
   "cell_type": "markdown",
   "id": "546d6724",
   "metadata": {},
   "source": [
    "# Dissect S4 model"
   ]
  },
  {
   "cell_type": "code",
   "execution_count": 17,
   "id": "d18024a5",
   "metadata": {},
   "outputs": [
    {
     "name": "stdout",
     "output_type": "stream",
     "text": [
      "torch.Size([1, 64, 126])\n"
     ]
    },
    {
     "ename": "RuntimeError",
     "evalue": "mat1 and mat2 shapes cannot be multiplied (64x126 and 201x256)",
     "output_type": "error",
     "traceback": [
      "\u001b[0;31m---------------------------------------------------------------------------\u001b[0m",
      "\u001b[0;31mRuntimeError\u001b[0m                              Traceback (most recent call last)",
      "Cell \u001b[0;32mIn[17], line 70\u001b[0m\n\u001b[1;32m     64\u001b[0m \u001b[38;5;66;03m#--------------------------------------------------------\u001b[39;00m\n\u001b[1;32m     65\u001b[0m \u001b[38;5;66;03m# Run model\u001b[39;00m\n\u001b[1;32m     67\u001b[0m \u001b[38;5;124;03m\"\"\"\u001b[39;00m\n\u001b[1;32m     68\u001b[0m \u001b[38;5;124;03mInput x is shape (B, L, d_input)\u001b[39;00m\n\u001b[1;32m     69\u001b[0m \u001b[38;5;124;03m\"\"\"\u001b[39;00m\n\u001b[0;32m---> 70\u001b[0m x \u001b[38;5;241m=\u001b[39m \u001b[43mencoder\u001b[49m\u001b[43m(\u001b[49m\u001b[43mx\u001b[49m\u001b[43m)\u001b[49m  \u001b[38;5;66;03m# (B, L, d_input) -> (B, L, d_model)\u001b[39;00m\n\u001b[1;32m     72\u001b[0m \u001b[38;5;66;03m#x = x.transpose(-1, -2)  # (B, L, d_model) -> (B, d_model, L)\u001b[39;00m\n\u001b[1;32m     73\u001b[0m \u001b[38;5;28;01mfor\u001b[39;00m layer, norm, dropout \u001b[38;5;129;01min\u001b[39;00m \u001b[38;5;28mzip\u001b[39m(s4_layers, norms, dropouts):\n\u001b[1;32m     74\u001b[0m     \u001b[38;5;66;03m# Each iteration of this loop will map (B, d_model, L) -> (B, d_model, L)\u001b[39;00m\n",
      "File \u001b[0;32m/share/pkg.7/pytorch/1.13.1/install/lib/SCC/../python3.10/site-packages/torch/nn/modules/module.py:1194\u001b[0m, in \u001b[0;36mModule._call_impl\u001b[0;34m(self, *input, **kwargs)\u001b[0m\n\u001b[1;32m   1190\u001b[0m \u001b[38;5;66;03m# If we don't have any hooks, we want to skip the rest of the logic in\u001b[39;00m\n\u001b[1;32m   1191\u001b[0m \u001b[38;5;66;03m# this function, and just call forward.\u001b[39;00m\n\u001b[1;32m   1192\u001b[0m \u001b[38;5;28;01mif\u001b[39;00m \u001b[38;5;129;01mnot\u001b[39;00m (\u001b[38;5;28mself\u001b[39m\u001b[38;5;241m.\u001b[39m_backward_hooks \u001b[38;5;129;01mor\u001b[39;00m \u001b[38;5;28mself\u001b[39m\u001b[38;5;241m.\u001b[39m_forward_hooks \u001b[38;5;129;01mor\u001b[39;00m \u001b[38;5;28mself\u001b[39m\u001b[38;5;241m.\u001b[39m_forward_pre_hooks \u001b[38;5;129;01mor\u001b[39;00m _global_backward_hooks\n\u001b[1;32m   1193\u001b[0m         \u001b[38;5;129;01mor\u001b[39;00m _global_forward_hooks \u001b[38;5;129;01mor\u001b[39;00m _global_forward_pre_hooks):\n\u001b[0;32m-> 1194\u001b[0m     \u001b[38;5;28;01mreturn\u001b[39;00m \u001b[43mforward_call\u001b[49m\u001b[43m(\u001b[49m\u001b[38;5;241;43m*\u001b[39;49m\u001b[38;5;28;43minput\u001b[39;49m\u001b[43m,\u001b[49m\u001b[43m \u001b[49m\u001b[38;5;241;43m*\u001b[39;49m\u001b[38;5;241;43m*\u001b[39;49m\u001b[43mkwargs\u001b[49m\u001b[43m)\u001b[49m\n\u001b[1;32m   1195\u001b[0m \u001b[38;5;66;03m# Do not call functions when jit is used\u001b[39;00m\n\u001b[1;32m   1196\u001b[0m full_backward_hooks, non_full_backward_hooks \u001b[38;5;241m=\u001b[39m [], []\n",
      "File \u001b[0;32m/share/pkg.7/pytorch/1.13.1/install/lib/SCC/../python3.10/site-packages/torch/nn/modules/linear.py:114\u001b[0m, in \u001b[0;36mLinear.forward\u001b[0;34m(self, input)\u001b[0m\n\u001b[1;32m    113\u001b[0m \u001b[38;5;28;01mdef\u001b[39;00m \u001b[38;5;21mforward\u001b[39m(\u001b[38;5;28mself\u001b[39m, \u001b[38;5;28minput\u001b[39m: Tensor) \u001b[38;5;241m-\u001b[39m\u001b[38;5;241m>\u001b[39m Tensor:\n\u001b[0;32m--> 114\u001b[0m     \u001b[38;5;28;01mreturn\u001b[39;00m \u001b[43mF\u001b[49m\u001b[38;5;241;43m.\u001b[39;49m\u001b[43mlinear\u001b[49m\u001b[43m(\u001b[49m\u001b[38;5;28;43minput\u001b[39;49m\u001b[43m,\u001b[49m\u001b[43m \u001b[49m\u001b[38;5;28;43mself\u001b[39;49m\u001b[38;5;241;43m.\u001b[39;49m\u001b[43mweight\u001b[49m\u001b[43m,\u001b[49m\u001b[43m \u001b[49m\u001b[38;5;28;43mself\u001b[39;49m\u001b[38;5;241;43m.\u001b[39;49m\u001b[43mbias\u001b[49m\u001b[43m)\u001b[49m\n",
      "\u001b[0;31mRuntimeError\u001b[0m: mat1 and mat2 shapes cannot be multiplied (64x126 and 201x256)"
     ]
    }
   ],
   "source": [
    "import torch\n",
    "import torch.nn as nn\n",
    "import torch.optim as optim\n",
    "import torch.backends.cudnn as cudnn\n",
    "from s4.models.s4.s4d import S4D\n",
    "\n",
    "#--------------------------------------------------------\n",
    "# Settings\n",
    "spec_shape = (201,203)\n",
    "\n",
    "n_layers=4\n",
    "d_model=256 # Model dimension\n",
    "dropout=0.1\n",
    "prenorm=True\n",
    "batch_size=64\n",
    "num_workers=4\n",
    "d_input = spec_shape[0] # Because input is grayscale image. Make 3 for RGB\n",
    "d_output = 10\n",
    "fs = 16000\n",
    "lr = 1e-2\n",
    "weight_decay = 1e-2\n",
    "prenorm=True\n",
    "\n",
    "#--------------------------------------------------------\n",
    "# Get data\n",
    "dataiter = iter(trainset)\n",
    "x, label = next(dataiter)\n",
    "\n",
    "print(x.shape)\n",
    "#--------------------------------------------------------\n",
    "# Dropout fn\n",
    "\n",
    "# Dropout broke in PyTorch 1.11\n",
    "if tuple(map(int, torch.__version__.split('.')[:2])) == (1, 11):\n",
    "    print(\"WARNING: Dropout is bugged in PyTorch 1.11. Results may be worse.\")\n",
    "    dropout_fn = nn.Dropout\n",
    "if tuple(map(int, torch.__version__.split('.')[:2])) >= (1, 12):\n",
    "    dropout_fn = nn.Dropout1d\n",
    "else:\n",
    "    dropout_fn = nn.Dropout2d\n",
    "    \n",
    "\n",
    "#--------------------------------------------------------\n",
    "# Construct model\n",
    "\n",
    "# Linear encoder (d_input = 1 for grayscale and 3 for RGB)\n",
    "encoder = nn.Linear(d_input, d_model)\n",
    "\n",
    "# # Stack S4 layers as residual blocks\n",
    "s4_layers = nn.ModuleList()\n",
    "norms = nn.ModuleList()\n",
    "dropouts = nn.ModuleList()\n",
    "for _ in range(n_layers):\n",
    "    s4_layers.append(\n",
    "        S4D(d_model, dropout=dropout, transposed=True, lr=min(0.001, lr))\n",
    "    )\n",
    "    norms.append(nn.LayerNorm(d_model))\n",
    "    dropouts.append(dropout_fn(dropout))\n",
    "\n",
    "# Linear decoder\n",
    "decoder = nn.Linear(d_model, d_output)\n",
    "\n",
    "\n",
    "#--------------------------------------------------------\n",
    "# Run model\n",
    "\n",
    "\"\"\"\n",
    "Input x is shape (B, L, d_input)\n",
    "\"\"\"\n",
    "x = encoder(x)  # (B, L, d_input) -> (B, L, d_model)\n",
    "\n",
    "#x = x.transpose(-1, -2)  # (B, L, d_model) -> (B, d_model, L)\n",
    "for layer, norm, dropout in zip(s4_layers, norms, dropouts):\n",
    "    # Each iteration of this loop will map (B, d_model, L) -> (B, d_model, L)\n",
    "\n",
    "    z = x\n",
    "    if prenorm:\n",
    "        # Prenorm\n",
    "        z = norm(z.transpose(-1, -2)).transpose(-1, -2)\n",
    "\n",
    "    # Apply S4 block: we ignore the state input and output\n",
    "    z, _ = layer(z)\n",
    "\n",
    "    # Dropout on the output of the S4 block\n",
    "    z = dropout(z)\n",
    "\n",
    "    # Residual connection\n",
    "    x = z + x\n",
    "\n",
    "    if not prenorm:\n",
    "        # Postnorm\n",
    "        x = norm(x.transpose(-1, -2)).transpose(-1, -2)\n",
    "\n",
    "# x = x.transpose(-1, -2)\n",
    "\n",
    "# Pooling: average pooling over the sequence length\n",
    "x = x.mean(dim=1)\n",
    "\n",
    "# Decode the outputs\n",
    "x = decoder(x)  # (B, d_model) -> (B, d_output)\n",
    "\n",
    "#return x\n",
    "torch.argmax(x)\n",
    "torch.zeros(1)"
   ]
  },
  {
   "cell_type": "markdown",
   "id": "84aabd5e8e672e6a",
   "metadata": {},
   "source": [
    "# Create S4 model"
   ]
  },
  {
   "cell_type": "code",
   "execution_count": 6,
   "id": "c13251c1d7f15b17",
   "metadata": {},
   "outputs": [],
   "source": [
    "import torch\n",
    "import torch.nn as nn\n",
    "import torch.optim as optim\n",
    "import torch.backends.cudnn as cudnn\n",
    "from s4.models.s4.s4d import S4D\n",
    "\n",
    "\n",
    "# Dropout broke in PyTorch 1.11\n",
    "if tuple(map(int, torch.__version__.split('.')[:2])) == (1, 11):\n",
    "    print(\"WARNING: Dropout is bugged in PyTorch 1.11. Results may be worse.\")\n",
    "    dropout_fn = nn.Dropout\n",
    "if tuple(map(int, torch.__version__.split('.')[:2])) >= (1, 12):\n",
    "    dropout_fn = nn.Dropout1d\n",
    "else:\n",
    "    dropout_fn = nn.Dropout2d\n",
    "    \n",
    "\n",
    "class S4Model(nn.Module):\n",
    "\n",
    "    def __init__(\n",
    "        self,\n",
    "        d_input,\n",
    "        d_output=10,\n",
    "        d_model=256,\n",
    "        n_layers=4,\n",
    "        dropout=0.2,\n",
    "        prenorm=False,\n",
    "        lr=1-2\n",
    "    ):\n",
    "        super().__init__()\n",
    "\n",
    "        self.prenorm = prenorm\n",
    "\n",
    "        # Linear encoder (d_input = 1 for grayscale and 3 for RGB)\n",
    "        self.encoder = nn.Linear(d_input, d_model)\n",
    "\n",
    "        # Stack S4 layers as residual blocks\n",
    "        self.s4_layers = nn.ModuleList()\n",
    "        self.norms = nn.ModuleList()\n",
    "        self.dropouts = nn.ModuleList()\n",
    "        for _ in range(n_layers):\n",
    "            self.s4_layers.append(\n",
    "                S4D(d_model, dropout=dropout, transposed=True, lr=min(0.001, lr))\n",
    "            )\n",
    "            self.norms.append(nn.LayerNorm(d_model))\n",
    "            self.dropouts.append(dropout_fn(dropout))\n",
    "\n",
    "        # Linear decoder\n",
    "        self.decoder = nn.Linear(d_model, d_output)\n",
    "\n",
    "    def forward(self, x):\n",
    "        \"\"\"\n",
    "        Input x is shape (B, L, d_input)\n",
    "        \"\"\"\n",
    "        #print(x.shape)\n",
    "        x = self.encoder(x)  # (B, L, d_input) -> (B, L, d_model)\n",
    "\n",
    "        x = x.transpose(-1, -2)  # (B, L, d_model) -> (B, d_model, L)\n",
    "        \n",
    "        x = torch.squeeze(x)\n",
    "        \n",
    "        for layer, norm, dropout in zip(self.s4_layers, self.norms, self.dropouts):\n",
    "            # Each iteration of this loop will map (B, d_model, L) -> (B, d_model, L)\n",
    "\n",
    "            z = x\n",
    "            if self.prenorm:\n",
    "                # Prenorm\n",
    "                z = norm(z.transpose(-1, -2)).transpose(-1, -2)\n",
    "\n",
    "            # Apply S4 block: we ignore the state input and output\n",
    "            z, _ = layer(z)\n",
    "\n",
    "            # Dropout on the output of the S4 block\n",
    "            z = dropout(z)\n",
    "\n",
    "            # Residual connection\n",
    "            x = z + x\n",
    "\n",
    "            if not self.prenorm:\n",
    "                # Postnorm\n",
    "                x = norm(x.transpose(-1, -2)).transpose(-1, -2)\n",
    "\n",
    "        x = x.transpose(-1, -2)\n",
    "\n",
    "        # Pooling: average pooling over the sequence length\n",
    "        x = x.mean(dim=1)\n",
    "\n",
    "        # Decode the outputs\n",
    "        x = self.decoder(x)  # (B, d_model) -> (B, d_output)\n",
    "\n",
    "        return x\n"
   ]
  },
  {
   "cell_type": "code",
   "execution_count": 7,
   "id": "98dfb16954b11c2a",
   "metadata": {},
   "outputs": [
    {
     "name": "stdout",
     "output_type": "stream",
     "text": [
      "==> Building model..\n"
     ]
    }
   ],
   "source": [
    "# Model\n",
    "print('==> Building model..')\n",
    "model = S4Model(\n",
    "    d_input=d_input,\n",
    "    d_output=d_output,\n",
    "    d_model=d_model,\n",
    "    n_layers=n_layers,\n",
    "    dropout=dropout,\n",
    "    prenorm=prenorm,\n",
    "    lr=lr\n",
    ")\n",
    "\n",
    "model = model.to(device)\n",
    "if device == 'cuda':\n",
    "    cudnn.benchmark = True"
   ]
  },
  {
   "cell_type": "markdown",
   "id": "7085a126464f2f70",
   "metadata": {},
   "source": [
    "# Setup Optimizer and Loss function"
   ]
  },
  {
   "cell_type": "code",
   "execution_count": 8,
   "id": "11fc219defba3e1e",
   "metadata": {},
   "outputs": [],
   "source": [
    "def setup_optimizer(model, lr, weight_decay, epochs):\n",
    "    \"\"\"\n",
    "    S4 requires a specific optimizer setup.\n",
    "\n",
    "    The S4 layer (A, B, C, dt) parameters typically\n",
    "    require a smaller learning rate (typically 0.001), with no weight decay.\n",
    "\n",
    "    The rest of the model can be trained with a higher learning rate (e.g. 0.004, 0.01)\n",
    "    and weight decay (if desired).\n",
    "    \"\"\"\n",
    "\n",
    "    # All parameters in the model\n",
    "    all_parameters = list(model.parameters())\n",
    "\n",
    "    # General parameters don't contain the special _optim key\n",
    "    params = [p for p in all_parameters if not hasattr(p, \"_optim\")]\n",
    "\n",
    "    # Create an optimizer with the general parameters\n",
    "    optimizer = optim.AdamW(params, lr=lr, weight_decay=weight_decay)\n",
    "\n",
    "    # Add parameters with special hyperparameters\n",
    "    hps = [getattr(p, \"_optim\") for p in all_parameters if hasattr(p, \"_optim\")]\n",
    "    hps = [\n",
    "        dict(s) for s in sorted(list(dict.fromkeys(frozenset(hp.items()) for hp in hps)))\n",
    "    ]  # Unique dicts\n",
    "    for hp in hps:\n",
    "        params = [p for p in all_parameters if getattr(p, \"_optim\", None) == hp]\n",
    "        optimizer.add_param_group(\n",
    "            {\"params\": params, **hp}\n",
    "        )\n",
    "\n",
    "    # Create a lr scheduler\n",
    "    # scheduler = torch.optim.lr_scheduler.ReduceLROnPlateau(optimizer, patience=patience, factor=0.2)\n",
    "    scheduler = torch.optim.lr_scheduler.CosineAnnealingLR(optimizer, epochs)\n",
    "\n",
    "    # Print optimizer info\n",
    "    keys = sorted(set([k for hp in hps for k in hp.keys()]))\n",
    "    for i, g in enumerate(optimizer.param_groups):\n",
    "        group_hps = {k: g.get(k, None) for k in keys}\n",
    "        print(' | '.join([\n",
    "            f\"Optimizer group {i}\",\n",
    "            f\"{len(g['params'])} tensors\",\n",
    "        ] + [f\"{k} {v}\" for k, v in group_hps.items()]))\n",
    "\n",
    "    return optimizer, scheduler"
   ]
  },
  {
   "cell_type": "code",
   "execution_count": 9,
   "id": "1364b2330406ab40",
   "metadata": {},
   "outputs": [
    {
     "name": "stdout",
     "output_type": "stream",
     "text": [
      "Optimizer group 0 | 28 tensors | lr 0.01 | weight_decay 0.01\n",
      "Optimizer group 1 | 12 tensors | lr 0.001 | weight_decay 0.0\n"
     ]
    }
   ],
   "source": [
    "criterion = nn.CrossEntropyLoss()\n",
    "optimizer, scheduler = setup_optimizer(\n",
    "    model, lr=lr, weight_decay=weight_decay, epochs=epochs\n",
    ")"
   ]
  },
  {
   "cell_type": "markdown",
   "id": "a7b3be9bfb598c1f",
   "metadata": {},
   "source": [
    "# Set train() function"
   ]
  },
  {
   "cell_type": "code",
   "execution_count": 61,
   "id": "ca5069882fb3d1b0",
   "metadata": {},
   "outputs": [],
   "source": [
    "def train():\n",
    "    model.train()\n",
    "    train_loss = 0\n",
    "    correct = 0\n",
    "    total = 0\n",
    "    pbar = tqdm(enumerate(trainloader))\n",
    "    for batch_idx, (inputs, targets) in pbar:\n",
    "        inputs, targets = inputs.to(device), targets.to(torch.float32).to(device)\n",
    "        optimizer.zero_grad()\n",
    "        outputs = model(inputs)\n",
    "        #print(outputs.shape)\n",
    "\n",
    "#         outputs_onehot = torch.zeros(d_output).to(device)\n",
    "#         print(outputs.shape)\n",
    "#         idx = torch.argmax(outputs,dim=1)\n",
    "#         #print(idx)\n",
    "#         outputs_onehot[idx] = 1\n",
    "#         outputs_onehot.to(device)\n",
    "#         print(outputs_onehot.shape)\n",
    "#         print(targets.shape)\n",
    "        \n",
    "        \n",
    "        predicted_indices = torch.argmax(outputs, dim=1).to(device)\n",
    "        one_hot_encoded = torch.nn.functional.one_hot(predicted_indices, num_classes=10).to(torch.float32).to(device)\n",
    "        #loss = criterion(one_hot_encoded, targets)\n",
    "        loss = criterion(outputs, targets)\n",
    "        \n",
    "        loss.backward()\n",
    "        optimizer.step()\n",
    "\n",
    "        train_loss += loss.item()\n",
    "        _, predicted = outputs.max(0)\n",
    "        total += targets.size(0)\n",
    "        \n",
    "        #print(predicted)\n",
    "        \n",
    "        #print(predicted.eq(targets).sum().item())\n",
    "        \n",
    "        correct += predicted.eq(targets).sum().item()\n",
    "\n",
    "        pbar.set_description(\n",
    "            'Batch Idx: (%d/%d) | Loss: %.3f | Acc: %.3f%% (%d/%d)' %\n",
    "            (batch_idx, len(trainloader), train_loss/(batch_idx+1), 100.*correct/total, correct, total)\n",
    "        )"
   ]
  },
  {
   "cell_type": "markdown",
   "id": "f6737cf3b3852db6",
   "metadata": {},
   "source": [
    "# Set eval() function"
   ]
  },
  {
   "cell_type": "code",
   "execution_count": 62,
   "id": "337202de39ba4877",
   "metadata": {},
   "outputs": [],
   "source": [
    "def eval(epoch, dataloader, checkpoint=False):\n",
    "    global best_acc\n",
    "    model.eval()\n",
    "    eval_loss = 0\n",
    "    correct = 0\n",
    "    total = 0\n",
    "    with torch.no_grad():\n",
    "        pbar = tqdm(enumerate(dataloader))\n",
    "        for batch_idx, (inputs, targets) in pbar:\n",
    "            inputs, targets = inputs.to(device), targets.to(torch.float32).to(device)\n",
    "            outputs = model(inputs)\n",
    "            \n",
    "#             outputs_onehot = torch.zeros(d_output)\n",
    "#             idx = torch.argmax(outputs,dim=1)\n",
    "#             #print(idx)\n",
    "#             outputs_onehot[idx] = 1\n",
    "#             outputs_onehot.to(device)\n",
    "\n",
    "            predicted_indices = torch.argmax(outputs, dim=1).to(device)\n",
    "            one_hot_encoded = torch.nn.functional.one_hot(predicted_indices, num_classes=10).to(torch.float32).to(device)\n",
    "        \n",
    "            #loss = criterion(one_hot_encoded, targets)\n",
    "            loss = criterion(outputs, targets)\n",
    "\n",
    "            eval_loss += loss.item()\n",
    "            _, predicted = outputs.max(0)\n",
    "            total += targets.size(0)\n",
    "            correct += predicted.eq(targets).sum().item()\n",
    "\n",
    "            pbar.set_description(\n",
    "                'Batch Idx: (%d/%d) | Loss: %.3f | Acc: %.3f%% (%d/%d)' %\n",
    "                (batch_idx, len(dataloader), eval_loss/(batch_idx+1), 100.*correct/total, correct, total)\n",
    "            )\n",
    "\n",
    "    # Save checkpoint.\n",
    "    if checkpoint:\n",
    "        acc = 100.*correct/total\n",
    "        if acc > best_acc:\n",
    "            state = {\n",
    "                'model': model.state_dict(),\n",
    "                'acc': acc,\n",
    "                'epoch': epoch,\n",
    "            }\n",
    "            if not os.path.isdir('checkpoint'):\n",
    "                os.mkdir('checkpoint')\n",
    "            torch.save(state, './checkpoint/ckpt.pth')\n",
    "            best_acc = acc\n",
    "\n",
    "        return acc"
   ]
  },
  {
   "cell_type": "markdown",
   "id": "8fe4214238886351",
   "metadata": {},
   "source": [
    "# Run training and evaluation"
   ]
  },
  {
   "cell_type": "code",
   "execution_count": 63,
   "id": "6816838ac1478db0",
   "metadata": {},
   "outputs": [
    {
     "data": {
      "application/vnd.jupyter.widget-view+json": {
       "model_id": "ea9a3d62dc6342bd9ee9de845b0bf7c8",
       "version_major": 2,
       "version_minor": 0
      },
      "text/plain": [
       "  0%|          | 0/100 [00:00<?, ?it/s]"
      ]
     },
     "metadata": {},
     "output_type": "display_data"
    },
    {
     "data": {
      "application/vnd.jupyter.widget-view+json": {
       "model_id": "e5611ce018ce44a1ac2a447c0e97a7bc",
       "version_major": 2,
       "version_minor": 0
      },
      "text/plain": [
       "0it [00:00, ?it/s]"
      ]
     },
     "metadata": {},
     "output_type": "display_data"
    },
    {
     "data": {
      "application/vnd.jupyter.widget-view+json": {
       "model_id": "a3f08cb82fc74080a5119338c972aacb",
       "version_major": 2,
       "version_minor": 0
      },
      "text/plain": [
       "0it [00:00, ?it/s]"
      ]
     },
     "metadata": {},
     "output_type": "display_data"
    },
    {
     "ename": "RuntimeError",
     "evalue": "The size of tensor a (4) must match the size of tensor b (10) at non-singleton dimension 1",
     "output_type": "error",
     "traceback": [
      "\u001b[0;31m---------------------------------------------------------------------------\u001b[0m",
      "\u001b[0;31mRuntimeError\u001b[0m                              Traceback (most recent call last)",
      "Cell \u001b[0;32mIn[63], line 8\u001b[0m\n\u001b[1;32m      6\u001b[0m     pbar\u001b[38;5;241m.\u001b[39mset_description(\u001b[38;5;124m'\u001b[39m\u001b[38;5;124mEpoch: \u001b[39m\u001b[38;5;132;01m%d\u001b[39;00m\u001b[38;5;124m | Val acc: \u001b[39m\u001b[38;5;132;01m%1.3f\u001b[39;00m\u001b[38;5;124m'\u001b[39m \u001b[38;5;241m%\u001b[39m (epoch, val_acc))\n\u001b[1;32m      7\u001b[0m train()\n\u001b[0;32m----> 8\u001b[0m val_acc \u001b[38;5;241m=\u001b[39m \u001b[38;5;28;43meval\u001b[39;49m\u001b[43m(\u001b[49m\u001b[43mepoch\u001b[49m\u001b[43m,\u001b[49m\u001b[43m \u001b[49m\u001b[43mvalloader\u001b[49m\u001b[43m,\u001b[49m\u001b[43m \u001b[49m\u001b[43mcheckpoint\u001b[49m\u001b[38;5;241;43m=\u001b[39;49m\u001b[38;5;28;43;01mTrue\u001b[39;49;00m\u001b[43m)\u001b[49m\n\u001b[1;32m      9\u001b[0m \u001b[38;5;28meval\u001b[39m(epoch, testloader)\n\u001b[1;32m     10\u001b[0m scheduler\u001b[38;5;241m.\u001b[39mstep()\n",
      "Cell \u001b[0;32mIn[62], line 28\u001b[0m, in \u001b[0;36meval\u001b[0;34m(epoch, dataloader, checkpoint)\u001b[0m\n\u001b[1;32m     26\u001b[0m         _, predicted \u001b[38;5;241m=\u001b[39m outputs\u001b[38;5;241m.\u001b[39mmax(\u001b[38;5;241m1\u001b[39m)\n\u001b[1;32m     27\u001b[0m         total \u001b[38;5;241m+\u001b[39m\u001b[38;5;241m=\u001b[39m targets\u001b[38;5;241m.\u001b[39msize(\u001b[38;5;241m0\u001b[39m)\n\u001b[0;32m---> 28\u001b[0m         correct \u001b[38;5;241m+\u001b[39m\u001b[38;5;241m=\u001b[39m \u001b[43mpredicted\u001b[49m\u001b[38;5;241;43m.\u001b[39;49m\u001b[43meq\u001b[49m\u001b[43m(\u001b[49m\u001b[43mtargets\u001b[49m\u001b[43m)\u001b[49m\u001b[38;5;241m.\u001b[39msum()\u001b[38;5;241m.\u001b[39mitem()\n\u001b[1;32m     30\u001b[0m         pbar\u001b[38;5;241m.\u001b[39mset_description(\n\u001b[1;32m     31\u001b[0m             \u001b[38;5;124m'\u001b[39m\u001b[38;5;124mBatch Idx: (\u001b[39m\u001b[38;5;132;01m%d\u001b[39;00m\u001b[38;5;124m/\u001b[39m\u001b[38;5;132;01m%d\u001b[39;00m\u001b[38;5;124m) | Loss: \u001b[39m\u001b[38;5;132;01m%.3f\u001b[39;00m\u001b[38;5;124m | Acc: \u001b[39m\u001b[38;5;132;01m%.3f\u001b[39;00m\u001b[38;5;132;01m%%\u001b[39;00m\u001b[38;5;124m (\u001b[39m\u001b[38;5;132;01m%d\u001b[39;00m\u001b[38;5;124m/\u001b[39m\u001b[38;5;132;01m%d\u001b[39;00m\u001b[38;5;124m)\u001b[39m\u001b[38;5;124m'\u001b[39m \u001b[38;5;241m%\u001b[39m\n\u001b[1;32m     32\u001b[0m             (batch_idx, \u001b[38;5;28mlen\u001b[39m(dataloader), eval_loss\u001b[38;5;241m/\u001b[39m(batch_idx\u001b[38;5;241m+\u001b[39m\u001b[38;5;241m1\u001b[39m), \u001b[38;5;241m100.\u001b[39m\u001b[38;5;241m*\u001b[39mcorrect\u001b[38;5;241m/\u001b[39mtotal, correct, total)\n\u001b[1;32m     33\u001b[0m         )\n\u001b[1;32m     35\u001b[0m \u001b[38;5;66;03m# Save checkpoint.\u001b[39;00m\n",
      "\u001b[0;31mRuntimeError\u001b[0m: The size of tensor a (4) must match the size of tensor b (10) at non-singleton dimension 1"
     ]
    }
   ],
   "source": [
    "pbar = tqdm(range(start_epoch, epochs))\n",
    "for epoch in pbar:\n",
    "    if epoch == 0:\n",
    "        pbar.set_description('Epoch: %d' % (epoch))\n",
    "    else:\n",
    "        pbar.set_description('Epoch: %d | Val acc: %1.3f' % (epoch, val_acc))\n",
    "    train()\n",
    "    val_acc = eval(epoch, valloader, checkpoint=True)\n",
    "    eval(epoch, testloader)\n",
    "    scheduler.step()"
   ]
  },
  {
   "cell_type": "code",
   "execution_count": null,
   "id": "5522c08f",
   "metadata": {},
   "outputs": [],
   "source": []
  }
 ],
 "metadata": {
  "kernelspec": {
   "display_name": "Python 3 (ipykernel)",
   "language": "python",
   "name": "python3"
  },
  "language_info": {
   "codemirror_mode": {
    "name": "ipython",
    "version": 3
   },
   "file_extension": ".py",
   "mimetype": "text/x-python",
   "name": "python",
   "nbconvert_exporter": "python",
   "pygments_lexer": "ipython3",
   "version": "3.10.12"
  }
 },
 "nbformat": 4,
 "nbformat_minor": 5
}
