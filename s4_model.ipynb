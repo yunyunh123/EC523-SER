{
 "cells": [
  {
   "cell_type": "markdown",
   "source": [
    "This notebook is for S4 architecture building"
   ],
   "metadata": {
    "collapsed": false
   },
   "id": "c00ff9b56646f4fc"
  },
  {
   "cell_type": "markdown",
   "source": [
    "# Settings"
   ],
   "metadata": {
    "collapsed": false
   },
   "id": "64ff8dd447de5ae3"
  },
  {
   "cell_type": "code",
   "outputs": [],
   "source": [
    "! pip install einops"
   ],
   "metadata": {
    "collapsed": false
   },
   "id": "a5d487b376a3022f"
  },
  {
   "cell_type": "code",
   "outputs": [],
   "source": [
    "import os\n",
    "import os.path as op\n",
    "\n",
    "# Settings\n",
    "# Presets from S4 example\n",
    "n_layers=4\n",
    "d_model=128 # Model dimension\n",
    "dropout=0.1\n",
    "prenorm=True\n",
    "batch_size=64\n",
    "num_workers=4\n",
    "\n",
    "d_input = 1 # Because input is grayscale image. Make 3 for RGB\n",
    "d_output = 10\n",
    "\n",
    "# Use to load from a checkpoint\n",
    "start_epoch = 0\n",
    "\n",
    "fs = 16000\n",
    "\n",
    "lr = 1e-2\n",
    "weight_decay = 1e-2\n",
    "epochs=100\n",
    "\n",
    "import torch\n",
    "device = 'cuda' if torch.cuda.is_available() else 'cpu'\n",
    "\n",
    "# Specify the directory you want the datasets to be contained in\n",
    "pdir=\"/Users/noahmarkowitz/Documents/GitHub/EC523-SER\"\n",
    "dataset_dir = op.join(pdir,\"datasets\")\n",
    "\n"
   ],
   "metadata": {
    "collapsed": false,
    "ExecuteTime": {
     "end_time": "2024-04-20T18:17:17.419180Z",
     "start_time": "2024-04-20T18:17:17.414711Z"
    }
   },
   "id": "9b17bbe13f1d022e",
   "execution_count": 1
  },
  {
   "cell_type": "markdown",
   "source": [
    "# Test DataLoader"
   ],
   "metadata": {
    "collapsed": false
   },
   "id": "47d6835928f677fb"
  },
  {
   "cell_type": "code",
   "outputs": [],
   "source": [
    "from torch.utils.data import DataLoader\n",
    "from dataset import download_datasets, SpeechEmotionDataset, get_dataset_info\n",
    "\n",
    "import torchaudio.transforms as t\n",
    "from tqdm.auto import tqdm\n",
    "\n",
    "# Download a single dataset\n",
    "#download_datasets(dataset_dir)\n",
    "\n",
    "# Download the rest of the datasets available\n",
    "#download_datasets(dataset_dir)\n",
    "\n",
    "# Acquire info on datasets (those that have functions to get data for)\n",
    "df = get_dataset_info(dataset_dir)\n",
    "\n",
    "# Make into a Dataset object that a pytorch optimizer can use\n",
    "# Can optionally specify a sampling rate for all audio files to be in\n",
    "transforms = t.Spectrogram(n_fft=400)\n",
    "trainset = SpeechEmotionDataset(df, fs=16000, transform=transforms)"
   ],
   "metadata": {
    "collapsed": false,
    "ExecuteTime": {
     "end_time": "2024-04-20T18:17:20.843095Z",
     "start_time": "2024-04-20T18:17:19.875530Z"
    }
   },
   "id": "960ae1941ac65cb",
   "execution_count": 2
  },
  {
   "cell_type": "code",
   "outputs": [
    {
     "data": {
      "text/plain": "tensor([0, 0, 0, 0, 0, 0, 0, 1, 0, 0], dtype=torch.uint8)"
     },
     "execution_count": 3,
     "metadata": {},
     "output_type": "execute_result"
    }
   ],
   "source": [
    "# Check it works\n",
    "dataiter = iter(trainset)\n",
    "data, label = next(dataiter)\n",
    "label"
   ],
   "metadata": {
    "collapsed": false,
    "ExecuteTime": {
     "end_time": "2024-04-20T18:17:22.702200Z",
     "start_time": "2024-04-20T18:17:22.692891Z"
    }
   },
   "id": "6047ecf19136748b",
   "execution_count": 3
  },
  {
   "cell_type": "code",
   "outputs": [
    {
     "name": "stderr",
     "output_type": "stream",
     "text": [
      "/var/folders/rs/p4pk0t6n79ngxmbf15cw7qqr0000gn/T/ipykernel_5552/3924606560.py:2: UserWarning: Only one segment is calculated since parameter NFFT (=256) >= signal length (=201).\n",
      "  plt.specgram(data.numpy())\n"
     ]
    },
    {
     "data": {
      "text/plain": "<Figure size 640x480 with 1 Axes>",
      "image/png": "[encoded data removed]"
     },
     "metadata": {},
     "output_type": "display_data"
    }
   ],
   "source": [
    "import matplotlib.pyplot as plt\n",
    "plt.specgram(data.numpy())\n",
    "plt.show()"
   ],
   "metadata": {
    "collapsed": false,
    "ExecuteTime": {
     "end_time": "2024-04-20T17:37:17.622904Z",
     "start_time": "2024-04-20T17:37:17.335442Z"
    }
   },
   "id": "7eab8c156d4277e8",
   "execution_count": 3
  },
  {
   "cell_type": "code",
   "outputs": [],
   "source": [
    "trainloader = DataLoader(trainset, batch_size=4, shuffle=True, num_workers=4)\n"
   ],
   "metadata": {
    "collapsed": false,
    "ExecuteTime": {
     "end_time": "2024-04-20T17:37:19.886272Z",
     "start_time": "2024-04-20T17:37:19.881050Z"
    }
   },
   "id": "ac37821138265e83",
   "execution_count": 4
  },
  {
   "cell_type": "markdown",
   "source": [
    "# Get dataset as pandas dataframe and filter"
   ],
   "metadata": {
    "collapsed": false
   },
   "id": "1af311d93f47dbfd"
  },
  {
   "cell_type": "code",
   "outputs": [],
   "source": [
    "# Acquire info on datasets (those that have functions to get data for)\n",
    "df = get_dataset_info(dataset_dir)\n",
    "#df = df[ df[\"language\"]!=\"persian\",:]\n",
    "df = df.drop(df[df.language==\"persian\"].index)\n",
    "df"
   ],
   "metadata": {
    "collapsed": false
   },
   "id": "21d73d9518ef30e2"
  },
  {
   "cell_type": "markdown",
   "source": [
    "# Create DataLoaders for train, test, eval"
   ],
   "metadata": {
    "collapsed": false
   },
   "id": "4747d3971f3cde41"
  },
  {
   "cell_type": "code",
   "outputs": [],
   "source": [
    "def split_train_val(train, val_split):\n",
    "    train_len = int(len(train) * (1.0-val_split))\n",
    "    train, val = torch.utils.data.random_split(\n",
    "        train,\n",
    "        (train_len, len(train) - train_len),\n",
    "        generator=torch.Generator().manual_seed(42),\n",
    "    )\n",
    "    return train, val\n",
    "\n",
    "\n",
    "# Specify transforms to use\n",
    "transforms = t.Spectrogram(n_fft=400)\n",
    "\n",
    "# Make trainset\n",
    "trainset = SpeechEmotionDataset(df, fs=fs, transform=transforms)\n",
    "trainset, _ = split_train_val(trainset, val_split=0.1)\n",
    "trainloader = DataLoader(trainset, batch_size=batch_size, shuffle=True, num_workers=num_workers)\n",
    "\n",
    "# Make valset\n",
    "valset = SpeechEmotionDataset(df, fs=fs, transform=transforms)\n",
    "_, valset = split_train_val(valset, val_split=0.1)\n",
    "valloader = DataLoader(valset, batch_size=batch_size, shuffle=False, num_workers=num_workers)\n",
    "\n",
    "# Make testset\n",
    "testset = SpeechEmotionDataset(df, fs=fs, transform=transforms)\n",
    "testloader = DataLoader(testset, batch_size=batch_size, shuffle=False, num_workers=num_workers)"
   ],
   "metadata": {
    "collapsed": false
   },
   "id": "82ebb02e74f9a32d"
  },
  {
   "cell_type": "markdown",
   "source": [
    "# Create S4 model"
   ],
   "metadata": {
    "collapsed": false
   },
   "id": "84aabd5e8e672e6a"
  },
  {
   "cell_type": "code",
   "outputs": [],
   "source": [
    "import torch\n",
    "import torch.nn as nn\n",
    "import torch.optim as optim\n",
    "import torch.backends.cudnn as cudnn\n",
    "from s4.models.s4.s4d import S4D\n",
    "\n",
    "\n",
    "# Dropout broke in PyTorch 1.11\n",
    "if tuple(map(int, torch.__version__.split('.')[:2])) == (1, 11):\n",
    "    print(\"WARNING: Dropout is bugged in PyTorch 1.11. Results may be worse.\")\n",
    "    dropout_fn = nn.Dropout\n",
    "if tuple(map(int, torch.__version__.split('.')[:2])) >= (1, 12):\n",
    "    dropout_fn = nn.Dropout1d\n",
    "else:\n",
    "    dropout_fn = nn.Dropout2d\n",
    "    \n",
    "\n",
    "class S4Model(nn.Module):\n",
    "\n",
    "    def __init__(\n",
    "        self,\n",
    "        d_input,\n",
    "        d_output=10,\n",
    "        d_model=256,\n",
    "        n_layers=4,\n",
    "        dropout=0.2,\n",
    "        prenorm=False,\n",
    "        lr=1-2\n",
    "    ):\n",
    "        super().__init__()\n",
    "\n",
    "        self.prenorm = prenorm\n",
    "\n",
    "        # Linear encoder (d_input = 1 for grayscale and 3 for RGB)\n",
    "        self.encoder = nn.Linear(d_input, d_model)\n",
    "\n",
    "        # Stack S4 layers as residual blocks\n",
    "        self.s4_layers = nn.ModuleList()\n",
    "        self.norms = nn.ModuleList()\n",
    "        self.dropouts = nn.ModuleList()\n",
    "        for _ in range(n_layers):\n",
    "            self.s4_layers.append(\n",
    "                S4D(d_model, dropout=dropout, transposed=True, lr=min(0.001, lr))\n",
    "            )\n",
    "            self.norms.append(nn.LayerNorm(d_model))\n",
    "            self.dropouts.append(dropout_fn(dropout))\n",
    "\n",
    "        # Linear decoder\n",
    "        self.decoder = nn.Linear(d_model, d_output)\n",
    "\n",
    "    def forward(self, x):\n",
    "        \"\"\"\n",
    "        Input x is shape (B, L, d_input)\n",
    "        \"\"\"\n",
    "        x = self.encoder(x)  # (B, L, d_input) -> (B, L, d_model)\n",
    "\n",
    "        x = x.transpose(-1, -2)  # (B, L, d_model) -> (B, d_model, L)\n",
    "        for layer, norm, dropout in zip(self.s4_layers, self.norms, self.dropouts):\n",
    "            # Each iteration of this loop will map (B, d_model, L) -> (B, d_model, L)\n",
    "\n",
    "            z = x\n",
    "            if self.prenorm:\n",
    "                # Prenorm\n",
    "                z = norm(z.transpose(-1, -2)).transpose(-1, -2)\n",
    "\n",
    "            # Apply S4 block: we ignore the state input and output\n",
    "            z, _ = layer(z)\n",
    "\n",
    "            # Dropout on the output of the S4 block\n",
    "            z = dropout(z)\n",
    "\n",
    "            # Residual connection\n",
    "            x = z + x\n",
    "\n",
    "            if not self.prenorm:\n",
    "                # Postnorm\n",
    "                x = norm(x.transpose(-1, -2)).transpose(-1, -2)\n",
    "\n",
    "        x = x.transpose(-1, -2)\n",
    "\n",
    "        # Pooling: average pooling over the sequence length\n",
    "        x = x.mean(dim=1)\n",
    "\n",
    "        # Decode the outputs\n",
    "        x = self.decoder(x)  # (B, d_model) -> (B, d_output)\n",
    "\n",
    "        return x\n"
   ],
   "metadata": {
    "collapsed": false
   },
   "id": "c13251c1d7f15b17"
  },
  {
   "cell_type": "code",
   "outputs": [],
   "source": [
    "# Model\n",
    "print('==> Building model..')\n",
    "model = S4Model(\n",
    "    d_input=d_input,\n",
    "    d_output=d_output,\n",
    "    d_model=d_model,\n",
    "    n_layers=n_layers,\n",
    "    dropout=dropout,\n",
    "    prenorm=prenorm,\n",
    "    lr=lr\n",
    ")\n",
    "\n",
    "model = model.to(device)\n",
    "if device == 'cuda':\n",
    "    cudnn.benchmark = True"
   ],
   "metadata": {
    "collapsed": false
   },
   "id": "98dfb16954b11c2a"
  },
  {
   "cell_type": "markdown",
   "source": [
    "# Setup Optimizer and Loss function"
   ],
   "metadata": {
    "collapsed": false
   },
   "id": "7085a126464f2f70"
  },
  {
   "cell_type": "code",
   "outputs": [],
   "source": [
    "def setup_optimizer(model, lr, weight_decay, epochs):\n",
    "    \"\"\"\n",
    "    S4 requires a specific optimizer setup.\n",
    "\n",
    "    The S4 layer (A, B, C, dt) parameters typically\n",
    "    require a smaller learning rate (typically 0.001), with no weight decay.\n",
    "\n",
    "    The rest of the model can be trained with a higher learning rate (e.g. 0.004, 0.01)\n",
    "    and weight decay (if desired).\n",
    "    \"\"\"\n",
    "\n",
    "    # All parameters in the model\n",
    "    all_parameters = list(model.parameters())\n",
    "\n",
    "    # General parameters don't contain the special _optim key\n",
    "    params = [p for p in all_parameters if not hasattr(p, \"_optim\")]\n",
    "\n",
    "    # Create an optimizer with the general parameters\n",
    "    optimizer = optim.AdamW(params, lr=lr, weight_decay=weight_decay)\n",
    "\n",
    "    # Add parameters with special hyperparameters\n",
    "    hps = [getattr(p, \"_optim\") for p in all_parameters if hasattr(p, \"_optim\")]\n",
    "    hps = [\n",
    "        dict(s) for s in sorted(list(dict.fromkeys(frozenset(hp.items()) for hp in hps)))\n",
    "    ]  # Unique dicts\n",
    "    for hp in hps:\n",
    "        params = [p for p in all_parameters if getattr(p, \"_optim\", None) == hp]\n",
    "        optimizer.add_param_group(\n",
    "            {\"params\": params, **hp}\n",
    "        )\n",
    "\n",
    "    # Create a lr scheduler\n",
    "    # scheduler = torch.optim.lr_scheduler.ReduceLROnPlateau(optimizer, patience=patience, factor=0.2)\n",
    "    scheduler = torch.optim.lr_scheduler.CosineAnnealingLR(optimizer, epochs)\n",
    "\n",
    "    # Print optimizer info\n",
    "    keys = sorted(set([k for hp in hps for k in hp.keys()]))\n",
    "    for i, g in enumerate(optimizer.param_groups):\n",
    "        group_hps = {k: g.get(k, None) for k in keys}\n",
    "        print(' | '.join([\n",
    "            f\"Optimizer group {i}\",\n",
    "            f\"{len(g['params'])} tensors\",\n",
    "        ] + [f\"{k} {v}\" for k, v in group_hps.items()]))\n",
    "\n",
    "    return optimizer, scheduler"
   ],
   "metadata": {
    "collapsed": false
   },
   "id": "11fc219defba3e1e"
  },
  {
   "cell_type": "code",
   "outputs": [],
   "source": [
    "criterion = nn.CrossEntropyLoss()\n",
    "optimizer, scheduler = setup_optimizer(\n",
    "    model, lr=lr, weight_decay=weight_decay, epochs=epochs\n",
    ")"
   ],
   "metadata": {
    "collapsed": false
   },
   "id": "1364b2330406ab40"
  },
  {
   "cell_type": "markdown",
   "source": [
    "# Set train() function"
   ],
   "metadata": {
    "collapsed": false
   },
   "id": "a7b3be9bfb598c1f"
  },
  {
   "cell_type": "code",
   "outputs": [],
   "source": [
    "def train():\n",
    "    model.train()\n",
    "    train_loss = 0\n",
    "    correct = 0\n",
    "    total = 0\n",
    "    pbar = tqdm(enumerate(trainloader))\n",
    "    for batch_idx, (inputs, targets) in pbar:\n",
    "        inputs, targets = inputs.to(device), targets.to(device)\n",
    "        optimizer.zero_grad()\n",
    "        outputs = model(inputs)\n",
    "        loss = criterion(outputs, targets)\n",
    "        loss.backward()\n",
    "        optimizer.step()\n",
    "\n",
    "        train_loss += loss.item()\n",
    "        _, predicted = outputs.max(1)\n",
    "        total += targets.size(0)\n",
    "        correct += predicted.eq(targets).sum().item()\n",
    "\n",
    "        pbar.set_description(\n",
    "            'Batch Idx: (%d/%d) | Loss: %.3f | Acc: %.3f%% (%d/%d)' %\n",
    "            (batch_idx, len(trainloader), train_loss/(batch_idx+1), 100.*correct/total, correct, total)\n",
    "        )"
   ],
   "metadata": {
    "collapsed": false
   },
   "id": "ca5069882fb3d1b0"
  },
  {
   "cell_type": "markdown",
   "source": [
    "# Set eval() function"
   ],
   "metadata": {
    "collapsed": false
   },
   "id": "f6737cf3b3852db6"
  },
  {
   "cell_type": "code",
   "outputs": [],
   "source": [
    "def eval(epoch, dataloader, checkpoint=False):\n",
    "    global best_acc\n",
    "    model.eval()\n",
    "    eval_loss = 0\n",
    "    correct = 0\n",
    "    total = 0\n",
    "    with torch.no_grad():\n",
    "        pbar = tqdm(enumerate(dataloader))\n",
    "        for batch_idx, (inputs, targets) in pbar:\n",
    "            inputs, targets = inputs.to(device), targets.to(device)\n",
    "            outputs = model(inputs)\n",
    "            loss = criterion(outputs, targets)\n",
    "\n",
    "            eval_loss += loss.item()\n",
    "            _, predicted = outputs.max(1)\n",
    "            total += targets.size(0)\n",
    "            correct += predicted.eq(targets).sum().item()\n",
    "\n",
    "            pbar.set_description(\n",
    "                'Batch Idx: (%d/%d) | Loss: %.3f | Acc: %.3f%% (%d/%d)' %\n",
    "                (batch_idx, len(dataloader), eval_loss/(batch_idx+1), 100.*correct/total, correct, total)\n",
    "            )\n",
    "\n",
    "    # Save checkpoint.\n",
    "    if checkpoint:\n",
    "        acc = 100.*correct/total\n",
    "        if acc > best_acc:\n",
    "            state = {\n",
    "                'model': model.state_dict(),\n",
    "                'acc': acc,\n",
    "                'epoch': epoch,\n",
    "            }\n",
    "            if not os.path.isdir('checkpoint'):\n",
    "                os.mkdir('checkpoint')\n",
    "            torch.save(state, './checkpoint/ckpt.pth')\n",
    "            best_acc = acc\n",
    "\n",
    "        return acc"
   ],
   "metadata": {
    "collapsed": false
   },
   "id": "337202de39ba4877"
  },
  {
   "cell_type": "markdown",
   "source": [
    "# Run training and evaluation"
   ],
   "metadata": {
    "collapsed": false
   },
   "id": "8fe4214238886351"
  },
  {
   "cell_type": "code",
   "outputs": [],
   "source": [
    "pbar = tqdm(range(start_epoch, epochs))\n",
    "for epoch in pbar:\n",
    "    if epoch == 0:\n",
    "        pbar.set_description('Epoch: %d' % (epoch))\n",
    "    else:\n",
    "        pbar.set_description('Epoch: %d | Val acc: %1.3f' % (epoch, val_acc))\n",
    "    train()\n",
    "    val_acc = eval(epoch, valloader, checkpoint=True)\n",
    "    eval(epoch, testloader)\n",
    "    scheduler.step()"
   ],
   "metadata": {
    "collapsed": false
   },
   "id": "6816838ac1478db0"
  }
 ],
 "metadata": {
  "kernelspec": {
   "display_name": "Python 3",
   "language": "python",
   "name": "python3"
  },
  "language_info": {
   "codemirror_mode": {
    "name": "ipython",
    "version": 2
   },
   "file_extension": ".py",
   "mimetype": "text/x-python",
   "name": "python",
   "nbconvert_exporter": "python",
   "pygments_lexer": "ipython2",
   "version": "2.7.6"
  }
 },
 "nbformat": 4,
 "nbformat_minor": 5
}
